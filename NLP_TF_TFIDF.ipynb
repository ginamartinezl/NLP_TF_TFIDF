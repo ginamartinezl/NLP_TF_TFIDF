{
  "cells": [
    {
      "attachments": {},
      "cell_type": "markdown",
      "metadata": {
        "id": "EfZhl2yRCw3f"
      },
      "source": [
        "# NLP\n",
        "\n",
        "*Gina Martínez López*\n",
        "\n",
        "Considere la siguiente base\n",
        "\n",
        "\"https://raw.githubusercontent.com/Fabian830348/Bases_Datos/master/tweets.csv\"\n",
        "\n",
        "Estos tweets estan clasificados como: *positivos*, *neutros* o *negativos*\n",
        "\n",
        "**Objetivos**\n",
        "\n",
        "- Aplicar las técnicas de limpieza para normalizar un texto\n",
        "\n",
        "- Reconocer los elementos de la creación de una bolsa de palabras por **TF** y por **TF-iDF**.\n",
        "\n",
        "- Aplicar Naive-Bayes para clasificar textos y comparar los resultados de NB con otros algoritmos.\n"
      ]
    },
    {
      "attachments": {},
      "cell_type": "markdown",
      "metadata": {
        "id": "k1eKTVJhG0qK"
      },
      "source": [
        "## Punto 1\n",
        "\n",
        "**a) Gráfico de barras de la clasificación de comentarios. ¿Cuántos positivos, negativo y neutros?**"
      ]
    },
    {
      "cell_type": "code",
      "execution_count": null,
      "metadata": {
        "colab": {
          "base_uri": "https://localhost:8080/"
        },
        "id": "VN53YXyVMtXD",
        "outputId": "d0109516-1e13-4df5-837f-ca5fe1f20061"
      },
      "outputs": [
        {
          "name": "stdout",
          "output_type": "stream",
          "text": [
            "Looking in indexes: https://pypi.org/simple, https://us-python.pkg.dev/colab-wheels/public/simple/\n",
            "Collecting Unidecode\n",
            "  Downloading Unidecode-1.3.6-py3-none-any.whl (235 kB)\n",
            "\u001b[2K     \u001b[90m━━━━━━━━━━━━━━━━━━━━━━━━━━━━━━━━━━━━━━━\u001b[0m \u001b[32m235.9/235.9 KB\u001b[0m \u001b[31m4.4 MB/s\u001b[0m eta \u001b[36m0:00:00\u001b[0m\n",
            "\u001b[?25hInstalling collected packages: Unidecode\n",
            "Successfully installed Unidecode-1.3.6\n"
          ]
        }
      ],
      "source": [
        "pip install Unidecode"
      ]
    },
    {
      "cell_type": "code",
      "execution_count": null,
      "metadata": {
        "colab": {
          "base_uri": "https://localhost:8080/"
        },
        "id": "aiNTRtKXG0qM",
        "outputId": "0210ce94-9849-4763-b36a-6fc59f7cbd1d"
      },
      "outputs": [
        {
          "name": "stderr",
          "output_type": "stream",
          "text": [
            "[nltk_data] Downloading package punkt to /root/nltk_data...\n",
            "[nltk_data]   Unzipping tokenizers/punkt.zip.\n",
            "[nltk_data] Downloading package stopwords to /root/nltk_data...\n",
            "[nltk_data]   Unzipping corpora/stopwords.zip.\n",
            "[nltk_data] Downloading package averaged_perceptron_tagger to\n",
            "[nltk_data]     /root/nltk_data...\n",
            "[nltk_data]   Unzipping taggers/averaged_perceptron_tagger.zip.\n"
          ]
        }
      ],
      "source": [
        "import pandas as pd\n",
        "import matplotlib.pyplot as plt\n",
        "import warnings\n",
        "import re\n",
        "import nltk\n",
        "from nltk.corpus import stopwords\n",
        "import itertools\n",
        "from unidecode import unidecode\n",
        "import csv\n",
        "import numpy as np\n",
        "from sklearn.feature_extraction.text import TfidfVectorizer\n",
        "from sklearn.feature_extraction.text import CountVectorizer\n",
        "from sklearn import metrics\n",
        "import seaborn as sns\n",
        "\n",
        "nltk.download('punkt')\n",
        "nltk.download('stopwords')\n",
        "nltk.download('averaged_perceptron_tagger')\n",
        "\n",
        "warnings.filterwarnings('ignore')\n",
        "%matplotlib inline"
      ]
    },
    {
      "cell_type": "code",
      "execution_count": null,
      "metadata": {
        "colab": {
          "base_uri": "https://localhost:8080/",
          "height": 206
        },
        "id": "JLh4HjbWG0qO",
        "outputId": "a466e1ea-0712-4677-9d24-1b8b74c69fbd"
      },
      "outputs": [
        {
          "data": {
            "text/html": [
              "\n",
              "  <div id=\"df-0bcbd8b2-ee8e-4e3e-a28a-b57779498bdf\">\n",
              "    <div class=\"colab-df-container\">\n",
              "      <div>\n",
              "<style scoped>\n",
              "    .dataframe tbody tr th:only-of-type {\n",
              "        vertical-align: middle;\n",
              "    }\n",
              "\n",
              "    .dataframe tbody tr th {\n",
              "        vertical-align: top;\n",
              "    }\n",
              "\n",
              "    .dataframe thead th {\n",
              "        text-align: right;\n",
              "    }\n",
              "</style>\n",
              "<table border=\"1\" class=\"dataframe\">\n",
              "  <thead>\n",
              "    <tr style=\"text-align: right;\">\n",
              "      <th></th>\n",
              "      <th>tweet_text</th>\n",
              "      <th>emotion_in_tweet_is_directed_at</th>\n",
              "      <th>is_there_an_emotion_directed_at_a_brand_or_product</th>\n",
              "    </tr>\n",
              "  </thead>\n",
              "  <tbody>\n",
              "    <tr>\n",
              "      <th>0</th>\n",
              "      <td>.@wesley83 I have a 3G iPhone. After 3 hrs twe...</td>\n",
              "      <td>iPhone</td>\n",
              "      <td>Negative emotion</td>\n",
              "    </tr>\n",
              "    <tr>\n",
              "      <th>1</th>\n",
              "      <td>@jessedee Know about @fludapp ? Awesome iPad/i...</td>\n",
              "      <td>iPad or iPhone App</td>\n",
              "      <td>Positive emotion</td>\n",
              "    </tr>\n",
              "    <tr>\n",
              "      <th>2</th>\n",
              "      <td>@swonderlin Can not wait for #iPad 2 also. The...</td>\n",
              "      <td>iPad</td>\n",
              "      <td>Positive emotion</td>\n",
              "    </tr>\n",
              "    <tr>\n",
              "      <th>3</th>\n",
              "      <td>@sxsw I hope this year's festival isn't as cra...</td>\n",
              "      <td>iPad or iPhone App</td>\n",
              "      <td>Negative emotion</td>\n",
              "    </tr>\n",
              "    <tr>\n",
              "      <th>4</th>\n",
              "      <td>@sxtxstate great stuff on Fri #SXSW: Marissa M...</td>\n",
              "      <td>Google</td>\n",
              "      <td>Positive emotion</td>\n",
              "    </tr>\n",
              "  </tbody>\n",
              "</table>\n",
              "</div>\n",
              "      <button class=\"colab-df-convert\" onclick=\"convertToInteractive('df-0bcbd8b2-ee8e-4e3e-a28a-b57779498bdf')\"\n",
              "              title=\"Convert this dataframe to an interactive table.\"\n",
              "              style=\"display:none;\">\n",
              "        \n",
              "  <svg xmlns=\"http://www.w3.org/2000/svg\" height=\"24px\"viewBox=\"0 0 24 24\"\n",
              "       width=\"24px\">\n",
              "    <path d=\"M0 0h24v24H0V0z\" fill=\"none\"/>\n",
              "    <path d=\"M18.56 5.44l.94 2.06.94-2.06 2.06-.94-2.06-.94-.94-2.06-.94 2.06-2.06.94zm-11 1L8.5 8.5l.94-2.06 2.06-.94-2.06-.94L8.5 2.5l-.94 2.06-2.06.94zm10 10l.94 2.06.94-2.06 2.06-.94-2.06-.94-.94-2.06-.94 2.06-2.06.94z\"/><path d=\"M17.41 7.96l-1.37-1.37c-.4-.4-.92-.59-1.43-.59-.52 0-1.04.2-1.43.59L10.3 9.45l-7.72 7.72c-.78.78-.78 2.05 0 2.83L4 21.41c.39.39.9.59 1.41.59.51 0 1.02-.2 1.41-.59l7.78-7.78 2.81-2.81c.8-.78.8-2.07 0-2.86zM5.41 20L4 18.59l7.72-7.72 1.47 1.35L5.41 20z\"/>\n",
              "  </svg>\n",
              "      </button>\n",
              "      \n",
              "  <style>\n",
              "    .colab-df-container {\n",
              "      display:flex;\n",
              "      flex-wrap:wrap;\n",
              "      gap: 12px;\n",
              "    }\n",
              "\n",
              "    .colab-df-convert {\n",
              "      background-color: #E8F0FE;\n",
              "      border: none;\n",
              "      border-radius: 50%;\n",
              "      cursor: pointer;\n",
              "      display: none;\n",
              "      fill: #1967D2;\n",
              "      height: 32px;\n",
              "      padding: 0 0 0 0;\n",
              "      width: 32px;\n",
              "    }\n",
              "\n",
              "    .colab-df-convert:hover {\n",
              "      background-color: #E2EBFA;\n",
              "      box-shadow: 0px 1px 2px rgba(60, 64, 67, 0.3), 0px 1px 3px 1px rgba(60, 64, 67, 0.15);\n",
              "      fill: #174EA6;\n",
              "    }\n",
              "\n",
              "    [theme=dark] .colab-df-convert {\n",
              "      background-color: #3B4455;\n",
              "      fill: #D2E3FC;\n",
              "    }\n",
              "\n",
              "    [theme=dark] .colab-df-convert:hover {\n",
              "      background-color: #434B5C;\n",
              "      box-shadow: 0px 1px 3px 1px rgba(0, 0, 0, 0.15);\n",
              "      filter: drop-shadow(0px 1px 2px rgba(0, 0, 0, 0.3));\n",
              "      fill: #FFFFFF;\n",
              "    }\n",
              "  </style>\n",
              "\n",
              "      <script>\n",
              "        const buttonEl =\n",
              "          document.querySelector('#df-0bcbd8b2-ee8e-4e3e-a28a-b57779498bdf button.colab-df-convert');\n",
              "        buttonEl.style.display =\n",
              "          google.colab.kernel.accessAllowed ? 'block' : 'none';\n",
              "\n",
              "        async function convertToInteractive(key) {\n",
              "          const element = document.querySelector('#df-0bcbd8b2-ee8e-4e3e-a28a-b57779498bdf');\n",
              "          const dataTable =\n",
              "            await google.colab.kernel.invokeFunction('convertToInteractive',\n",
              "                                                     [key], {});\n",
              "          if (!dataTable) return;\n",
              "\n",
              "          const docLinkHtml = 'Like what you see? Visit the ' +\n",
              "            '<a target=\"_blank\" href=https://colab.research.google.com/notebooks/data_table.ipynb>data table notebook</a>'\n",
              "            + ' to learn more about interactive tables.';\n",
              "          element.innerHTML = '';\n",
              "          dataTable['output_type'] = 'display_data';\n",
              "          await google.colab.output.renderOutput(dataTable, element);\n",
              "          const docLink = document.createElement('div');\n",
              "          docLink.innerHTML = docLinkHtml;\n",
              "          element.appendChild(docLink);\n",
              "        }\n",
              "      </script>\n",
              "    </div>\n",
              "  </div>\n",
              "  "
            ],
            "text/plain": [
              "                                          tweet_text  \\\n",
              "0  .@wesley83 I have a 3G iPhone. After 3 hrs twe...   \n",
              "1  @jessedee Know about @fludapp ? Awesome iPad/i...   \n",
              "2  @swonderlin Can not wait for #iPad 2 also. The...   \n",
              "3  @sxsw I hope this year's festival isn't as cra...   \n",
              "4  @sxtxstate great stuff on Fri #SXSW: Marissa M...   \n",
              "\n",
              "  emotion_in_tweet_is_directed_at  \\\n",
              "0                          iPhone   \n",
              "1              iPad or iPhone App   \n",
              "2                            iPad   \n",
              "3              iPad or iPhone App   \n",
              "4                          Google   \n",
              "\n",
              "  is_there_an_emotion_directed_at_a_brand_or_product  \n",
              "0                                   Negative emotion  \n",
              "1                                   Positive emotion  \n",
              "2                                   Positive emotion  \n",
              "3                                   Negative emotion  \n",
              "4                                   Positive emotion  "
            ]
          },
          "execution_count": 3,
          "metadata": {},
          "output_type": "execute_result"
        }
      ],
      "source": [
        "url = \"https://raw.githubusercontent.com/Fabian830348/Bases_Datos/master/tweets.csv\"\n",
        "\n",
        "df= pd.read_csv(url)\n",
        "df.head()"
      ]
    },
    {
      "cell_type": "code",
      "execution_count": null,
      "metadata": {
        "colab": {
          "base_uri": "https://localhost:8080/",
          "height": 206
        },
        "id": "49wFBMd_G0qQ",
        "outputId": "b855814c-db34-4e4c-eceb-a00ea658b8ea"
      },
      "outputs": [
        {
          "data": {
            "text/html": [
              "\n",
              "  <div id=\"df-9f9d8017-87e2-454e-9463-b7356ff660bd\">\n",
              "    <div class=\"colab-df-container\">\n",
              "      <div>\n",
              "<style scoped>\n",
              "    .dataframe tbody tr th:only-of-type {\n",
              "        vertical-align: middle;\n",
              "    }\n",
              "\n",
              "    .dataframe tbody tr th {\n",
              "        vertical-align: top;\n",
              "    }\n",
              "\n",
              "    .dataframe thead th {\n",
              "        text-align: right;\n",
              "    }\n",
              "</style>\n",
              "<table border=\"1\" class=\"dataframe\">\n",
              "  <thead>\n",
              "    <tr style=\"text-align: right;\">\n",
              "      <th></th>\n",
              "      <th>Tweet_text</th>\n",
              "      <th>Directed_at</th>\n",
              "      <th>Emotion</th>\n",
              "    </tr>\n",
              "  </thead>\n",
              "  <tbody>\n",
              "    <tr>\n",
              "      <th>0</th>\n",
              "      <td>.@wesley83 I have a 3G iPhone. After 3 hrs twe...</td>\n",
              "      <td>iPhone</td>\n",
              "      <td>Negative emotion</td>\n",
              "    </tr>\n",
              "    <tr>\n",
              "      <th>1</th>\n",
              "      <td>@jessedee Know about @fludapp ? Awesome iPad/i...</td>\n",
              "      <td>iPad or iPhone App</td>\n",
              "      <td>Positive emotion</td>\n",
              "    </tr>\n",
              "    <tr>\n",
              "      <th>2</th>\n",
              "      <td>@swonderlin Can not wait for #iPad 2 also. The...</td>\n",
              "      <td>iPad</td>\n",
              "      <td>Positive emotion</td>\n",
              "    </tr>\n",
              "    <tr>\n",
              "      <th>3</th>\n",
              "      <td>@sxsw I hope this year's festival isn't as cra...</td>\n",
              "      <td>iPad or iPhone App</td>\n",
              "      <td>Negative emotion</td>\n",
              "    </tr>\n",
              "    <tr>\n",
              "      <th>4</th>\n",
              "      <td>@sxtxstate great stuff on Fri #SXSW: Marissa M...</td>\n",
              "      <td>Google</td>\n",
              "      <td>Positive emotion</td>\n",
              "    </tr>\n",
              "  </tbody>\n",
              "</table>\n",
              "</div>\n",
              "      <button class=\"colab-df-convert\" onclick=\"convertToInteractive('df-9f9d8017-87e2-454e-9463-b7356ff660bd')\"\n",
              "              title=\"Convert this dataframe to an interactive table.\"\n",
              "              style=\"display:none;\">\n",
              "        \n",
              "  <svg xmlns=\"http://www.w3.org/2000/svg\" height=\"24px\"viewBox=\"0 0 24 24\"\n",
              "       width=\"24px\">\n",
              "    <path d=\"M0 0h24v24H0V0z\" fill=\"none\"/>\n",
              "    <path d=\"M18.56 5.44l.94 2.06.94-2.06 2.06-.94-2.06-.94-.94-2.06-.94 2.06-2.06.94zm-11 1L8.5 8.5l.94-2.06 2.06-.94-2.06-.94L8.5 2.5l-.94 2.06-2.06.94zm10 10l.94 2.06.94-2.06 2.06-.94-2.06-.94-.94-2.06-.94 2.06-2.06.94z\"/><path d=\"M17.41 7.96l-1.37-1.37c-.4-.4-.92-.59-1.43-.59-.52 0-1.04.2-1.43.59L10.3 9.45l-7.72 7.72c-.78.78-.78 2.05 0 2.83L4 21.41c.39.39.9.59 1.41.59.51 0 1.02-.2 1.41-.59l7.78-7.78 2.81-2.81c.8-.78.8-2.07 0-2.86zM5.41 20L4 18.59l7.72-7.72 1.47 1.35L5.41 20z\"/>\n",
              "  </svg>\n",
              "      </button>\n",
              "      \n",
              "  <style>\n",
              "    .colab-df-container {\n",
              "      display:flex;\n",
              "      flex-wrap:wrap;\n",
              "      gap: 12px;\n",
              "    }\n",
              "\n",
              "    .colab-df-convert {\n",
              "      background-color: #E8F0FE;\n",
              "      border: none;\n",
              "      border-radius: 50%;\n",
              "      cursor: pointer;\n",
              "      display: none;\n",
              "      fill: #1967D2;\n",
              "      height: 32px;\n",
              "      padding: 0 0 0 0;\n",
              "      width: 32px;\n",
              "    }\n",
              "\n",
              "    .colab-df-convert:hover {\n",
              "      background-color: #E2EBFA;\n",
              "      box-shadow: 0px 1px 2px rgba(60, 64, 67, 0.3), 0px 1px 3px 1px rgba(60, 64, 67, 0.15);\n",
              "      fill: #174EA6;\n",
              "    }\n",
              "\n",
              "    [theme=dark] .colab-df-convert {\n",
              "      background-color: #3B4455;\n",
              "      fill: #D2E3FC;\n",
              "    }\n",
              "\n",
              "    [theme=dark] .colab-df-convert:hover {\n",
              "      background-color: #434B5C;\n",
              "      box-shadow: 0px 1px 3px 1px rgba(0, 0, 0, 0.15);\n",
              "      filter: drop-shadow(0px 1px 2px rgba(0, 0, 0, 0.3));\n",
              "      fill: #FFFFFF;\n",
              "    }\n",
              "  </style>\n",
              "\n",
              "      <script>\n",
              "        const buttonEl =\n",
              "          document.querySelector('#df-9f9d8017-87e2-454e-9463-b7356ff660bd button.colab-df-convert');\n",
              "        buttonEl.style.display =\n",
              "          google.colab.kernel.accessAllowed ? 'block' : 'none';\n",
              "\n",
              "        async function convertToInteractive(key) {\n",
              "          const element = document.querySelector('#df-9f9d8017-87e2-454e-9463-b7356ff660bd');\n",
              "          const dataTable =\n",
              "            await google.colab.kernel.invokeFunction('convertToInteractive',\n",
              "                                                     [key], {});\n",
              "          if (!dataTable) return;\n",
              "\n",
              "          const docLinkHtml = 'Like what you see? Visit the ' +\n",
              "            '<a target=\"_blank\" href=https://colab.research.google.com/notebooks/data_table.ipynb>data table notebook</a>'\n",
              "            + ' to learn more about interactive tables.';\n",
              "          element.innerHTML = '';\n",
              "          dataTable['output_type'] = 'display_data';\n",
              "          await google.colab.output.renderOutput(dataTable, element);\n",
              "          const docLink = document.createElement('div');\n",
              "          docLink.innerHTML = docLinkHtml;\n",
              "          element.appendChild(docLink);\n",
              "        }\n",
              "      </script>\n",
              "    </div>\n",
              "  </div>\n",
              "  "
            ],
            "text/plain": [
              "                                          Tweet_text         Directed_at  \\\n",
              "0  .@wesley83 I have a 3G iPhone. After 3 hrs twe...              iPhone   \n",
              "1  @jessedee Know about @fludapp ? Awesome iPad/i...  iPad or iPhone App   \n",
              "2  @swonderlin Can not wait for #iPad 2 also. The...                iPad   \n",
              "3  @sxsw I hope this year's festival isn't as cra...  iPad or iPhone App   \n",
              "4  @sxtxstate great stuff on Fri #SXSW: Marissa M...              Google   \n",
              "\n",
              "            Emotion  \n",
              "0  Negative emotion  \n",
              "1  Positive emotion  \n",
              "2  Positive emotion  \n",
              "3  Negative emotion  \n",
              "4  Positive emotion  "
            ]
          },
          "execution_count": 4,
          "metadata": {},
          "output_type": "execute_result"
        }
      ],
      "source": [
        "# Renombramiento de las columnas \n",
        "df.columns = ['Tweet_text', 'Directed_at','Emotion'] \n",
        "df.head()"
      ]
    },
    {
      "cell_type": "code",
      "execution_count": null,
      "metadata": {
        "colab": {
          "base_uri": "https://localhost:8080/",
          "height": 592
        },
        "id": "jhzDFFxeG0qQ",
        "outputId": "a0ba63fe-7042-4d77-981d-b25701b8101b"
      },
      "outputs": [
        {
          "data": {
            "image/png": "[encoded data removed]",
            "text/plain": [
              "<Figure size 1152x720 with 1 Axes>"
            ]
          },
          "metadata": {
            "needs_background": "light"
          },
          "output_type": "display_data"
        }
      ],
      "source": [
        "count_emotions = df.Emotion.value_counts()\n",
        "\n",
        "plt.figure(figsize=(16,10))\n",
        "plt.bar(count_emotions.index,count_emotions)\n",
        "plt.show()"
      ]
    },
    {
      "cell_type": "code",
      "execution_count": null,
      "metadata": {
        "colab": {
          "base_uri": "https://localhost:8080/"
        },
        "id": "Jx5Yyqm2G0qR",
        "outputId": "3d75e3c1-9429-405b-ebc7-bdf18f739128"
      },
      "outputs": [
        {
          "name": "stdout",
          "output_type": "stream",
          "text": [
            "Numero de comentarios neutros:  5545\n",
            "\n",
            "Numero de comentarios positivos:  2978\n",
            "\n",
            "Numero de comentarios negativos:  570\n"
          ]
        }
      ],
      "source": [
        "print(\"Numero de comentarios neutros: \", count_emotions[0]+count_emotions[3])\n",
        "print(\"\\nNumero de comentarios positivos: \", count_emotions[1])\n",
        "print(\"\\nNumero de comentarios negativos: \", count_emotions[2])"
      ]
    },
    {
      "attachments": {},
      "cell_type": "markdown",
      "metadata": {
        "id": "aecSV_ENG0qR"
      },
      "source": [
        "**b) Gráfico de barras acerca del producto evaluado.**"
      ]
    },
    {
      "cell_type": "code",
      "execution_count": null,
      "metadata": {
        "colab": {
          "base_uri": "https://localhost:8080/",
          "height": 918
        },
        "id": "sIVoCR61G0qS",
        "outputId": "6163a6ef-c0f3-4d89-b261-77cf687f55e1"
      },
      "outputs": [
        {
          "data": {
            "image/png": "[encoded data removed]",
            "text/plain": [
              "<Figure size 1152x1152 with 1 Axes>"
            ]
          },
          "metadata": {
            "needs_background": "light"
          },
          "output_type": "display_data"
        }
      ],
      "source": [
        "count_product = df.Directed_at.value_counts()\n",
        "plt.figure(figsize=(16,16))\n",
        "plt.bar(count_product.index,count_product)\n",
        "plt.show()"
      ]
    },
    {
      "cell_type": "code",
      "execution_count": null,
      "metadata": {
        "colab": {
          "base_uri": "https://localhost:8080/"
        },
        "id": "InHeBXO1G0qS",
        "outputId": "4d581d40-b74d-4185-f21b-87dbf4835c84"
      },
      "outputs": [
        {
          "name": "stdout",
          "output_type": "stream",
          "text": [
            "Numero de comentarios a  iPad es de  946\n",
            "Numero de comentarios a  Apple es de  661\n",
            "Numero de comentarios a  iPad or iPhone App es de  470\n",
            "Numero de comentarios a  Google es de  430\n",
            "Numero de comentarios a  iPhone es de  297\n",
            "Numero de comentarios a  Other Google product or service es de  293\n",
            "Numero de comentarios a  Android App es de  81\n",
            "Numero de comentarios a  Android es de  78\n",
            "Numero de comentarios a  Other Apple product or service es de  35\n"
          ]
        }
      ],
      "source": [
        "print(\"Numero de comentarios a \",count_product.index[0],'es de ', count_product[0])\n",
        "print(\"Numero de comentarios a \",count_product.index[1],'es de ', count_product[1])\n",
        "print(\"Numero de comentarios a \",count_product.index[2],'es de ', count_product[2])\n",
        "print(\"Numero de comentarios a \",count_product.index[3],'es de ', count_product[3])\n",
        "print(\"Numero de comentarios a \",count_product.index[4],'es de ', count_product[4])\n",
        "print(\"Numero de comentarios a \",count_product.index[5],'es de ', count_product[5])\n",
        "print(\"Numero de comentarios a \",count_product.index[6],'es de ', count_product[6])\n",
        "print(\"Numero de comentarios a \",count_product.index[7],'es de ', count_product[7])\n",
        "print(\"Numero de comentarios a \",count_product.index[8],'es de ', count_product[8])"
      ]
    },
    {
      "attachments": {},
      "cell_type": "markdown",
      "metadata": {
        "id": "hMT5DM0tG0qT"
      },
      "source": [
        "**c) ¿Cuál categoría de producto tiene más comentarios positivos? ¿negativos?**"
      ]
    },
    {
      "cell_type": "code",
      "execution_count": null,
      "metadata": {
        "colab": {
          "base_uri": "https://localhost:8080/"
        },
        "id": "TKSf_dKHG0qT",
        "outputId": "353ff655-1866-4c1a-c736-7e2fcb3a8549"
      },
      "outputs": [
        {
          "name": "stdout",
          "output_type": "stream",
          "text": [
            "Producto con mayores comentarios positivos:  iPad con  793\n",
            "Producto con mayores comentarios negativos:  iPad con  125\n"
          ]
        }
      ],
      "source": [
        "df1 = df.loc[df.loc[:, 'Emotion'] == 'Positive emotion']\n",
        "pos_com = df1.Directed_at.value_counts()\n",
        "print(\"Producto con mayores comentarios positivos: \", pos_com.index[0], \"con \", pos_com[0])\n",
        "\n",
        "df2 = df.loc[df.loc[:, 'Emotion'] == 'Negative emotion']\n",
        "neg_com = df2.Directed_at.value_counts()\n",
        "print(\"Producto con mayores comentarios negativos: \", neg_com.index[0], \"con \", neg_com[0])"
      ]
    },
    {
      "attachments": {},
      "cell_type": "markdown",
      "metadata": {
        "id": "LPZ47wapHACl"
      },
      "source": [
        "# Punto 2\n",
        "\n",
        "Normalización (en ingles) de los tweets. Preprocesamiento de los datos; pasar a minúscula, eliminar algunos signos, quitar los @ y #, stop words, etc."
      ]
    },
    {
      "cell_type": "code",
      "execution_count": null,
      "metadata": {
        "id": "MESoSSxkqCQ7"
      },
      "outputs": [],
      "source": [
        "df_clean = df[df[\"Tweet_text\"].isna() == False] # quitamos valores NA"
      ]
    },
    {
      "cell_type": "code",
      "execution_count": null,
      "metadata": {
        "id": "0muKUjkxKslo"
      },
      "outputs": [],
      "source": [
        "# funcion para quitar tildes del texto en minuscula\n",
        "def remove_tildes(s):\n",
        "    return unidecode(s)\n",
        "\n",
        "stopwords_english = set(stopwords.words('english'))\n",
        "stopwords_english.add('')\n",
        "\n",
        "# funcion que hace todo el preprocesamiento esta vez en ingles\n",
        "# devuelve una lista de palabras, para cada tweet\n",
        "def pre_procesamiento(texto):\n",
        "    new_text = texto.lower()  # pasamos a minusculas\n",
        "    new_text = remove_tildes(new_text)                      # removemos tildes\n",
        "    new_text = re.compile(r'\\W+', re.UNICODE).split(new_text)  # removemos caracteres especiales\n",
        "    new_text = [x for x in new_text if x not in stopwords_english]\n",
        "    return new_text\n",
        "\n",
        "tweets_clean = []\n",
        "for tweet in df_clean[\"Tweet_text\"]:\n",
        "    tweets_clean.extend(pre_procesamiento(tweet))"
      ]
    },
    {
      "attachments": {},
      "cell_type": "markdown",
      "metadata": {
        "id": "WIYiI7H_Q4o-"
      },
      "source": [
        "# 3. Construir bolsa de palabras con TF y con TF-iDF"
      ]
    },
    {
      "cell_type": "code",
      "execution_count": null,
      "metadata": {
        "colab": {
          "base_uri": "https://localhost:8080/"
        },
        "id": "DiXy8VajTUOk",
        "outputId": "cde97893-e755-461f-c887-404a0d4a4d5c"
      },
      "outputs": [
        {
          "data": {
            "text/plain": [
              "114272"
            ]
          },
          "execution_count": 12,
          "metadata": {},
          "output_type": "execute_result"
        }
      ],
      "source": [
        "len(tweets_clean)"
      ]
    },
    {
      "cell_type": "code",
      "execution_count": null,
      "metadata": {
        "colab": {
          "base_uri": "https://localhost:8080/"
        },
        "id": "Agya9s4z3Lvc",
        "outputId": "5c202d36-c59a-4722-ec0e-67f7d99f7f81"
      },
      "outputs": [
        {
          "name": "stdout",
          "output_type": "stream",
          "text": [
            "['00' '000' '00am' ... 'zuckerberg' 'zynga' 'zzzs']\n",
            "[[0 0 0 ... 0 0 0]\n",
            " [0 0 0 ... 0 0 0]\n",
            " [0 0 0 ... 0 0 0]\n",
            " ...\n",
            " [0 0 0 ... 0 0 0]\n",
            " [0 0 0 ... 0 0 0]\n",
            " [0 0 0 ... 0 0 0]]\n"
          ]
        }
      ],
      "source": [
        "# usamos la funcion de Scikit para la hacer la bolsa de palabras TF\n",
        "cv = CountVectorizer()\n",
        "cv_fit = cv.fit_transform(tweets_clean)\n",
        "# Resultados\n",
        "print(cv.get_feature_names_out())\n",
        "print(cv_fit.toarray())"
      ]
    },
    {
      "cell_type": "code",
      "execution_count": null,
      "metadata": {
        "colab": {
          "base_uri": "https://localhost:8080/"
        },
        "id": "qIIRW_iAKsu3",
        "outputId": "9486b3be-2d24-4b9c-8ad6-5d4a5101d3c8"
      },
      "outputs": [
        {
          "name": "stdout",
          "output_type": "stream",
          "text": [
            "['00' '000' '00am' ... 'zuckerberg' 'zynga' 'zzzs']\n",
            "[[0. 0. 0. ... 0. 0. 0.]\n",
            " [0. 0. 0. ... 0. 0. 0.]\n",
            " [0. 0. 0. ... 0. 0. 0.]\n",
            " ...\n",
            " [0. 0. 0. ... 0. 0. 0.]\n",
            " [0. 0. 0. ... 0. 0. 0.]\n",
            " [0. 0. 0. ... 0. 0. 0.]]\n"
          ]
        }
      ],
      "source": [
        "# usamos la funcion de Scikit para la hacer la bolsa de palabras TF-IDF\n",
        "tfidf = TfidfVectorizer()\n",
        "corpus = tfidf.fit_transform(tweets_clean)\n",
        "\n",
        "# Resultados\n",
        "print(tfidf.get_feature_names_out ())\n",
        "print(corpus.toarray())"
      ]
    },
    {
      "attachments": {},
      "cell_type": "markdown",
      "metadata": {
        "id": "H2_5yfwOUQxk"
      },
      "source": [
        "# 4. Aplicar los modelos para TF y TF-iDF. Para este último tener el cuenta las 1000 palabras más frecuentes y las palabras que aparezcan mínimo en 3 documentos."
      ]
    },
    {
      "attachments": {},
      "cell_type": "markdown",
      "metadata": {
        "id": "2pGOEsPm4JkZ"
      },
      "source": [
        "Queremos ver el top 1000 de las palabras mas frecuentes de los tweets"
      ]
    },
    {
      "cell_type": "code",
      "execution_count": null,
      "metadata": {
        "colab": {
          "base_uri": "https://localhost:8080/"
        },
        "id": "4tvGcot8xWGt",
        "outputId": "19a5a5be-9bdc-4ccc-9ffe-042aa32f12cc"
      },
      "outputs": [
        {
          "name": "stdout",
          "output_type": "stream",
          "text": [
            "{'wesley83': 1, '3g': 30, 'iphone': 1588, '3': 183, 'hrs': 4, 'tweeting': 28, 'rise_austin': 2, 'dead': 18, 'need': 205, 'upgrade': 13, 'plugin': 4, 'stations': 2, 'sxsw': 9632, 'jessedee': 1, 'know': 186, 'fludapp': 1, 'awesome': 136, 'ipad': 2518, 'app': 826, 'likely': 13, 'appreciate': 5, 'design': 143, 'also': 79, 'giving': 71, 'free': 390, 'ts': 2, 'swonderlin': 1, 'wait': 77, '2': 1187, 'sale': 30, 'hope': 52, 'year': 126, 'festival': 32, 'crashy': 2, 'sxtxstate': 9, 'great': 222, 'stuff': 36, 'fri': 7, 'marissa': 193, 'mayer': 218, 'google': 2667, 'tim': 19, 'reilly': 9, 'tech': 150, 'books': 7, 'conferences': 40, 'amp': 836, 'matt': 12, 'mullenweg': 3, 'wordpress': 9, 'teachntech00': 1, 'new': 1091, 'apps': 225, 'speechtherapy': 3, 'communication': 20, 'showcased': 20, 'conference': 33, 'http': 22, 'ht': 11, 'ly': 36, '49n4m': 1, 'iear': 3, 'edchat': 39, 'asd': 3, 'starting': 34, 'ctia': 4, 'around': 132, 'corner': 13, 'googleio': 2, 'hop': 3, 'skip': 3, 'jump': 6, 'good': 173, 'time': 277, 'android': 598, 'fan': 21, 'beautifully': 2, 'smart': 63, 'simple': 10, 'idea': 40, 'rt': 2969, 'madebymany': 7, 'thenextweb': 1, 'wrote': 12, 'hollergram': 32, 'bit': 47, 'ieavob': 1, 'counting': 2, 'days': 52, 'plus': 21, 'strong': 8, 'canadian': 9, 'dollar': 2, 'means': 18, 'stock': 23, 'apple': 2334, 'gear': 7, 'excited': 44, 'meet': 60, 'samsungmobileus': 1, 'show': 122, 'sprint': 7, 'galaxy': 10, 'still': 107, 'running': 18, '1': 138, 'fail': 38, 'find': 87, 'start': 35, 'impromptu': 4, 'parties': 48, 'hurricaneparty': 1, 'gvlrin': 1, 'til': 15, 'comes': 53, 'foursquare': 54, 'ups': 8, 'game': 136, 'j': 15, 'mp': 4, 'grn7pk': 1, 'prefer': 9, 'gowalla': 44, 'far': 57, 'best': 146, 'looking': 81, 'date': 2, 'gotta': 18, 'love': 146, 'calendar': 19, 'featuring': 10, 'top': 28, 'cases': 22, 'check': 264, 'hamsandwich': 1, 'via': 436, 'ischafer': 1, 'gt': 117, 'axzwxb': 1, 'tinyurl': 2, 'com': 99, '4nqv92l': 1, 'haha': 23, 'awesomely': 6, 'rad': 12, 'htdfim': 2, 'holler': 22, 'gram': 22, 'itunes': 98, 'store': 1487, 'co': 24, 'kfn3f5q': 1, 'marc_is_ken': 1, 'noticed': 2, 'dst': 2, 'coming': 105, 'weekend': 45, 'many': 79, 'users': 123, 'hour': 44, 'late': 32, 'come': 176, 'sunday': 12, 'morning': 44, 'added': 18, 'flights': 5, 'planely': 1, 'matching': 3, 'people': 231, 'planes': 3, 'airports': 5, 'downloaded': 11, 'klm': 1, 'nicely': 3, 'done': 21, 'must': 50, 'malbonster': 1, 'lovely': 5, 'review': 20, 'forbes': 3, 'g4gzypv': 1, 'buy': 102, 'ipad2': 465, 'austin': 973, 'sure': 65, 'q': 58, 'oh': 63, 'god': 25, 'pure': 6, 'unadulterated': 2, 'easier': 8, 'browse': 2, 'events': 56, 'website': 39, 'okay': 5, 'really': 111, 'yay': 12, '11': 106, 'kthxbai': 2, 'photo': 50, 'installed': 5, 'nice': 82, 'tumblr': 4, 'x6t1pi6av7': 1, 'enjoying': 19, 'changes': 8, '0': 30, 'forward': 33, 'seeing': 29, 'else': 60, 'sleeves': 4, 'laurieshook': 1, 'smcdallas': 3, 'pre': 16, 'party': 353, 'wed': 8, 'hoping': 11, 'win': 174, 'resulting': 3, 'shameless': 3, 'promotion': 5, 'chevysmc': 3, 'michaelpiliero': 1, 'someone': 64, 'started': 25, 'partnerhub': 1, 'group': 42, 'groups': 9, '4sq3': 3, 'looks': 68, 'like': 297, 'going': 218, 'rock': 36, 'update': 35, 'push': 14, 'tonight': 89, 'etsbzk': 1, 'keepaustinweird': 2, 'right': 119, 'sweeeeet': 2, 'job': 25, 'team': 97, 'a3xvwc6': 1, 'may': 86, 'leave': 15, 'vuvuzela': 3, 'home': 36, 'us': 165, 'id420666439': 1, 'mt': 6, '8': 26, 'attn': 3, 'frineds': 1, 'mention': 7124, 'register': 23, 'gdgtlive': 1, 'see': 223, 'cobra': 2, 'iradar': 2, 'link': 4313, 'anyone': 118, 'want': 149, 'sell': 64, 'old': 34, 'bought': 36, 'older': 1, 'oooh': 2, 'launch': 653, 'major': 304, 'social': 667, 'network': 466, 'called': 361, 'circles': 675, 'possibly': 244, 'today': 584, 'ha': 17, 'first': 168, 'line': 412, 'quot': 1696, 'pop': 596, 'event': 53, 'planner': 3, 'eventprofs': 2, 'pcma': 1, 'engage365': 1, 'spin': 9, 'play': 36, 'concept': 14, 'music': 150, 'discovery': 31, 'false': 10, 'alarm': 13, 'probably': 36, 'ever': 78, 'vatornews': 1, 'force': 10, 'print': 12, 'media': 62, 'evolve': 2, 'weather': 8, 'greet': 2, 'sweater': 2, 'night': 70, 'putting': 13, 'flash': 19, 'downtown': 225, 'hootsuite': 46, 'mobile': 354, 'updates': 57, 'blackberry': 98, 'whether': 3, 'getting': 81, 'friend': 18, 'hey': 100, 'long': 75, 'think': 156, 'takes': 42, 'make': 136, 'case': 100, 'answer': 11, 'using': 115, 'zazzlesxsw': 25, 'one': 317, 'mashable': 49, 'video': 126, 'gadgets': 16, 'pad': 2, 'ubersocial': 69, 'includes': 69, 'uberguide': 69, 'sponsored': 54, 'smartcover': 1, 'opens': 40, 'instant': 9, 'access': 36, 'waited': 11, 'get': 395, 'hand': 35, 'held': 7, 'hobo': 10, 'drafthouse': 3, 'launches': 38, 'shotgun': 6, 'hooray': 3, 'opening': 257, 'orly': 2, 'set': 129, 'wooooo': 3, 'open': 215, 'midnight': 13, 'khoi': 7, 'vinh': 9, 'says': 114, 'conde': 4, 'nast': 4, 'headlong': 2, 'rush': 4, 'publishing': 15, 'fundamental': 4, 'misunderstanding': 4, 'platform': 68, 'lt': 59, 'help': 56, 'doc': 10, 'anonymous': 2, 'accounts': 4, 'techies': 6, 'ppl': 36, 'jam': 3, 'libya': 3, 'musedchat': 36, 'sxswi': 343, 'classical': 33, 'newtwitter': 35, 'location': 137, 'based': 59, 'fast': 74, 'fun': 84, 'future': 102, 'connect': 53, 'digital': 97, 'physical': 55, 'worlds': 44, 'talking': 39, 'effort': 6, 'allow': 6, 'systems': 9, 'bettercloud': 7, 'tweet': 82, 'speak': 41, 'mark': 22, 'belinsky': 26, '911tweets': 22, 'panel': 145, '1st': 41, 'stop': 52, 'chaos': 3, 'hunt': 5, 'java': 3, 'spy': 5, '4': 167, 'chance': 27, 'pic': 41, 'guy': 111, 'kawasaki': 22, 'talks': 21, 'enchanted': 3, 'knows': 14, 'internet': 27, 'futuremf': 4, 'spec': 4, 'recipes': 3, 'web': 80, 'search': 131, 'omfg': 2, 'heard': 95, 'pics': 33, 'already': 74, 'smile': 1, 'would': 126, 'lot': 49, 'interesting': 72, 'actually': 27, 'popped': 5, 'insane': 10, 'agree': 16, 'fiona': 5, 'town': 29, 'somebody': 7, 'kidnap': 3, 'put': 36, 'recording': 6, 'studio': 3, 'records': 4, 'album': 15, 'wanna': 26, 'drink': 24, '7pm': 12, 'fado': 7, '4th': 7, 'join': 57, 'attending': 31, 'headaches': 32, 'boooo': 2, 'flipboard': 60, 'developing': 11, 'version': 37, 'power': 42, 'value': 17, 'services': 13, 'needs': 35, 'battle': 9, 'fatigue': 3, 'pnid': 18, 'chilcott': 1, 'stand': 15, 'blogger': 21, 'staff': 5, 'competition': 9, 'mentioning': 1, 'shirt': 15, 'w': 263, 'bands': 26, 'food': 39, 'art': 63, 'ice': 14, 'cream': 14, 'nifty': 4, 'interactive': 71, 'maps': 220, 'promises': 3, 'groupon': 22, 'rewards': 33, 'type': 27, 'service': 54, 'finger': 3, 'crossed': 2, 'news': 156, 'yahoo': 6, 'loosing': 2, 'traffic': 42, 'site': 37, 'doubt': 11, 'last': 124, 'tho': 4, 'weird': 14, 'name': 17, 'holla': 2, 'butt': 5, 'phone': 92, 'worship': 1, 'droid': 22, 'mac': 38, 'agnerd': 10, 'confession': 9, 'laptop': 63, 'follow': 48, 'launching': 108, 'denies': 11, 'debut': 10, 'despite': 7, 'report': 31, 'post': 62, 'makes': 42, 'easy': 18, 'networks': 8, 'behaving': 2, 'crashes': 5, 'yesterday': 27, 'ridiculous': 10, 'popup': 211, 'fans': 15, 'peek': 4, 'space': 27, 'slated': 4, 'tomorrow': 72, 'thing': 88, 'earth': 16, 'face': 12, 'company': 44, 'sxwsi': 1, 'stay': 23, 'tune': 8, 'showcase': 9, 'h4ckers': 23, 'thank': 33, 'touchingstories': 31, 'preso': 10, 'deck': 4, 'thanks': 141, 'trying': 43, 'contact': 15, 'friends': 71, 'family': 7, 'japan': 114, 'created': 12, 'person': 51, 'finder': 11, 'speech': 23, 'conf': 12, 'sxswh': 18, 'sxsh': 5, 'medical': 7, 'blog': 38, 'mhealth': 4, 'provide': 8, 'chargers': 9, 'changed': 11, 'mind': 14, 'next': 151, 'wonder': 45, 'flashmob': 2, 'tcrn': 2, 'ch': 2, 'fcs45j': 1, 'tips': 11, 'api': 10, 'suxsw': 7, 'xmas': 4, 'shiny': 12, 'garyvee': 4, 'book': 33, 'stores': 39, 'christmas': 7, 'nerds': 40, 'yai': 1, 'cont': 41, 'yes': 75, 'got': 167, 'another': 52, 'gem': 2, 'presenting': 6, 'local': 32, 'gsd': 24, 'industry': 38, 'u': 103, 'welivehere': 8, 'gsdm': 68, 'buzz': 38, 'headline': 6, 'gadget': 14, 'hmm': 15, 'could': 83, 'seen': 55, 'opened': 24, 'ipads': 89, 'wow': 60, 'dataviz': 1, 'translates': 1, 'satanic': 1, 'sayin': 10, 'launched': 39, 'checkins': 31, 'month': 20, 'ago': 20, 'ins': 17, 'ok': 23, 'outs': 3, 'bizzy': 14, 'left': 55, 'brain': 39, 'x': 20, 'bettersearch': 15, 'engines': 4, 'hp': 15, 'park': 7, 'content': 52, 'incubator': 1, 'constructs': 1, 'c': 15, 'lewis': 2, 'level': 8, 'reasoning': 1, 'continued': 8, 'existence': 14, 'evidence': 6, 'bawling': 1, 'pagemaker': 6, 'saved': 18, 'jwtatl': 3, 'enchantment': 26, 'spark': 5, 'teamandroid': 9, 'award': 7, 'read': 31, 'unboxing': 10, 'thoughts': 12, 'apac': 1, 'regions': 2, 'dealing': 2, 'earthquake': 26, 'tsunami': 10, 'trauma': 1, 'schools': 35, 'marketing': 68, 'experts': 36, 'cnet': 25, 'blogs': 5, 'temporary': 266, 'def': 9, 'tent': 3, 'powerhouse': 2, 'gym': 9, '6th': 99, 'congress': 103, 'along': 9, '10': 94, '000': 22, 'happy': 47, 'hipsters': 19, 'wins': 81, 'support': 15, 'trending': 9, 'nerdy': 1, 'headed': 15, 'map': 49, 'newbies': 3, 'enjoy': 22, 'funny': 26, 'matter': 12, 'minutes': 22, 'point': 21, 'least': 22, 'according': 9, 'twitter': 100, 'christian': 2, 'devs': 13, 'talk': 123, 'maybe': 34, 'wk': 4, 'together': 18, 'cool': 151, 'ux': 23, 'uxdes': 40, 'remember': 11, 'ultimately': 3, 'aware': 6, 'audience': 23, 'targeted': 1, 'towards': 6, 'unexpected': 3, 'experience': 37, 'taken': 7, 'storm': 3, 'part': 19, 'haz': 2, 'ifrom': 1, 'gr8': 4, 'stacks': 1, 'waiting': 53, 'mine': 13, 'hassle': 1, 'handled': 1, 'perfectly': 4, 'elusive': 8, 'eurorscg': 2, 'notatsxsw': 4, 'download': 113, 'nearby': 4, 'peps': 2, 'smallbiz': 5, 'reviews': 8, 'places': 36, 'seo': 35, 'samsung': 22, 'sony': 10, 'lead': 9, 'atx': 27, 'rg': 1, 'take': 66, 'south': 32, 'korean': 1, 'director': 4, 'gets': 61, '130': 2, 'movie': 9, 'entirely': 5, 'beautiful': 10, 'q1': 1, 'prep': 6, 'amazing': 43, 'locally': 1, 'focus': 13, 'owns': 6, 'billboards': 2, 'pr20chat': 1, 'share': 44, 'gather': 2, 'info': 49, 'turn': 33, 'business': 45, 'card': 28, 'broadcaster': 1, 'btw': 5, 'sold': 48, 'models': 4, 'vzw': 3, 'sneaky': 2, 'usual': 3, 'hopping': 4, 'place': 36, 'beta': 25, 'testing': 14, 'moonbot': 4, 'studios': 4, 'louisiana': 4, 'day': 234, 'ton': 6, 'fastball': 1, 'away': 81, 'two': 62, 'wifi': 39, '32g': 2, 'black': 16, 'cover': 11, 'fo': 4, 'attsxsw': 1, 'bo': 1, 'house': 29, 'wondering': 20, 'worth': 18, 'trek': 1, 'convention': 47, 'center': 41, 'everything': 33, 'except': 21, '64gig': 13, 'white': 61, 'manage': 3, 'known': 6, 'jeans': 5, 'configuration': 1, 'offered': 2, 'promo': 11, 'ninjafinder': 2, 'sucks': 10, 'film': 20, 'selling': 32, 'shipment': 4, 'yet': 62, 'marc': 3, 'ecko': 3, 'autodial': 2, 'political': 2, 'change': 14, 'edreform': 2, 'edtech': 4, 'eduvc': 2, 'fightthepaddle': 4, 'poursite': 12, 'learning': 17, 'life': 44, 'changing': 6, 'impact': 12, 'real': 34, 'actual': 6, 'lives': 4, 'bravo': 1, 'lonelyplanet': 2, 'guide': 50, 'limited': 13, 'lp': 26, 'travel': 18, 'mp3': 7, 'downloads': 9, 'heading': 52, 'aclu': 37, 'owt': 1, 'prompt': 2, 'memory': 1, 'go': 218, 'describe': 1, 'childhood': 2, 'walk': 10, 'short': 10, 'lines': 38, 'essential': 7, 'tools': 19, 'tradeshow': 13, 'demo': 51, 'theatre': 4, 'presenters': 4, 'following': 8, 'tweets': 34, 'realtime': 12, 'four': 9, 'platforms': 4, 'listening': 34, 'realizing': 2, 'spoken': 2, 'pick': 20, 'willing': 6, 'pay': 20, '50': 16, 'grab': 24, 'quick': 12, 'hundred': 4, 'dollars': 6, 'ad': 20, 'hoc': 2, 'cost': 3, 'solving': 6, 'induced': 1, 'toilet': 1, 'crisis': 4, 'monday': 6, 'barry': 23, 'diller': 35, 'york': 7, 'times': 29, 'lunch': 14, 'hotel': 15, 'six': 10, 'dirty': 2, 'martinis': 1, 'mondays': 1, 'seriously': 11, 'constant': 3, 'causing': 3, 'lost': 37, 'schedules': 4, 'sync': 8, 'wp7': 10, 'ready': 69, 'ur': 19, 'blogging': 8, 'conflagration': 1, 'doofusness': 1, 'attention': 9, 'ers': 7, 'rumored': 20, 'went': 23, 'lousy': 1, 'folks': 35, 'learn': 22, 'security': 28, 'bsidesaustin': 2, 'work': 65, 'development': 20, 'hire': 7, 'ios': 41, 'developer': 27, 'man': 43, 'let': 75, 'winning': 61, 'picture': 22, '7': 72, 'hit': 23, 'spent': 17, 'used': 42, 'couple': 11, 'city': 27, 'blocks': 18, 'behind': 29, '100s': 4, 'emails': 4, 'give': 57, 'composed': 5, 'replies': 4, 'protip': 10, '10pm': 1, 'block': 51, 'ipad2s': 14, '1154': 1, 'songs': 10, 'alone': 8, '150': 27, 'million': 40, 'currently': 9, 'available': 66, '64gb': 10, 'model': 15, '699': 1, 'optional': 1, 'leather': 2, '69': 1, 'entertain': 2, 'please': 76, 'grateful': 7, 'less': 21, 'hours': 45, 'announce': 11, 'details': 63, 'giveaway': 35, '2s': 34, 'wild': 12, 'say': 52, 'terrible': 4, 'queue': 30, 'course': 22, 'snapping': 1, 'keynote': 27, 'slides': 6, '200m': 1, 'credit': 19, 'cards': 18, 'click': 10, 'purchase': 12, '2nd': 14, 'cocktail': 3, 'texas': 45, 'snowflake': 1, 'cnngrill': 7, 'southwest': 19, 'sweet': 27, 'ballroom': 32, '35': 9, 'miles': 18, 'per': 24, 'driving': 11, 'navigation': 51, 'p': 23, 'longer': 14, 'wider': 2, '250': 1, 'packing': 10, 'extra': 12, 'way': 94, 'sunny': 5, 'stow': 1, '4sqwill': 1, 'attempt': 3, 'cross': 13, 'facebook': 98, 'blocked': 2, 'contacts': 3, 'connections': 3, 'lbswars': 1, '5': 111, 'growing': 6, 'steps': 9, 'bulletproof': 7, 'strategy': 30, 'rhjr_ux5': 7, 'wandering': 3, 'street': 61, 'girls': 10, 'stopped': 6, 'ceviche': 1, 'mojitos': 1, 'juice': 26, 'band': 18, 'track': 28, 'stage': 10, 'use': 130, 'frostwire': 5, 'wi': 6, 'fi': 7, 'busy': 19, 'week': 98, 'ahead': 9, 'amazon': 9, 'believe': 19, 'aussies': 1, '70': 14, 'buyers': 9, 'spreadsheet': 10, '270': 3, 'o_o': 2, 'plan': 18, 'sixth': 14, 'told': 11, 'car': 16, 'zimride': 1, 'etc': 28, 'rides': 1, 'shareable': 2, 'tablets': 27, 'every': 67, 'single': 11, 'receiving': 2, 'messages': 3, 'telling': 3, 'sexy': 3, 'response': 10, 'fellow': 8, 'picked': 21, 'mophie': 17, 'battery': 61, 'lugging': 2, 'huge': 34, 'thats': 5, 'took': 23, 'piss': 3, 'trade': 32, 'pissing': 2, 'kiiiiiilling': 2, 'rumor': 113, 'monger': 1, 'preview': 37, 'socbiz': 2, 'fb': 74, 'build': 7, '24': 19, 'biggest': 15, 'history': 12, 'survey': 4, 'starbucks': 7, 'gift': 11, 'research': 8, 'gratification': 3, 'retail': 27, 'release': 48, '5pm': 18, 'groupme': 10, 'sounds': 19, 'incredible': 2, 'phones': 35, 'reveal': 9, 'closures': 5, 'made': 68, 'questions': 13, 'inside': 14, 'fire': 9, 'paraormal': 1, 'activity': 6, 'sanctuary': 1, 'sketching': 1, 'ar': 4, 'interactivity': 1, 'magic': 9, 'lense': 1, 'eduar': 2, 'iie': 1, '85': 2, 'si': 1, 'swimsuit': 1, 'issue': 13, 'garage': 2, 'adds': 5, 'instagram': 10, 'photos': 55, 'socialsearch': 1, 'aftrnoon': 2, 'frozen': 3, 'lake': 6, 'photographing': 2, 'brother': 5, 'scott': 2, 'catch': 24, 'ths': 3, 'weeknd': 2, 'alarms': 4, 'botch': 1, 'timechange': 1, 'freak': 5, 'missed': 19, 'panels': 14, 'bloody': 9, 'marys': 2, 'shouts': 1, 'ladies': 8, 'holding': 18, 'shows': 18, 'sipping': 1, 'beer': 12, 'cc': 61, 'dj': 21, 'hoodie': 1, 'allen': 1, 'due': 8, 'respect': 8, 'back': 85, 'meant': 7, 'wish': 38, 'dyac': 1, 'stupid': 20, 'america': 29, 'audioboo': 4, 'american': 3, 'dream': 4, 'bust': 1, 'bum': 1, 'begger': 1, 'socialart': 1, 'documentally': 1, 'skifta': 1, 'shifting': 1, 'turns': 2, 'rumors': 19, 'signs': 5, 'locks': 5, 'curated': 4, '15': 33, 'minute': 12, 'brilliant': 35, 'enlightening': 1, 'mechanics': 7, 'presentation': 49, 'sitting': 25, 'tree': 5, 'unsix': 3, 'thirsty': 4, 'chevy': 6, 'volt': 3, 'lounge': 29, '16': 5, 'others': 70, 'came': 15, 'playing': 40, 'song': 22, 'chosen': 1, 'random': 14, 'skream': 1, 'wall': 7, 'appropriate': 1, 'sales': 17, 'genius': 30, 'arduino': 5, 'flaming': 4, 'skulls': 4, 'refrigerator': 6, 'speaks': 5, 'salon': 14, 'k': 6, '30pm': 28, 'smartthings': 4, 'reminder': 10, 'chrome': 16, 'tts': 2, 'pm': 24, 'vs': 54, 'world': 56, 'backupify': 2, 'announces': 15, 'cloudsight': 2, 'searchable': 2, 'archive': 4, 'solution': 8, 'announcing': 12, 'myopia': 2, 'cause': 10, 'jokes': 7, 'dictaphone': 1, 'vid': 7, 'camera': 34, 'cerebellum': 1, 'charged': 9, 'anything': 26, 'personal': 8, 'props': 4, 'found': 40, 'kyping': 2, 'geolocation': 4, 'releasing': 6, 'background': 4, 'patch': 2, 'batterykiller': 3, 'live': 76, 'rsvp': 11, 'sundayswagger': 1, 'eventbrite': 1, '20': 51, 'scoremore': 1, 'screen': 45, 'missing': 13, 'nuts': 11, 'packed': 28, '30': 57, 'breaking': 8, 'partnership': 4, 'porn': 5, 'chat': 17, 'facetime': 7, 'built': 35, 'temp': 78, 'understand': 9, 'corralling': 1, 'cattle': 1, 'pickmeupanipad2': 1, 'something': 46, 'near': 20, 'keep': 60, 'surprise': 17, 'technews': 15, 'heads': 22, 'sets': 35, 'tech_news': 14, 'ipad_2': 9, 'rance_wilemon': 1, 'example': 10, 'layed': 2, 'registers': 3, 'checkout': 9, 'gswsxsw': 2, 'american_statesman': 1, 'apple_apple': 1, 'geekfest': 8, 'brian_lam': 3, 'noon': 6, 'fresh': 4, 'pretty': 36, 'fingers': 5, 'saves': 21, 'true': 39, 'loathe': 1, 'mall': 5, '10x': 3, 'crowded': 6, 'fake': 9, 'fucking': 6, 'dongle': 4, '2wks': 1, 'special': 26, 'www': 19, 'thedomain': 2, 'makeshift': 11, 'kidding': 3, 'fanboy': 8, 'shit': 13, 'temptation': 5, 'control': 19, 'goes': 22, 'view': 36, 'io': 1, 'office': 7, 'closes': 9, 'run': 18, 'years': 42, 'base': 4, 'camp': 2, 'forming': 9, 'bannka': 2, 'software': 12, 'working': 51, 'stalled': 1, 'data': 55, 'sluggish': 1, 'verizon': 26, 'embarrassing': 1, 'customers': 11, 'switched': 1, 'outside': 42, 'circle': 16, 'itsnot': 1, 'price': 9, 'games': 20, 'slate': 1, 'much': 68, 'safari': 5, 'electricnews': 1, 'unloading': 5, 'jaloux': 2, 'look': 84, 'school': 10, 'bus': 9, 'arrived': 14, 'resolved': 1, 'dying': 2, 'cant': 8, 'login': 3, 'screenburn': 2, 'clients': 3, 'travellerarlaunch': 1, 'wants': 28, 'piccraft': 1, 'spend': 11, 'teaching': 5, 'theater': 2, 'schedule': 29, 'wristbands': 2, 'magically': 2, 'hi': 17, 'setting': 33, 'overheard': 6, 'relaxing': 1, 'computer': 14, 'agreed': 4, 'arg': 2, 'hate': 11, 'shocked': 2, 'author': 5, 'host': 7, 'sat': 13, '12': 67, 'hilton': 33, 'room': 58, '615ab': 7, 'technology': 91, 'square': 8, 'foot': 9, 'test': 18, 'potential': 11, 'products': 98, 'nerd': 7, 'bait': 1, 'shop': 142, 'core': 48, 'action': 63, 'everbody': 1, 'driven': 8, 'revolutions': 1, 'better': 70, 'rather': 9, 'agileagency': 10, 'knackered': 1, 'updating': 3, 'timeline': 1, 'smashed': 1, 'partytweets': 1, 'bed': 5, 'mdw': 1, 'second': 9, 'halfway': 2, 'even': 109, 'boarded': 1, 'plane': 15, 'amateurhour': 1, 'jobs_co': 1, 'final': 9, 'doodles': 22, 'googledoodle': 12, 'crowd': 42, 'tripping': 1, '80': 15, 'crazy': 30, 'posted': 4, 'dmi': 2, 'intimate': 4, 'stranger': 4, 'restaurant': 4, 'deal': 17, 'wif': 1, 'woman': 12, 'sounded': 2, 'chelsea': 1, 'handler': 1, 'lol': 38, 'laughed': 1, 'hauling': 1, 'macbook': 30, 'everywhere': 33, 'shoulder': 2, 'rub': 1, 'attendees': 47, 'qr': 14, 'code': 34, 'reader': 12, 'image': 11, 'badge': 18, 'optiscan': 3, 'plz': 2, 'pictures': 5, 'march': 35, 'tx': 27, 'registration': 6, '_': 3, 'landed': 1, 'spotted': 11, 'ads': 8, 'airport': 16, 'ultimate': 2, 'pocket': 8, 'yelp': 16, 'itouru': 1, 'lego': 14, 'pit': 1, 'replaced': 4, 'recharging': 4, 'station': 10, 'might': 55, 'prices': 1, 'crap': 3, 'standing': 25, 'cute': 4, 'bad': 36, 'qs': 1, 'process': 5, 'poo': 1, 'poos': 1, 'ideas': 9, 'leaves': 5, 'early': 24, 'creative': 9, 'gamestorming': 5, 'bahrain': 2, 'govt': 7, 'turned': 7, 'result': 4, 'learned': 11, 'balance': 2, 'airplane': 2, 'mode': 5, 'racing': 4, '100': 16, 'precommerce': 1, 'wave': 9, 'interrupt': 26, 'regularly': 26, 'scheduled': 29, 'geek': 59, 'programming': 26, 'big': 136, 'watch': 39, 'ipadmadness': 1, 'yeah': 15, 'celebrate': 12, 'beauty': 3, 'msft': 3, 'ie9': 12, 'html5': 23, 'met': 14, 'influential': 1, 'microsoft': 35, 'woke': 6, 'finished': 7, 'enough': 20, 'sleep': 8, 'quiet': 3, 'companies': 20, 'believing': 1, 'nfc': 25, 'nexus': 12, 'nokia': 4, 'carriers': 4, 'verifone': 2, 'seems': 35, 'sxswnfc': 1, 'gave': 49, 'money': 49, 'relief': 59, 'previewing': 1, 'networking': 14, 'improve': 16, 'cus': 1, 'pacman': 2, 'singularity': 2, 'noobs': 1, 'meetup': 35, 'beyond': 22, 'sharing': 24, 'positive': 5, 'actions': 4, 'earthhour': 3, '60': 4, 'mistake': 4, 'bringing': 18, 'charger': 49, 'bing': 115, 'shot': 22, 'success': 19, 'structured': 2, 'potentially': 3, 'higher': 6, 'margin': 2, 'cpa': 2, 'results': 24, 'qagb': 50, 'question': 22, 'dashboard': 12, 'hoot': 13, 'impulsive': 4, 'gen': 15, '32gb': 3, 'buying': 23, 'geekdate': 2, 'present': 15, 'rsq': 1, 'illustrated': 2, 'sometimes': 1, 'ogilvy': 9, 'cyber': 8, 'saturday': 11, 'giant': 16, 'overlap': 1, 'tuxedo': 4, 'lose': 13, 'cooler': 9, 'living': 28, 'exciting': 7, 'certain': 1, 'meetings': 8, 'hello': 19, 'dont': 14, 'miss': 23, 'charles': 10, 'chen': 10, 'chromeos': 8, 'booth': 101, 'exhibit': 20, 'hall': 22, '1pm': 16, 'speaking': 10, 'l': 8, 'avail': 3, 'chime': 2, 'nasatweetup': 2, '15pm': 2, '3pm': 2, 'central': 3, 'session': 108, 'daily': 37, 'chord': 2, 'tuesday': 6, 'hackers': 15, 'discover': 8, 'servicestory': 2, 'rollin': 1, 'rolling': 2, 'stone': 1, 'mo': 3, 'reconsidering': 1, 'shape': 5, 'corners': 2, 'rounded': 1, 'plenty': 42, 'classics': 3, 'm4blog': 1, '40': 52, 'collaboration': 4, 'across': 19, 'boundaries': 2, 'webex': 1, 'dropbox': 1, 'whiteboarding': 3, 'basecamp': 1, 'evolvingworkplace': 5, 'collaborate': 2, 'plancast': 2, 'hear': 39, 'mins': 10, 'designing': 85, 'interfaces': 39, 'schemas': 27, 'ballrm': 2, '00am': 3, 'guess': 24, 'desperate': 2, 'locations': 10, 'considering': 1, 'leaving': 15, 'pro': 14, 'flying': 7, 'solo': 10, 'among': 16, 'goofy': 1, 'things': 40, 'spied': 1, 'etchnsketch': 1, 'grown': 3, 'tug': 1, 'war': 7, 'wishes': 1, 'instead': 39, 'homework': 1, 'fiting': 1, 'coyne': 4, 'pr': 13, 'realize': 9, 'syd': 1, 'crew': 12, 'pods': 1, 'procured': 1, 'crowds': 4, 'article': 16, 'uj': 2, 'acc': 19, 'snap': 9, 'send': 21, 'em': 7, 'shipments': 3, 'appleatxdt': 7, 'tired': 3, 'hold': 13, 'death': 9, 'slice': 3, 'battlela': 1, 'secret': 18, 'batphone': 1, 'selective': 1, 'decide': 5, 'attend': 23, 'meyer': 10, 'later': 21, 'given': 6, 'excellent': 11, 'nth': 1, 'lucky': 13, 'default': 4, 'state': 1, 'leisurely': 3, 'contemplative': 1, 'definitely': 10, 'hot': 39, 'topic': 6, 'lessons': 2, 'learnt': 3, 'building': 46, 'netflix': 22, 'deliberately': 1, 'chose': 1, 'availability': 1, 'knowing': 3, 'large': 6, 'chunk': 1, 'customer': 14, 'tv': 85, 'league': 22, 'extraordinary': 22, 'lxh': 3, 'chunky': 2, 'elements': 2, 'generous': 2, 'clarity': 3, 'trumps': 7, 'density': 3, 'tap': 9, 'quality': 6, 'quantity': 3, 'tapworthy': 54, 'akqa': 5, 'lynn': 7, 'teo': 5, 'hiring': 11, 'uxamandroid': 4, 'taking': 51, 'adobe': 2, 'developed': 4, 'engine': 18, 'essentially': 3, 'convert': 1, 'swf': 1, 'files': 2, 'jquery': 3, 'existing': 3, 'portable': 8, 'behaviour': 3, 'diff': 5, 'lots': 34, 'calls': 8, 'notsomuch': 3, 'mobiles': 2, 'internets': 4, 'lovin': 3, 'sings': 1, 'plays': 2, 'guitar': 2, 'record': 5, 'vids': 5, 'cnn': 41, 'thinks': 19, 'q2': 3, 'offers': 27, 'smccolumbus': 3, 'docomo': 2, 'introduced': 3, 'jpmobilesummit': 2, 'pulling': 4, 'trigger': 2, 'forget': 31, 'privacybootcamp': 9, 'startups': 29, '9abc': 5, 'cst': 11, 'button': 12, 'abnormal': 2, 'amount': 6, 'signup': 2, 'relic': 3, 'sxsw2011': 13, 'eligible': 1, 'tracks': 22, 'sampler': 52, 'downloadfree': 1, 'green': 3, 'lady': 8, 'killers': 4, 'drew': 1, 'bigger': 19, 'chimp': 1, 'sorry': 11, 'jeez': 1, 'guys': 45, 'dunno': 2, 'gold': 9, 'un': 2, 'jobs': 15, 'aesthetic': 1, 'hashable': 13, 'ride': 21, 'anywhere': 19, 'groundlink': 16, '437': 16, 'dwnld': 11, 'begins': 53, 'tc': 8, 'past': 18, 'dilemma': 3, 'techcrunch': 13, 'gonna': 28, 'sum': 2, 'badgeless': 2, 'drinks': 20, 'semantic': 6, 'fogo': 4, 'de': 11, 'chao': 4, 'swag': 9, 'charging': 20, 'everyone': 89, 'making': 50, 'luck': 8, 'chances': 10, 'timing': 7, 'brand': 32, 'winner': 8, 'exhibitors': 2, 'capture': 6, 'retrollect': 7, 'disc': 13, 'popular': 12, 'extreme': 2, 'impulse': 4, '4sq': 16, 'sees': 6, 'fantastic': 6, 'bummer': 2, 'crackberry': 1, 'accessory': 3, 'followed': 2, 'closely': 4, 'margarita': 2, 'fav': 9, 'fell': 7, 'throwing': 4, 'speakeasy': 13, 'figure': 10, 'replacement': 3, 'dslr': 1, 'discussion': 10, 'moderated': 1, 'fame': 1, 'red': 26, 'carpet': 2, 'coverage': 13, 'cw': 2, 'star': 6, 'mandy': 2, 'dugan': 2, 'grouped': 4, 'stream': 24, 'inane': 1, 'surely': 5, 'southby': 2, 'hottest': 4, 'spots': 10, 'widfy': 3, 'social_search': 1, 'il': 8, 'ceo': 12, 'di': 4, 'annuncia': 2, 'la': 9, 'versione': 2, 'focusing': 4, 'bridging': 3, 'divide': 3, 'eg': 7, 'streetview': 7, 'hotpot': 62, 'autonomous': 3, 'blast': 2, 'condesa': 2, 'pepsi': 7, 'max': 4, 'alcoholics': 1, 'call': 34, 'enabling': 1, 'rest': 8, 'college': 3, 'followers': 5, 'socialmedia': 33, 'list': 24, 'jambox': 1, 'elitebook': 1, 'lacking': 1, 'headphones': 3, 'suggestions': 12, 'preparing': 4, 'friday': 35, 'bound': 6, 'fanboys': 5, 'saving': 46, 'jerranalley': 2, 'tbalinas': 2, 'ntn': 1, 'helps': 7, 'field': 4, 'kids': 9, 'carlson': 2, 'matthew': 3, 'davis': 3, 'mon': 18, '9': 33, 'hitlantis': 4, 'explorer': 14, 'musicviz': 2, 'searching': 3, 'public': 14, 'notes': 24, 'front': 47, 'since': 29, '5am': 1, 'apparently': 25, 'frankenstein': 1, 'amalgamation': 1, 'fragmented': 1, 'identities': 3, 'becoming': 12, 'anti': 6, 'schizophrenic': 1, 'ai': 4, 'sm': 5, 'sci': 1, '22': 16, 'artists': 39, 'webdoc': 12, '2011': 72, 'showcasing': 5, 'torrents': 6, 'borrow': 7, 'lmk': 3, 'premium': 4, 'dm': 4, 'atl': 1, 'akqas': 2, 'interface': 20, 'callback': 2, 'principles': 5, 'examples': 11, 'tessie': 1, 'frontwoman': 1, 'ink': 4, 'painful': 3, 'contextual': 30, 'argues': 3, 'exceptionally': 3, 'valuable': 13, 'touch': 18, 'user': 34, 'employees': 19, 'compete': 6, 'gain': 2, 'vip': 16, 'status': 6, 'prizes': 12, 'geek_games': 1, 'gearing': 13, 'splash': 9, 'boom': 8, 'zazzle': 8, 'create': 19, 'retro': 1, 'maggie': 25, 'mae': 16, 'word': 14, 'soundcloud': 4, 'geotagging': 2, 'air': 20, 'full': 40, 'underway': 2, 'tell': 41, 'intermittent': 1, 'brick': 3, 'try': 26, 'kindle': 13, 'happening': 9, 'sheraton': 3, 'zaarly': 7, 'referrals': 4, 'craigslistkiller': 1, 'labs': 3, 'laptops': 5, 'source': 20, 'coders': 1, 'r': 26, 'cupcake': 2, 'windows': 26, 'addition': 3, 'sitter': 1, 'score': 11, 'martin': 1, 'babyheadphones': 1, 'afraid': 2, 'goers': 4, 'droppin': 1, 'survival': 11, 'hangover': 3, 'cure': 1, 'tamale': 1, 'bomb': 3, 'devastating': 1, 'omg': 19, 'iphone4': 5, 'ipod': 23, 'tab': 4, 'techgeek': 1, 'html': 11, 'css': 6, 'webmaster': 5, 'golden': 2, 'tickets': 3, 'f': 5, 'redbullbpm': 1, 'felix': 1, 'da': 2, 'housecat': 1, 'er': 2, 'spam': 3, 'busiest': 2, '1986': 16, 'blowing': 1, 'authenticator': 1, 'devices': 31, 'step': 12, 'alternative': 3, 'domain': 7, 'extension': 4, 'equal': 4, 'features': 24, 'frm': 3, 'lets': 11, 'sites': 12, 'blocking': 1, 'length': 2, 'penalty': 2, 'severity': 2, 'breach': 2, 'guidelines': 4, 'e': 19, 'text': 22, 'bgr': 2, 'pen': 7, 'lonelyboy15': 1, 'updated': 30, 'happen': 11, 'never': 35, 'beat': 7, 'myspace': 1, 'gaga': 8, 'hnwsxsw': 1, 'goog': 6, 'dejavu': 1, 'sta': 1, 'nije': 1, 'im': 6, 'dosta': 1, 'gbuzz': 1, 'te': 1, 'dije': 1, 'wey': 1, 'super': 21, 'nfusion': 7, 'applause': 2, 'privacy': 24, 'product': 69, 'consumer': 15, 'basically': 8, 'ea': 4, 'zynga': 4, 'intuit': 5, 'context': 7, 'deeper': 1, 'searches': 23, 'without': 41, 'cutts': 6, 'reputation': 5, 'topicality': 6, 'keys': 5, 'rankings': 19, 'saying': 16, 'trust': 2, 'lda': 1, 'ironic': 7, 'googled': 3, 'directions': 12, 'ended': 3, 'walked': 15, '6': 40, 'wrong': 9, 'direction': 3, 'googletv': 6, 'connected': 14, 'connectedtv': 5, 'fascinating': 4, 'cnnmoney': 3, 'craving': 4, 'minds': 6, 'foodspotting': 8, 'drunk': 7, 'latest': 20, 'saytextson': 2, 'msc_page': 2, 'tattoo': 21, 'allshare': 1, 'bring': 39, 'magazines': 19, 'half': 13, 'dude': 29, 'cutsies': 2, 'thisisdare': 4, 'hang': 7, 'hacked': 1, 'nook': 3, 'neck': 3, 'become': 6, 'flava': 1, 'flav': 1, 'works': 18, 'recommendation': 6, 'nothing': 28, 'smtravel': 1, 'plans': 17, 'socnet': 1, 'bb': 7, 'discriminatory': 1, 'officially': 13, 'fc': 1, 'grill': 9, 'invites': 3, 'thunk': 1, 'agencies': 7, 'gone': 12, 'otherwise': 9, 'pc': 15, 'dell': 6, 'b': 34, 'soon': 33, 'hawk': 4, 'story': 20, 'connectedbrands': 3, 'sxswic': 5, 'pumped': 2, 'dudes': 8, 'logos': 6, 'heathcare': 2, 'lordy': 1, 'little': 23, 'loved': 7, 'honesty': 2, 'minus': 1, 'mavens': 1, 'performing': 1, 'degrading': 1, 'sex': 1, 'acts': 1, 'charge': 23, 'bout': 6, 'donating': 12, 'spending': 13, 'revenue': 6, 'grossed': 1, 'account': 8, 'amid': 2, 'strategic': 2, 'hint': 7, 'bill_murray': 1, 'how_to': 1, 'popups': 1, 'gee': 4, 'scavenger': 6, 'businesses': 4, 'released': 21, 'fit': 4, 'luggage': 1, 'hmmm': 12, 'holy': 9, 'moly': 1, 'torrent': 5, 'legal': 3, 'cell': 5, 'glad': 15, 'lifelinetotheworld': 1, 'feeling': 8, 'worst': 6, 'techiesunite': 1, 'runs': 2, 'cow': 2, 'hooked': 2, 'paolo': 2, 'alex': 3, 'backup': 6, 'powermat': 4, 'powermatteam': 2, 'powermattteam': 1, 'mean': 13, 'knew': 9, 'plied': 1, 'stogies': 1, 'weasel': 1, 'honestly': 2, 'truestory': 1, 'totally': 16, 'bateman': 1, 'sign': 33, 'traveled': 1, 'heavy': 3, 'light': 16, 'thought': 27, 'touched': 2, 'hmmzies': 1, 'fam': 15, 'showing': 40, 'doodle': 13, 'frustrated': 1, 'moment': 12, 'runaround': 1, 'att': 11, 'ev': 1, 'ry': 1, 'hustlin': 1, 'absolutely': 6, 'ranking': 38, 'small': 16, '75': 8, 'locked': 1, 'startupbus': 16, 'addictive': 1, 'practical': 2, 'androidhig': 1, 'bueller': 1, 'door': 14, 'spot': 14, 'speed': 3, 'centre': 1, 'xd': 4, 'figuring': 1, 'wot': 1, 'elsewhere': 1, 'shorter': 2, 'interview': 27, 'disaster': 13, 'evan': 1, 'woods': 3, 'alot': 3, 'staring': 12, 'able': 36, 'afford': 16, 'consider': 19, 'imagines': 2, 'asks': 7, 'smscifi': 3, 'imminent': 2, 'evening': 6, 'clip': 4, 'joins': 9, 'sxswgo': 4, 'cnt': 1, 'ignite': 2, 'n': 16, 'supporting': 2, 'smarty': 2, 'ears': 4, 'therapy': 16, 'etch': 7, 'sketch': 8, 'device': 27, 'iusxsw': 2, 'goodness': 5, 'route': 34, 'truther': 1, 'movement': 5, 'spiderhouse': 1, 'tool': 16, 'included': 5, 'influence': 7, 'ditto': 2, 'choice': 29, 'understandinghumans': 2, 'wabi': 1, 'sabi': 1, 'inspiration': 2, 'lab': 5, 'spanish': 2, 'trend': 8, 'scout': 2, 'zite': 1, 'intelligent': 3, 'magazine': 7, 'deliciousness': 1, 'youneedthis': 1, 'interested': 15, 'indoor': 4, 'venues': 4, 'centers': 3, 'thekills': 1, 'painfully': 1, 'vacuous': 1, 'interviews': 1, 'soo': 4, 'invisible': 2, 'instruments': 4, 'jaw': 2, 'dropping': 6, 'wii': 4, 'controller': 3, 'lovemusicapi': 1, 'rockin': 9, 'apple_store': 4, 'jailbreak': 1, 'fab5': 2, 'intense': 4, 'remaining': 2, 'accessories': 3, 'bag': 18, 'exist': 8, 'feel': 35, 'antique': 1, 'everytime': 2, 'messaging': 6, 'cheeky': 2, 'hanging': 13, 'cedar': 3, 'courtyard': 4, 'shoot': 7, 'display': 7, 'osmpw': 1, 'performance': 6, 'accordion': 3, 'toodamnlucky': 3, 'fear': 6, '3gs': 8, 'slowpoke': 1, 'sxswmusic': 1, 'mocking': 2, 'flypost': 1, 'community': 11, 'bulletin': 1, 'board': 6, 'pedicab': 2, 'epic': 8, 'forgot': 11, 'knife': 2, 'gun': 10, 'fight': 20, 'transient': 1, 'bursts': 1, '8pm': 2, 'couch': 5, 'fret': 2, 'owners': 17, 'disliking': 1, 'auto': 6, 'shortening': 1, 'links': 11, 'clearly': 9, 'positively': 1, 'happily': 2, 'clipboard': 1, 'carny': 1, 'lowtech': 1, 'competing': 2, 'socialflow': 2, 'resonant': 2, 'glowing': 2, 'classicaudiencemisread': 1, 'overheating': 1, 'british': 3, 'sounding': 2, 'crashing': 5, 'rocking': 8, 'cloud': 18, 'friendly': 14, 'closed': 10, 'acquisition': 2, 'answering': 5, 'pointed': 1, 'gamesalad': 2, 'dutch': 4, 'podcast': 16, 'gssxsw': 2, 'sxswnl': 5, 'sister': 3, 'tonigh': 1, 'walking': 32, 'ummmm': 2, 'wilting': 1, 'stress': 1, 'almost': 24, 'always': 25, 'geeksrule': 1, 'strange': 8, 'sw': 1, 'shhh': 1, 'taariq': 2, 'howdy': 2, 'usguys': 12, 'g03mzb': 10, 'smaller': 4, 'meeti': 1, 'meeting': 14, 'jealous': 22, 'obsolete': 5, 'irish': 3, 'pub': 5, 'posterous': 12, 'pile': 8, 'richpearson': 1, 'buildings': 5, 'sprout': 1, 'broke': 4, 'friends_offer': 1, 'the_game': 1, 'explanation': 11, 'instantly': 2, 'pixieengine': 1, 'cha': 2, 'craftbeer': 1, 'drinking': 6, 'pint': 1, 'keeps': 8, 'awake': 2, 'key': 6, 'trustworthiness': 8, 'zappos': 10, 'likeability': 6, 'richard': 4, 'branson': 1, 'mccannsxsw': 3, 'mrmworldwide': 1, '65': 7, 'tough': 4, 'dwindling': 1, 'jeebus': 1, 'correcting': 1, 'curse': 1, 'words': 5, 'jon': 2, 'kolko': 1, 'coffee': 17, 'venture': 4, 'accelerator': 1, 'critically': 1, 'edu': 2, 'lanzara': 1, 'ningun': 1, 'producto': 1, 'en': 6, 'mentionc': 2, 'planned': 4, 'care': 14, 'brazil': 2, 'orkut': 2, 'threat': 1, 'pcbuzz': 4, 'pakistan': 1, 'cwc2011': 1, 'lb': 1, 'screenfuture': 2, 'curious': 10, '22sxsw': 4, 'rww': 7, 'f6bcet': 6, 'yam': 4, 'v': 24, 'linking': 5, 'peeps': 19, 'portal': 1, 'exists': 7, 'though': 14, 'videos': 10, 'analytics': 32, 'integrates': 1, 'hootstats': 1, 'googlecircles': 11, '80s': 31, 'dancing': 13, 'wikitude': 1, 'layar': 2, 'flar': 1, 'argon': 1, 'goggles': 6, 'augmented': 16, 'reality': 19, 'browsers': 2, 'lazy': 3, 'lightbox': 9, 'awards': 23, 'finalists': 3, 'announced': 16, 'imac': 2, 'smells': 1, 'cheese': 7, 'sticks': 1, 'etsy': 5, 'realtalk': 3, 'wth': 5, 'till': 6, 'passing': 5, 'surfing': 1, 'saw': 56, 'premiere': 3, 'screams': 1, 'performers': 5, 'scrape': 4, 'engaging': 5, 'heck': 6, 'happened': 7, 'lone': 6, 'awaits': 5, 'expected': 12, 'bet': 17, 'longest': 8, 'signals': 4, 'hig': 1, 'adam': 2, 'beckley': 1, 'radio': 5, 'listen': 11, 'nowplaying': 1, 'newmusic': 1, 'pls': 11, 'cab': 20, '11p': 2, 'drawing': 9, 'sketchup': 5, 'efforts': 2, 'helping': 11, 'global': 4, 'issues': 10, 'wtf': 6, 'unabashed': 1, 'geeky': 3, 'n33': 1, 'codes': 51, 'valid': 48, '00': 48, '59': 50, '59p': 39, '03': 52, '14': 21, 'infektd': 48, 'necro': 13, 'sketchily': 2, 'lurking': 2, 'boi': 6, 'concert': 13, '8am': 3, 'hard': 22, 'massive': 6, 'announcement': 10, 'deadline': 3, 'lovemyjob': 2, 'detailed': 5, 'colour': 1, 'coded': 1, 'proving': 1, 'organized': 1, 'panhandling': 5, 'whole': 16, 'raises': 8, 'stillonamacbook': 1, 'shame': 3, 'marketers': 5, 'designers': 5, 'creatives': 3, 'pros': 4, 'aquent': 9, '1415': 5, 'marty': 1, 'veterans': 1, 'reasons': 2, 'ambassador': 2, 'upload': 5, 'reward': 8, 'cbatsxsw': 9, 'amazes': 1, 'tuck': 1, 'flap': 2, 'webber': 2, 'dionne': 2, 'warwick': 2, 'alert': 5, 'tablet': 34, 'finding': 14, 'needle': 2, 'haystack': 1, 'cr': 2, '48': 4, 'n2': 1, 'mental': 1, 'doingitwrong': 3, 'purchased': 8, 'mexican': 3, 'mavis': 2, 'boy': 4, 'bear': 3, 'comprando': 1, 'mi': 1, 'el': 4, '62': 1, 'twice': 1, 'dairy': 1, 'relies': 2, 'evernote': 2, 'agchat': 10, 'bummed': 2, 'quarantined': 1, 'kiddie': 1, 'cold': 1, 'garageband': 1, 'comfort': 3, 'enabled': 3, 'marker': 1, 'birds': 2, 'billboard': 3, 'mist': 2, 'dope': 3, 'interviewed': 5, 'adi': 3, 'compared': 4, 'cat': 2, 'keitai': 1, 'shared': 7, 'paul': 6, 'mashup': 5, 'information': 25, 'thefutureismobile': 2, 'pats': 2, 'julia': 2, 'sweeney': 2, 'well': 70, 'bc': 4, 'alumni': 2, 'loving': 15, 'morphie': 2, 'juicepack': 2, 'recharge': 9, 'move': 24, 'movers': 5, 'shakers': 5, 'poke': 3, 'box': 6, 'ebook': 5, 'involved': 3, 'handing': 10, 'audi': 4, 'cars': 4, 'murphy': 2, 'usa': 7, 'serve': 10, 'v5': 3, 'designflaws': 1, 'compiling': 1, 'musicians': 2, 'kicked': 3, 'bucket': 1, 'within': 5, 'distance': 3, 'deed': 1, 'returned': 1, 'gifting': 1, 'exogear': 1, 'priceless': 1, 'sent': 5, 'unequipped': 1, 'dang': 6, 'sole': 1, 'dotrights': 1, 'whats': 1, 'imthetype': 2, 'page': 24, 'flip': 8, 'effect': 2, 'cd': 2, 'player': 10, 'hm': 2, 'challenged': 5, 'solve': 4, 'parenting': 4, 'worklifeprogress': 1, 'badass': 4, 'debugging': 2, 'emergency': 4, 'fin': 3, 'vamos': 1, 'probar': 1, 'dev': 32, 'politics': 3, 'innovate': 5, 'publishers': 4, 'subsidizing': 1, 'newsapps': 31, 'trophy': 1, 'lookingforwardtothemusicfest': 1, 'huh': 4, 'feelings': 4, 'partner': 3, 'hack': 8, 'jumping': 2, 'corporate': 7, 'firewall': 2, 'g': 8, 'docs': 12, 'hackingwork': 1, 'flop': 2, 'akabuzz': 1, 'c34': 1, 'retreat': 2, 'cvdc': 7, '1of': 1, 'dfcbto': 1, 'bandwagon': 2, 'partying': 5, 'surprised': 8, 'table': 10, 'three': 13, 'gadgetoverload': 2, 'farooqui': 1, 'catching': 3, 'grow': 2, 'purchasing': 2, 'gamesfortv': 1, 'extended': 5, '13': 25, 'calvin': 4, 'charlie': 6, 'sheen': 7, 'goddesses': 6, 'feedback': 2, 'pushed': 2, 'fix': 9, 'grilled': 5, 'manufacturing': 2, 'serendipity': 4, 'teeming': 1, 'sea': 4, 'addicts': 2, 'twittering': 1, 'engage': 3, 'anoth': 1, 'opinions': 2, 'annoying': 4, 'usage': 38, 'hundreds': 3, 'continuum': 1, 'attitudes': 2, 'crowdsourcing': 2, 'gap': 7, 'vp': 17, 'claimed': 3, 'logged': 3, 'third': 7, 'era': 2, 'batch': 1, 'delivered': 5, 'highlight': 5, 'undoubtedly': 1, 'seconds': 1, 'softball': 1, 'fancrazed': 1, 'siliconvalley': 1, 'hacking': 5, 'ex': 10, 'au': 3, 'speakermeetup': 1, 'dogpatch': 1, '3d': 16, 'vector': 6, 'panning': 1, 'gasps': 1, 'appreciation': 2, 'tip': 26, 'brightness': 5, 'conservebatterylife': 2, 'peace': 2, 'leg': 1, 'i14': 1, 'zombie': 2, 'zomb': 11, 'i18': 1, 'tomlinson': 7, 'observer': 8, 'subscription': 2, 'impediment': 2, 'fetch': 2, 'manual': 1, 'email': 11, 'mail': 9, 'cal': 2, 'official': 30, 'grille': 6, 'zazzlsxsw': 5, 'jk': 3, 'kiss': 1, 'slap': 7, 'xoom': 9, 'cr48': 2, 'idle': 1, 'expensive': 6, 'finds': 2, 'foods': 1, 'crave': 2, 'cnnmoneysxsw': 3, 'shortcuts': 1, 'newspaper': 4, 'caramel': 1, 'macchiato': 1, 'ouch': 5, 'hiss': 1, 'pumps': 1, 'lava': 1, 'tmsxsw': 5, 'hits': 3, 'canada': 7, 'ratings': 3, 'showed': 9, 'bar': 28, 'wanted': 9, 'weeks': 6, 'umm': 6, 'obvious': 1, 'cough': 5, 'property': 1, 'realestate': 1, 'tues': 5, 'managers': 1, 'wear': 3, 'openbeta': 3, 'quibids': 3, 'sxswbuffalo': 7, 'tempted': 5, 'participating': 5, 'launchrock': 9, 'comp': 5, 'invite': 10, 'dexteria': 1, 'scarfing': 1, 'confusion': 3, 'claim': 5, 'fragmentation': 3, 'computing': 8, 'presented': 10, 'wiley': 5, 'moderator': 2, 'europe': 5, '3000': 2, 'roaming': 4, 'charges': 3, '2010': 4, 'brown': 3, 'paper': 11, 'grows': 2, 'journalism': 2, 'npr': 9, 'pbs': 3, 'voicefeed': 1, 'interact': 4, 'different': 17, 'vegitarian': 1, 'vegan': 2, 'mr': 10, 'natural': 3, 'sxswsurvival': 1, 'shown': 2, 'tshirts': 3, 'themed': 12, 'costume': 11, 'yep': 14, 'iamtimbaker': 1, '1980': 1, 'theme': 8, 'government': 3, 'bolinsxsw': 4, 'planning': 9, 'previews': 4, 'concertgoers': 8, 'swsx': 2, 'non': 17, 'electronics': 3, 'men': 4, 'legos': 1, 'cope': 1, 'usability': 1, 'poked': 6, 'liked': 10, 'tweeted': 9, 'sxsw15': 4, 'joke': 6, 'attractive': 1, 'impressive': 11, 'permanent': 2, 'finally': 22, 'dwindled': 2, 'hook': 2, 'singing': 1, 'high': 16, 'fives': 1, 'powers': 1, 'websites': 4, 'wp': 1, 'founder': 13, '88': 1, 'russian': 1, 'bots': 7, 'nigerian': 1, 'bankers': 1, 'stunt': 1, 'draws': 1, 'redeem': 4, 'swoop': 1, 'untapped': 1, 'market': 33, 'pour': 1, 'accessibility': 12, 'presentations': 5, 'sick': 4, 'google_circles': 1, 'social_network': 1, 'problem': 6, 'stories': 17, 'creating': 6, 'hacknews': 2, 'problems': 2, 'sxsma': 1, 'qik': 1, 'ne': 3, 'sapete': 2, 'qualcosa': 2, 'fueling': 3, 'fare': 3, 'eatshopaustinapp': 2, 'radar': 2, 'circus': 11, 'professionals': 4, 'save': 8, 'pah': 1, 'permission': 1, 'rec': 2, 'mtg': 5, 'voluntary': 2, 'participants': 3, 'reproducing': 1, 'digitally': 1, 'organically': 1, 'consume': 1, 'marissameyer': 4, 'instore': 1, 'goods': 3, 'biz': 15, 'inventory': 7, 'ala': 2, 'mullet': 1, 'kiosks': 1, 'retiring': 2, 'wine': 5, 'library': 5, 'moving': 9, 'onto': 7, 'grape': 11, 'yr': 13, 'thankyouecon': 5, 'reveals': 2, 'average': 4, 'nyt': 9, 'oscars': 2, '16mins': 2, 'blew': 2, 'reported': 3, 'b_social': 1, 'congrats': 26, 'eats': 5, 'bbq': 16, 'complete': 8, 'quibidswin': 1, 'andoid': 11, 'eh': 2, 'law': 5, 'averages': 2, '______': 9, 'naomi': 6, 'campbell': 5, 'rage': 5, 'accompanied': 2, 'fedoras': 2, 'haircuts': 2, 'oooorkut': 2, 'shut': 2, 'socialnetwork': 3, 'yen': 1, 'important': 25, 'japanese': 14, 'sxswcares': 8, 'quake': 14, 'rule': 4, 'ooing': 2, 'ahing': 2, 'everybody': 4, 'gps': 12, 'alternate': 5, 'routes': 7, 'rare': 5, 'sighting': 4, 'indeed': 3, 'sched': 5, 'org': 8, 'unofficial': 13, 'counts': 2, 'current': 5, 'browser': 17, 'application': 4, 'lmndst': 2, 'grabbed': 3, 'seat': 4, 'expect': 14, 'several': 6, 'trials': 1, 'virtualwallet': 3, 'digitalid': 1, 'selected': 2, 'finalist': 2, 'bajillions': 3, 'bunch': 8, 'computers': 8, 'c40': 1, 'exclusive': 15, 'fools': 4, 'restaurants': 3, 'rating': 4, 'advertising': 8, 'danger': 2, 'floor': 17, 'dreaded': 1, 'damn': 10, 'tingles': 1, 'sxnewworlds': 1, 'slow': 6, 'resting': 2, 'heartrate': 1, 'leisure': 2, 'spilled': 8, 'beans': 10, 'sxflip': 15, 'impressed': 6, 'slim': 2, 'form': 9, 'ness': 1, 'tried': 15, 'head': 31, 'explode': 1, 'message': 4, 'brought': 14, 'delicious': 6, 'often': 2, 'including': 30, 'drag': 2, 'drop': 10, 'management': 6, 'geeks': 23, 'poster': 3, 'walls': 1, 'talked': 10, 'developers': 36, 'androidsxsw': 7, 'transfer': 3, 'fetishism': 2, 'slowly': 3, 'spambots': 1, 'ramping': 1, 'spammers': 2, 'goaway': 1, 'downloading': 11, 'favorites': 2, 'baracades': 1, 'starts': 14, 'staying': 8, 'alive': 7, 'indie': 12, 'survive': 15, 'stayingalive': 2, 'custom': 11, 'fonts': 6, 'supposedly': 6, 'ish': 1, 'needed': 8, 'tall': 1, 'tee': 5, 'hoodies': 1, 'note': 9, 'close': 7, 'rainey': 3, 'st': 20, 'sink': 2, 'hipster': 15, 'lord': 2, 'vortex': 2, 'smugness': 2, 'unbearable': 2, 'alerts': 3, 'palo': 1, 'alto': 1, 'convinced': 5, 'shipped': 2, 'majority': 5, 'eb5fjs': 1, 'feed': 11, '150m': 5, 'desktop': 9, 'hahahahah': 1, 'reid': 3, 'hoffman': 2, 'beards': 7, 'wiiings': 1, 'https': 7, 'php': 2, 'eid': 2, '141164002609303': 2, 'leanux': 4, 'order': 12, 'humorous': 3, 'bees': 3, 'unveiling': 5, 'portion': 3, 'interacting': 1, 'istoned': 1, 'tweetaholic': 1, 'tweetanonymous': 1, 'addict': 1, '26svo3m': 1, 'dokobots': 3, 'geogames': 5, 'dangerous': 5, 'setup': 7, 'tom': 4, 'ill': 1, 'hopefully': 9, 'fact': 4, 'flew': 3, 'agenda': 2, 'offline': 3, 'buddy': 4, 'hee': 2, 'drip': 1, 'feeding': 2, 'rival': 2, 'phrase': 1, 'goals': 1, 'knock': 1, 'install': 5, 'sdk': 1, 'pray': 1, 'sencha': 1, 'phonegap': 1, 'workshop': 2, 'emc': 8, 'enter': 27, 'sxswsa': 10, 'qa': 4, 'insights': 8, 'webmasters': 1, 'ware': 1, 'ides': 1, 'unpacked': 1, 'ipoo': 1, '4chan': 4, 'bathroom': 3, 'sxswmoot': 3, 'z27': 1, 'zlf': 16, 'boost': 3, 'pack': 22, 'chick': 2, 'ample': 2, 'pdanet': 1, 'likes': 11, 'aol': 4, 'whrrl': 9, 'marketplace': 8, 'ol': 1, 'brits': 1, 'gooddeed': 1, 'original': 15, 'eating': 5, 'normal': 7, 'dork': 1, 'sense': 8, 'scarborough': 6, 'tiny': 5, 'ftp': 1, 'cloudapp': 1, 'typing': 7, 'skype': 5, 'exploring': 3, 'xml': 2, 'combines': 1, 'individuals': 1, 'common': 4, 'carry': 5, 'lame': 7, 'expectation': 1, 'engagement': 6, 'visual': 3, 'delving': 1, 'sxfl': 1, 'country': 6, 'planted': 1, 'insanely': 4, 'thin': 5, 'mosaicxm': 5, 'dance': 2, 'outbrain': 2, 'decided': 7, 'suggestion': 1, 'welcome': 14, 'inferior': 1, 'smell': 1, 'hereforwork': 1, 'nottheipad2': 1, 'glimpse': 2, 'resist': 4, 'fixed': 2, 'cnr': 1, 'conventionctr': 1, 'burning': 4, 'pac': 7, 'brainwashed': 2, 'brocast': 1, 'episode': 1, 'figured': 1, 'keyboard': 11, 'netbook': 5, 'unconvinced': 1, 'obviously': 3, 'wasted': 4, 'thousands': 7, 'floating': 1, 'zero': 2, '1s': 1, 'macworld': 1, 'types': 2, 'ghost': 2, 'kid': 15, 'remove': 4, '4pm': 4, 'acoustic': 8, 'nokiaconnects': 7, 'discuss': 7, 'interaction': 6, 'paradigms': 4, 'letting': 5, 'drive': 17, 'bloggable': 1, 'doesnt': 1, 'traveling': 9, 'cleveland': 1, 'hopkins': 1, 'furby': 1, 'choir': 2, 'superhappydevhouse': 4, 'googler': 1, 'said': 34, 'metric': 1, 'determine': 1, 'drained': 1, '285': 1, 'smule': 1, 'ocarina': 1, 'played': 10, 'zelda': 2, 'smartphones': 7, 'smarter': 6, 'die': 9, 'nadya': 2, 'direkova': 2, 'reactions': 6, 'range': 5, 'rescue': 4, 'shpeal': 1, 'hotwhat': 1, 'jc': 6, 'penney': 5, 'rim': 5, 'lease': 2, '5000': 3, 'sqft': 2, 'ave': 10, 'popoup': 1, 'con': 3, 'sxswprsa': 2, 'prsa': 2, 'aapl': 9, 'ground': 6, 'bvhd5s': 1, 'sh': 1, 'leases': 1, 'expecting': 4, 'flood': 3, 'debuting': 5, 'australian': 3, 'knob': 1, 'celebrity': 1, 'journalist': 1, 'celebs': 6, 'steve': 14, 'wealthier': 1, 'owning': 1, 'bezels': 1, 'pager': 1, 'mistakes': 18, 'ap': 3, 'i41': 1, '59a': 8, 'mixtape': 1, 'switching': 2, 'gamechanger': 3, 'fad': 2, 'smackdown': 11, 'windowsphone': 4, 'twit': 8, 'boxee': 1, 'keg': 1, 'robots': 5, 'ferris': 1, 'checked': 7, 'ebay': 6, 'hackathon': 7, 'windowsmobile': 2, 'fond': 2, 'screw': 7, 'touching': 7, 'trajan': 2, 'destroyed': 2, 'title': 7, 'tag': 6, 'graph': 4, 'protocol': 2, 'clean': 7, 'tunes': 2, 'formula': 2, 'presence': 6, 'area': 9, 'anticipation': 2, 'weve': 1, 'heyo': 1, 'dis': 1, 'unveil': 6, 'relevance': 4, 'bars': 7, 'ridic': 2, 'mexico': 1, 'sorta': 1, 'sux': 1, 'kik': 1, 'concierge': 2, 'add': 7, 'ask': 27, 'glasses': 2, 'lies': 4, 'handsfree': 1, 'connection': 3, 'arsxsw': 2, 'thru': 5, 'latitude': 12, 'argh': 1, 'exact': 2, 'clone': 2, 'parents': 2, 'anymore': 8, 'comment': 6, 'child': 4, 'deals': 13, 'filming': 4, 'playback': 1, 'tea': 3, 'vodka': 3, 'glowstick': 1, 'cup': 3, 'scream': 1, 'baller': 1, '330': 1, 'radisson': 3, 'mary': 1, 'waze': 3, 'competitors': 8, 'dense': 1, 'una': 1, 'vuelta': 1, 'por': 1, 'socialfuel': 1, 'para': 1, 'ver': 1, 'gran': 1, 'diferencia': 1, 'revolution': 2, 'clumsily': 1, 'translated': 1, 'encounter': 1, 'charming': 1, 'thethankyoueconomy': 1, 'bright': 3, 'localmind': 5, 'suffer': 1, 'prob': 4, 'concerned': 2, 'asked': 19, 'favorite': 17, 'swiss': 5, 'wishing': 5, 'stolen': 2, 'tiff': 3, 'sundance': 1, 'filmfestepic': 1, 'listened': 4, 'technologies': 1, 'fascinated': 1, 'chase': 1, 'salty': 1, 'spotlighting': 2, 'peak': 5, 'jobsearch': 4, 'creator': 4, 'aun': 1, 'either': 7, 'sadly': 5, 'anybodywanttobuymeanipad2': 1, 'mails': 1, 'cocky': 1, 'perhaps': 4, 'separate': 4, 'help_sxsw': 1, 'command': 1, 'rightnow': 1, '4g': 15, 'embracing': 2, 'window': 1, 'decal': 1, 'willinclude': 1, 'mcommerce': 3, 'isis': 1, 'tmobile': 3, 'include': 9, 'payment': 3, 'ios5': 1, 'experiences': 4, 'sort': 5, 'apples': 3, 'articulate': 1, 'relevant': 5, 'resourceful': 1, 'jones': 5, 'mike': 20, 'mccue': 3, 'smc': 2, 'disgusted': 1, 'witnessed': 2, 'homeless': 9, 'passerby': 2, 'invited': 2, 'fill': 8, 'chair': 2, 'monkey': 2, 'fucker': 1, 'bot': 3, 'stalks': 1, 'rounding': 1, 'cmsxsw': 1, 'nonprofit': 2, 'ticket': 5, 'gaslamp': 1, 'strip': 2, 'unless': 8, 'overblown': 1, 'salicornia': 1, 'bio': 1, 'diesel': 1, 'plant': 5, 'salt': 2, 'water': 12, 'participate': 1, 'mom': 31, 'boomers': 31, 'improving': 1, 'engineering': 1, 'metrics': 3, 'intuition': 1, 'overuse': 1, 'cannot': 6, 'z8': 1, 'assignment': 1, 'krugi': 1, 'na': 1, 'vode': 1, '_really_': 1, 'clouds': 3, 'static': 1, 'ip': 3, 'classiest': 11, 'fascist': 16, 'elegant': 9, 'rji': 3, 'mint': 8, 'confines': 1, 'coding': 1, 'luxury': 1, 'worry': 9, 'versions': 4, 'sxswmobileapps': 5, 'breakout': 2, 'copy': 9, 'thx': 10, 'keeping': 8, 'bargain': 2, 'tryna': 1, 'girl': 12, 'backpages': 1, 'nav': 4, 'overcome': 2, 'proof': 7, 'earbuds': 2, 'lack': 4, 'newsworthy': 1, 'announcements': 1, 'count': 3, 'spread': 2, 'n7': 1, 'bridge': 1, 'markets': 1, 'comers': 1, 'ordinance': 1, 'admission': 1, 'recovery': 1, 'popupstore': 6, 'experiential': 2, 'teams': 6, 'duranduran': 1, 'tristan': 1, 'h': 4, 'apture': 1, 'iterative': 1, 'drumbeat': 2, 'mojo': 2, 'conan': 3, 'cdr': 1, 'shindig': 1, 'general': 2, 'raging': 1, 'proper': 2, 'marathon': 1, 'kicks': 1, 'clif': 1, 'corrupted': 1, 'hotels': 1, 'aus': 6, 'bergstrom': 1, 'overnight': 1, 'mobilefail': 1, 'bootleg': 2, 'sidewalk': 3, 'cart': 3, 'adapters': 2, 'cables': 3, 'bull': 4, 'midday': 1, 'mid': 1, 'outlet': 8, 'immobile': 1, 'serves': 2, 'purpose': 5, 'taunt': 1, 'ringer': 1, 'sunrise': 1, 'flight': 20, 'internalalarmclockftw': 1, 'gary': 5, 'envy': 13, 'meanness': 2, 'hypocrisy': 2, 'forever': 1, 'prince': 1, 'toy': 3, 'shopping': 2, 'zuckerberg': 3, 'siva': 1, 'brief': 3, 'evil': 3, 'beevil': 2, 'ucpress': 1, '313': 2, 'challenge': 10, 'bike': 4, 'bottle': 4, 'thisiscrazyfun': 2, 'ya': 10, 'skore': 1, 'ning': 2, 'roadie': 2, 'thrilled': 4, 'offer': 6, 'insider': 3, 'shoulders': 1, 'killing': 18, 'lonely': 17, 'planet': 15, 'boyfriends': 2, 'failing': 2, 'verizonftw': 1, 'strangeproblems': 1, 'kind': 16, 'gamification': 2, 'banking': 5, 'artikelen': 1, 'dossiers': 1, 'mediapers': 1, 'brandnew': 1, 'tries': 10, 'wha': 1, 'dear': 15, 'wise': 3, 'burner': 2, 'luster': 1, 'pearl': 15, 'happens': 13, 'lean': 3, 'leanstartup': 11, 'startup': 14, 'founders': 2, 'min': 12, 'obama': 2, 'donates': 4, 'proceeds': 2, 'ho': 2, 'hum': 2, 'confirmed': 18, 'break': 8, 'budge': 1, 'replace': 2, 'reason': 13, '19': 9, 'parakeets': 3, 'employed': 3, 'simplegeo': 1, 'ubiquity': 2, 'sensor': 1, 'sensors': 1, 'bemyneighbor': 2, 'surprising': 4, 'pork': 2, 'waffle': 3, 'cone': 1, 'novelty': 11, 'fades': 12, 'delegates': 10, 'xipad': 1, 'rethink': 1, 'reading': 19, 'toptweets': 3, 'banality': 6, 'guardian': 8, 'larger': 4, 'anonymity': 2, 'moot': 2, 'opportunity': 4, 'profiles': 1, 'hd': 2, 'xl2': 1, 'footage': 5, 'certainly': 1, 'concerts': 1, 'grand': 4, 'killer': 24, 'photoes': 3, 'sxswchi': 3, 'playsxsw': 5, 'halftone': 1, 'p7e9eme7kylj': 1, 'actsofsharing': 10, 'end': 23, 'knitted': 6, 'staircase': 6, 'attendance': 8, 'tomo': 6, 'hosted': 12, 'advice': 11, 'iron': 8, 'caring': 8, 'psych': 4, 'featured': 40, 'dt': 6, 'jams': 3, 'wakariyasui': 1, 'osuteinniXing': 1, 'kitaitoSi': 1, 'wanaikedo': 1, 'mindtouchers': 2, 'demos': 7, 'mindtouch': 2, 'tcs': 2, 'apaan': 1, 'nih': 1, 'ends': 1, 'shite': 1, 'sponso': 1, 'tons': 11, 'spring': 5, 'hilarious': 6, 'bearded': 4, 'plaid': 6, 'hmmmm': 5, 'earthquakes': 3, 'tsunamis': 3, 'w00t': 4, 'yeaayyy': 1, 'akhirnya': 1, 'rebecca': 4, 'jurassic': 1, 'craziness': 4, 'tuned': 7, 'fyi': 7, 'ragtube': 1, 'redcross': 5, 'chuck': 1, 'greenberg': 1, 'tokyo': 1, 'hurricane': 2, 'katrina': 1, 'crescent': 1, 'divasanddorks': 2, 'invades': 5, 'hurrah': 1, 'festivities': 1, 'begun': 3, 'mozilla': 6, 'goodguide': 1, 'scans': 1, 'barcode': 2, 'rank': 5, 'environmental': 2, 'responsibility': 1, 'pressure': 4, 'smmnextgen': 4, 'notifications': 1, 'assume': 5, 'priori': 1, 'departure': 1, 'terminal': 3, 'sad': 9, 'outkast': 2, 'players': 7, 'arcade': 3, 'rings': 1, 'letsdothis': 1, 'disagree': 4, 'tempt': 1, 'austintx': 2, 'lying': 3, 'signal': 7, 'strength': 2, 'nose': 2, 'waitress': 2, 'confused': 3, 'organize': 4, 'itineraries': 2, 'productive': 3, 'dedication': 1, 'sleepy': 3, 'largest': 2, 'useful': 20, 'omarg': 2, 'maes': 6, 'glow': 4, 'dark': 9, 'shades': 6, '64': 4, 'scale': 4, 'colors': 4, 'blue': 16, 'meaningful': 1, 'optimum': 1, 'shade': 1, 'throw': 3, 'hunts': 4, 'tweetdeck': 4, 'notebooks': 1, 'entire': 9, 'mostly': 7, 'macbooks': 2, 'filmaster': 7, 'cinemagoers': 1, 'getglue': 1, 'lazyweb': 3, 'ubersoc': 1, 'tells': 4, 'journey': 1, 'blinksale': 1, 'iconbuffet': 1, 'packrat': 1, 'born': 6, 'lightbulb': 1, 'deaddd': 2, 'reunite': 2, 'passe': 2, 'wssxsw': 7, 'zomg': 6, 'loaded': 4, 'double': 15, 'rainbow': 1, 'ps': 3, 'tvontheradio': 1, 'tix': 1, 'yall': 2, 'studies': 2, 'petting': 2, 'signing': 12, 'useless': 4, 'platformer': 1, 'ci': 1, 'pake': 1, 'cnth': 1, 'impression': 8, 'workin': 2, 'payin': 1, 'visits': 3, '8th': 4, 'networkcircles': 1, 'posbly': 1, 'podcasts': 4, 'thinking': 16, 'press': 7, 'quit': 4, 'views': 11, 'unique': 6, 'visitors': 3, 'cos': 1, '98': 9, 'accuracy': 6, 'yrs': 11, 'divorced': 3, 'agility': 1, 'drawn': 1, 'unnecessarily': 1, 'beforetwitter': 2, 'tweethouse': 4, 'dotco': 3, '3rd': 5, 'handle': 12, 'xtra': 2, 'scarbrough': 5, 'advantage': 3, 'somehow': 5, 'sf': 4, 'lenashaw': 1, 'nasdaq': 1, 'ran': 9, 'amy': 5, 'jukebox': 1, 'mealtime': 1, 'watching': 24, 'covering': 5, 'seth': 3, 'layer': 5, 'ventures': 2, 'envisions': 3, 'finishing': 2, 'moms': 1, 'campaign': 2, 'upcoming': 6, 'dropped': 8, 'woot': 9, 'evo': 5, 'hcsm': 9, '230': 2, 'pi': 7, 'whoa': 8, 'rite': 3, 'passage': 3, 'hijacked': 1, 'doa': 1, 'muahahahahhaahahaa': 1, 'partay': 1, 'dinner': 3, 'checking': 36, 'kills': 4, 'woo': 2, 'hoo': 2, 'crashed': 4, 'segway': 1, 'nc': 1, 'buzzing': 4, 'geekdom': 3, 'elevate': 3, 'closing': 2, 'badform': 1, 'youareinteractive': 1, 'peopleflowingout': 1, 'dialy': 1, 'thankyou': 1, 'yeay': 1, 'masha': 1, 'log': 1, 'v7jwekn': 1, 'radioshack': 1, 'rollout': 1, 'breath': 3, 'minded': 2, 'similarily': 1, 'tweetcaster': 2, 'zip': 3, 'hash': 2, 'tags': 2, 'efficient': 6, 'beats': 1, 'scores': 1, 'showdown': 4, 'woohoo': 8, 'tour': 4, 'bay': 3, 'retweeting': 4, 'twitpic': 1, 'sake': 1, 'revealed': 4, 'toys': 2, 'justmet': 2, 'worked': 6, '25': 6, 'wiebe': 3, 'conceptual': 3, 'graphing': 3, 'et': 1, 'applauds': 1, 'freeze': 1, 'conversion': 1, 'possibility': 2, 'uh': 2, 'wearing': 12, 'iosdevices': 1, 'encourage': 2, 'practitioners': 2, 'avoid': 8, 'dwelling': 2, 'ballinonabudget': 1, 'mad': 4, 'dash': 1, 'formatted': 1, 'client': 10, 'hair': 7, 'makeup': 3, 'partylikeits1986': 9, 'chinese': 2, 'bff': 2, 'effen': 1, 'estoy': 1, 'ideally': 1, 'socially': 4, 'members': 1, 'raise': 1, 'ponies': 1, 'expand': 1, 'contract': 1, 'encourages': 1, 'mapping': 7, 'arm': 7, 'meat': 4, 'pointer': 2, 'earlier': 6, 'smartphone': 12, 'land': 3, 'airline': 2, 'mentioned': 6, 'delightful': 3, 'drumroll': 2, 'bt': 2, 'discovr': 13, 'geosocial': 2, 'hbs': 2, 'startuptribe': 2, 'meets': 4, 'students': 6, 'monster': 4, 'chris': 15, 'sacca': 7, 'follower': 7, 'swarm': 6, 'ensues': 7, 'androidcrunch': 1, 'pubcamp': 6, 'kirkus': 3, 'qrank': 3, 'scored': 4, 'saysshewithoutanipad': 1, 'smileyparty': 5, 'sn': 1, 'tunage': 1, 'leading': 3, 'getjarsxsw': 2, 'sxswnui': 6, 'defining': 3, 'language': 1, 'dialects': 1, 'checkin': 5, 'crowley': 17, 'klick': 1, 'straps': 1, 'xwave': 3, 'ireport': 11, 'schwag': 5, 'waste': 1, 'orange': 1, 'wodpress': 1, 'tis': 1, 'covered': 6, 'sauce': 5, 'filter': 5, 'youkidshavefun': 2, 'lust': 1, 'rubbing': 1, 'escape': 3, 'hashtags': 6, 'scheen': 1, 'sports': 1, 'needing': 1, 'redirect': 1, 'rocks': 10, 'employers': 3, 'denotes': 2, 'cleared': 3, '16gb': 5, '64g': 2, 'suggest': 5, 'paid': 7, 'microsim': 4, 'plug': 3, 'sound': 9, 'system': 10, 'rise': 8, 'techno': 2, 'priests': 1, 'partied': 1, 'twilio': 1, 'milyoni': 2, 'taco': 2, 'kit': 3, 'paypal': 3, 'worthy': 1, 'period': 2, 'demonstrate': 3, 'bored': 6, 'patterns': 5, 'anatomy': 5, 'decision': 8, 'fluffertrax': 1, 'rhapsody': 2, 'echo': 1, 'nest': 2, 'consulting': 2, 'hotspots': 2, 'warning': 3, '2009': 1, 'youtube': 12, 'googlesxsw': 1, 'lift': 3, 'shuttle': 5, 'visit': 23, 'avoiding': 2, 'pitfalls': 1, 'challenges': 8, 'webmobile': 1, 'mvideo': 1, 'tigerblood': 4, 'batteries': 3, 'psycho': 1, 'taccsxsw': 1, 'died': 2, 'middle': 6, 'function': 8, 'quadroid': 2, 'qualcomm': 2, 'decade': 1, 'wintel': 2, '681': 1, 'unopened': 1, 'cash': 8, 'willpay': 2, '900': 2, '32': 3, 'gb': 3, 'pickup': 4, '605': 1, '59pm': 2, 'pst': 4, 'trends': 3, 'angry': 1, 'controlled': 1, 'heywire': 3, '10am': 1, 'batt': 1, '54': 1, 'notevenstartedyet': 1, 'aos': 2, 'picking': 2, 'steam': 1, 'mashbash': 3, 'entered': 9, 'automatically': 6, 'mini': 3, '95': 4, 'worthwhile': 1, 'improvements': 2, 'cartoonishly': 2, 'cstejas': 2, 'inde': 1, 'channels': 3, 'uncategorized': 1, 'glove': 3, 'breakouts': 1, 'stoked': 3, 'barton': 9, 'hollow': 7, 'sundaymorning': 1, 'rewardswagon': 1, 'bookbook': 1, 'male': 1, 'alcohol': 2, 'booths': 2, 'waffling': 2, 'reps': 3, 'dressed': 2, 'characters': 3, '15slides': 2, 'gruber': 2, 'desk': 6, 'discontinued': 2, '1991': 2, '169': 2, 'loud': 4, 'feels': 5, 'writes': 2, 'wjchat': 2, 'q7a': 1, 'zagg': 1, 'hopes': 3, 'neat': 2, 'database': 1, 'shall': 3, 'mystery': 3, 'prize': 7, 'discotalk': 4, '15k': 3, 'pdf': 2, 'investment': 1, 'mags': 4, 'formerly': 2, 'obs': 1, 'goona': 1, 'ass': 12, 'charm': 4, 'haves': 2, 'randomly': 2, 'sandwich': 5, 'edible': 1, 'wrapper': 1, 'simultaneously': 3, 'mmm': 2, 'peeing': 4, 'hoax': 1, 'beluga': 10, 'coordinate': 2, 'sxsw4japan': 2, 'gettiing': 1, 'sbux': 2, 'selfish': 1, 'served': 2, 'female': 1, 'alien': 1, 'lbs': 8, 'creates': 3, 'customized': 1, 'awww': 1, 'yeaaa': 1, 'harnessing': 1, 'collective': 3, 'months': 11, 'highly': 4, 'recommend': 5, 'goodcustomerservice': 1, 'rgv': 1, 'hired': 3, 'jony': 1, 'ive': 3, 'industrialdesign': 1, 'bro': 1, 'posed': 1, 'asking': 3, 'missoni': 1, 'ab': 2, 'innovative': 4, 'exceptions': 1, 'significant': 1, 'occasions': 1, 'absolute': 1, 'paperless': 1, 'enable': 2, 'bubble': 4, 'barriers': 1, 'paxeast': 1, 'protect': 4, 'nerdking': 1, 'quotables': 6, 'tempting': 3, 'related': 3, 'rm': 2, 'lovefresh': 1, 'nat': 1, 'geo': 11, 'arctic': 1, 'explorers': 1, '200': 9, 'snatch': 1, 'upgrading': 3, 'creepily': 1, 'multiple': 6, 'freebeernear': 1, 'osx': 1, 'hack5': 1, 'donline': 6, 'tabs': 1, 'cwebb': 1, 'grant': 1, 'hill': 2, 'engineer': 5, 'iqlab': 3, 'personalized': 14, 'recommendations': 18, 'pulled': 2, 'yikes': 3, 'reached': 1, 'fanboyism': 1, 'literally': 8, 'asleep': 4, 'typos': 1, 'ughhhhh': 1, 'autocorrect': 7, 'inability': 1, 'goo': 2, 'trackpads': 1, 'positives': 1, 'sit': 3, 'relaxed': 1, 'rackspace': 4, 'program': 10, 'wohooo': 1, 'tnx': 1, 'craigslist': 2, 'avoided': 1, 'pesky': 1, 'fees': 2, 'thankgod': 1, 'bizgym': 2, 'clipcon': 3, 'intro': 6, 'reel': 4, 'suasxsw': 4, 'sxswaccel': 5, 'ceokidschat': 3, 'entrepreneur': 4, 'submit': 2, 'vote': 3, 'quotes': 3, 'hands': 19, 'exquisite': 1, 'writer': 1, 'dawn': 3, 'sky': 3, 'geekdilemma': 1, 'wantlet': 3, 'dry': 1, 'ipad1': 3, 'wipes': 2, 'mrs': 2, 'beyondbroadcast': 1, 'evaporation': 2, 'load': 5, 'brethren': 3, 'adfonic': 1, 'gadgetzilla': 2, 'scared': 3, 'gettin': 1, 'fully': 7, 'granted': 3, 'edit': 4, '4square': 6, 'zap': 2, 'kno': 1, 'skipping': 1, 'lightnessofbeing': 1, 'snotty': 2, 'dbag': 2, 'difference': 7, 'mercy': 1, 'torch': 1, 'webmail': 1, 'suppose': 4, 'cheers': 4, 'juwan': 2, 'howard': 2, 'eagerly': 1, 'ahoy': 1, 'readers': 4, 'eventseekr': 7, 'mission': 5, 'failure': 3, 'dried': 1, 'roast': 1, 'beef': 1, 'soggy': 1, 'tomato': 1, 'mat': 1, 'apologies': 1, 'randy': 2, 'popping': 8, 'algorithm': 2, 'skewed': 1, 'queries': 2, 'stays': 2, 'roamed': 1, 'mugged': 1, 'superlucky': 1, 'screenings': 1, 'private': 6, 'kickball': 1, '6thstreet': 1, 'limit': 1, 'specific': 2, 'takeaway': 5, 'thus': 3, 'recreate': 2, 'continuous': 2, 'evangelist': 4, 'eloquently': 1, 'hearts': 3, 'teach': 2, 'tax': 2, 'write': 5, 'kinda': 11, 'underwire': 1, 'wired': 9, 'bpm': 9, 'existential': 1, 'refine': 5, 'informal': 3, 'unscientific': 3, 'observation': 3, 'contest': 12, 'haralambous': 1, 'africa': 2, 'ii': 8, 'appears': 14, 'fcc': 4, 'gad': 1, 'jonathan': 6, 'dahl': 2, 'minimalistprogramming': 2, 'marissagoogle': 28, 'sudden': 1, 'realization': 1, 'realized': 6, 'havnt': 1, 'thursday': 4, 'sprinkle': 1, 'approval': 2, 'woes': 1, 'whowillrise': 1, 'quite': 9, 'grumbling': 1, 'v2': 3, 'meetups': 1, 'server': 4, '400': 4, 'opener': 2, 'beating': 2, 'scoop': 1, 'cut': 5, 'virtual': 7, 'iphone5': 1, 'standardization': 1, 'allows': 2, 'volunteer': 2, 'forced': 1, 'contextclues': 1, 'jeopardy': 1, 'recognition': 3, 'variety': 1, 'popupstores': 1, 'alright': 2, 'reasonable': 2, 'pass': 5, 'health2dev': 5, 'zeiger': 2, 'health': 4, 'slower': 2, 'monthly': 3, 'utility': 5, 'sxsweisner': 4, 'dl': 8, 'calyp': 6, 'casa': 2, 'perks': 1, 'endorsers': 1, 'offsite': 4, 'javascript': 4, 'moreknowledge': 3, 'mitharvard': 5, 'view512': 1, 'um': 4, 'sters': 2, 'umshini': 2, 'wam': 3, 'fishing': 2, 'esp': 5, 'ecodriving': 2, 'habits': 2, 'assisted': 4, 'style': 11, 'theatlantic': 2, 'megastore': 5, '72296': 2, 'revolt': 1, 'online': 20, 'polling': 1, 'statistics': 2, 'admob': 2, 'smurf': 1, 'rear': 1, 'facing': 3, 'gives': 11, 'task': 3, 'fxsw': 2, 'courtesy': 5, 'investor': 1, 'utter': 2, 'cheaper': 2, 'scheduling': 2, 'flummoxed': 1, 'periscope': 3, 'snoring': 1, 'busted': 1, 'documented': 2, 'cpap': 1, 'homie': 1, '1413': 4, 'shooting': 1, 'afar': 8, 'baby': 11, 'adventure': 4, 'arrive': 2, 'west': 10, 'talented': 5, 'eww': 3, 'bookstore': 2, '99': 11, 'cent': 2, 'gamelayer': 1, 'hhrs': 4, 'applications': 6, 'hockey': 2, 'esque': 1, 'desire': 1, 'guest': 5, 'sandwiched': 3, 'paywall': 1, 'daniel': 3, 'bernard': 1, 'wsj': 2, 'purchases': 4, 'frictionless': 1, 'godsend': 1, 'releases': 4, 'cluttering': 2, 'handset': 2, 'spontaniety': 3, 'dies': 4, 'bank': 8, '250k': 4, 'bankinnovation': 9, 'stripes': 2, 'conventioncenter': 1, 'barging': 1, 'tables': 5, 'austinl': 1, 'thingsthatdontgotogether': 2, 'lisa': 2, 'rinna': 1, 'rosso': 1, 'paste': 2, 'recipe': 4, 'mothers': 1, 'generated': 6, 'gigantic': 1, 'supply': 2, 'chain': 3, 'walmart': 1, 'behance': 1, 'deleting': 3, 'loading': 2, 'draining': 1, 'cancel': 2, 'recap': 11, 'seemingly': 1, 'relive': 1, 'graphics': 2, 'faster': 4, 'motorola': 3, 'approves': 1, 'irelay': 1, 'marketshare': 4, 'linux': 3, 'project': 24, 'manager': 2, 'nowhammies': 1, 'turning': 3, 'betterthingstodo': 1, 'freaking': 2, 'trucks': 5, 'jobsco': 1, 'essdub': 1, 'clever': 6, 'watched': 4, 'five': 7, 'facepalmed': 2, 'ugh': 5, 'nyc': 6, 'seriousness': 1, 'affect': 1, 'spell': 1, 'correct': 5, 'grrr': 3, 'wrapping': 5, 'slp': 2, 'apptastic': 1, 'vai': 1, 'comecar': 1, 'palestra': 1, 'chief': 6, 'pillow': 2, 'mechanical': 1, 'jetpacks': 1, 'mm': 1, 'usar': 1, 'ate': 2, 'weight': 3, 'heavier': 4, 'collecting': 3, 'streamlined': 2, 'depth': 2, 'theory': 3, 'writing': 5, 'genetic': 1, 'latter': 1, 'police': 4, 'guard': 8, 'socmedia': 4, 'extend': 3, 'captive': 1, 'sim': 2, 'noticing': 1, 'amazingly': 4, 'feelin': 1, '6hours': 1, 'lowest': 1, 'possible': 12, 'basics': 2, 'hallway': 1, 'ia': 1, 'unite': 3, 'prime': 1, 'seats': 3, 'kek': 6, 'unbelievable': 2, 'junkies': 1, 'arrested': 1, 'rachael': 1, 'harris': 1, 'doesdroid': 1, 'marshall': 1, 'puts': 5, 'famous': 1, 'artworks': 1, 'billion': 7, 'pixels': 1, 'allowing': 5, 'zoom': 3, 'trip': 18, 'museums': 5, 'innovators': 5, 'griddler': 2, 'lustre': 13, '63': 1, '36': 4, 'stumbling': 7, 'structures': 1, 'bliss': 1, 'chimpit': 1, 'plutopia': 1, 'woefully': 1, 'unprepared': 1, 'notwithstanding': 1, 'objects': 1, 'robert': 1, 'ives': 1, 'mother': 5, 'likability': 3, 'study': 4, 'mktg': 3, 'stevecase': 1, 'quash': 2, 'rumours': 9, 'bestworstthingever': 1, 'flask': 1, '9th': 1, 'aicn': 1, 'screening': 1, 'prepared': 4, 'iloveasurprise': 1, 'deadly': 2, 'valley': 5, 'asserted': 1, 'booby': 1, 'hershel': 1, 'branded': 5, 'native': 11, 'hosting': 7, 'verbs': 1, 'bump': 3, 'ping': 3, 'fuck': 6, 'videogame': 1, 'mix': 11, 'wraps': 4, 'shat': 2, 'tear': 2, 'newapplestoreaustin': 1, 'arriving': 8, 'wittingly': 1, 'target': 3, 'awesometiming': 1, 'heat': 12, 'wedig': 2, 'excuse': 6, 'offchain': 2, 'trombone': 2, 'shorty': 2, 'rye': 1, 'rey': 1, 'percentage': 2, 'hungover': 1, 'gatorade': 3, 'advil': 1, 'billlee': 1, 'appolicious': 3, 'b4': 7, 'entertaining': 2, 'blackout': 1, 'showering': 1, 'phenomenal': 2, 'side': 9, 'patio': 7, 'venturebeat': 2, 'vb': 3, 'vicariously': 1, 'spasmatics': 1, 'latin': 3, 'produced': 5, 'latism': 7, 'latam': 3, 'congratulation': 1, 'atleast': 1, 'doubleloser': 1, 'william': 3, 'patry': 3, 'authors': 2, 'copyright': 5, 'income': 2, 'fricking': 2, 'damon': 4, 'creatures': 2, 'habit': 1, 'ctrs': 1, 'outpaced': 1, 'darker': 1, 'clicks': 1, 'edition': 8, 'whatcha': 2, 'gauntlet': 1, 'overflowing': 1, '5th': 6, 'gdgtaustin': 3, 'havin': 1, 'mar': 4, 'austinjs': 2, 'autocorrects': 6, 'sisyphus': 1, 'television': 1, 'expierence': 1, 'reubens': 1, 'danny': 2, 'sullivan': 2, 'kill': 8, 'wings': 1, 'drivers': 7, 'fuel': 3, 'sem': 6, 'googlemaps': 3, 'topnews': 6, 'lookalike': 2, 'profitable': 1, 'channel': 3, 'stepping': 1, 'den': 1, 'disconnectedsundays': 1, 'booya': 1, 'avro': 1, 'traded': 3, 'piece': 6, 'awesomeness': 5, 'celeb': 2, 'destination': 2, 'sharers': 1, 'ginger': 2, 'exchange': 4, 'serious': 3, 'conv': 2, 'cntr': 1, 'fashion': 7, 'gaining': 2, 'loyalists': 2, 'nearly': 3, 'anyones': 1, 'pictured': 1, 'inflatable': 1, 'bouncy': 1, 'castle': 3, 'aug': 1, 'demonstrating': 1, 'museum': 3, 'masses': 6, 'cursor': 6, 'surpassed': 3, 'melissa': 5, 'predict': 3, 'divorce': 3, 'merissa': 3, 'led': 1, 'predicting': 1, 'divorces': 1, 'advance': 4, 'rechristening': 2, 'tcs_dw': 1, 'discusses': 3, 'ski': 2, 'laying': 1, 'elapsed': 1, 'skiiers': 1, 'moments': 2, 'demoed': 3, 'webvisions': 2, 'wil': 1, 'north': 2, 'loyalty': 4, 'quicker': 3, 'responses': 2, 'fh': 3, 'mash': 2, 'fhdcfn': 1, 'fine': 6, 'douche': 7, 'cake': 2, 'toes': 1, 'dodgeball': 2, 'mob': 1, 'scenes': 5, 'tub': 1, 'steamy': 1, 'reserved': 1, 'fourth': 1, 'row': 6, 'htxsw': 1, 'battelle': 4, 'mindshare': 2, 'mnbuzz': 1, 'psfk': 4, 'gallery': 5, 'johnston': 2, 'wrapped': 4, 'member': 4, 'carrying': 3, 'bags': 4, 'wolfram': 4, 'berkowitz': 1, 'rfid': 2, 'ncf': 1, 'bullish': 1, 'sxswgood': 2, 'globalbestaward': 1, 'tribune': 1, 'cor': 2, 'niran': 1, 'babalola': 1, 'nerdbird': 4, 'blah': 1, 'quotable': 1, 'consistently': 1, 'goddamn': 1, 'butfacebook': 1, 'fastsociety': 4, '1406': 3, '1408': 1, 'disabling': 1, 'yourmom': 13, 'usefulness': 1, 'liptonsxsw': 1, '18': 8, 'redbull': 1, 'powering': 1, 'dtas': 1, 'republic': 1, 'charity': 6, 'throwin': 2, 'studentsforcleanwater': 2, 'brian': 4, 'broadcast': 3, 'bros': 2, 'xperiaplay': 2, 'xperia': 6, 'parking': 6, 'fusion': 2, 'election': 1, 'visualization': 4, 'pubsubhubbub': 4, 'cache': 1, 'fsw': 8, 'greeted': 1, 'lindsay': 1, 'stillman': 1, 'birth': 1, 'wwsxsw': 1, 'dinosaur': 3, 'reminded': 1, 'abt': 14, 'zeitgeist': 1, 'bird': 3, 'trusted': 1, 'inspiredbyprint': 1, 'burn': 6, 'comparing': 2, 'skeumorpism': 1, 'cap': 1, 'bob': 1, 'optimistic': 5, 'ohio': 1, 'wicked': 2, 'duncan': 2, 'shake': 1, 'awkward': 5, 'penneys': 1, 'routed': 1, 'macys': 3, 'usurped': 2, 'chic': 2, 'item': 3, 'vc': 2, '2x': 1, 'tcn': 1, 'logic': 3, 'agency': 3, 'ausxsw': 6, 'ipadi': 1, 'alacagimiz': 1, 'yer': 2, 'belli': 1, 'oldu': 1, 'frankeninterface': 1, 'designed': 4, 'metaphor': 2, 'uses': 15, 'macallan': 3, 'successful': 6, 'sessions': 17, 'glass': 3, 'malt': 1, 'reviewed': 2, 'shirts': 5, 'rofl': 1, 'angrybirds': 4, 'ttye': 1, 'bisot': 1, 'tm': 3, '06': 1, 'nicoriccelli': 1, 'clear': 10, 'succinct': 1, 'visions': 1, 'seemed': 2, 'heart': 13, 'hashing': 1, 's2': 3, 'liquidspace': 1, 'workspace': 3, 'vencorps': 2, '30k': 2, 'editor': 1, 'po': 1, 'guards': 5, 'lawn': 1, 'perfect': 8, 'keyboards': 1, 'dan': 6, 'drummer': 1, 'treatment': 2, '2h': 2, 'qualifies': 1, 'class': 9, 'apt': 1, 'hahah': 1, 'voluntarily': 4, 'greatest': 2, 'collection': 3, 'egomaniacs': 2, '188': 1, 'parts': 1, 'suicidal': 1, 'macs': 2, 'lanyard': 1, 'rave': 1, 'monksofinvention': 1, 'chatting': 5, 'texting': 13, 'tastes': 3, 'skills': 1, 'smyle': 2, 'vintage': 1, 'format': 1, 'ipods': 2, 'snarky': 2, 'ah': 3, 'saveustechies': 6, 'surui': 2, 'carbon': 2, 'schiller': 1, 'cable': 4, 'tsotchke': 1, 'category': 5, 'wilderness': 5, 'mentione': 2, 'anna': 2, 'picks': 2, 'shice': 1, 'joint': 3, 'reportedly': 3, 'narcissism': 1, 'pages': 6, 'coupled': 1, 'explain': 2, 'documentary': 3, 'ventured': 7, 'intel': 9, 'genentech': 5, 'cisco': 8, 'atari': 6, 'hls': 2, 'dynamic': 4, 'insertion': 2, 'fedex': 4, 'truck': 5, 'crews': 2, 'cloudcomputing': 1, 'top_news': 1, 'ackward': 1, 'theres': 2, 'muffins': 1, 'lenewz': 3, '1422': 3, '1223': 1, '800': 1, 'crowdbeacon': 1, 'congratulations': 2, 'seesmic': 1, 'egyptian': 2, 'servers': 3, 'shallow': 2, 'convince': 4, 'comedy': 1, 'ustream': 3, 'skyfire': 2, 'coolhaus': 1, 'airs': 2, 'paintings': 1, 'exhibited': 1, 'recreated': 3, 'bugs': 2, 'googledoodles': 6, 'ripped': 1, 'micro': 2, 'usb': 4, 'snapgoods': 2, 'crunch': 1, 'crippling': 1, 'voice': 10, 'regular': 5, 'pants': 2, 'dock': 2, 'insidious': 1, 'approaches': 3, 'subscriptions': 4, 'disgraceful': 1, 'libraries': 1, 'bjdproductions': 8, 'lightbox_photos': 4, 'walks': 4, 'sosososo': 1, 'cuteeeeee': 1, 'jalen': 1, 'rose': 1, 'unimitated': 1, 'fingerprint': 1, 'scan': 4, '1990style': 1, 'bldg': 5, 'appstore': 3, 'wholistic': 1, 'awareness': 3, 'adoption': 12, 'rely': 1, 'pres': 1, 'floor64': 1, 'inc': 2, 'sr': 1, 'counsel': 1, 'austinbusiness': 2, 'ordered': 4, 'wasting': 1, 'fellowship': 1, 'discovered': 4, 'conversation': 10, 'icebreaker': 2, 'acerbic': 1, 'cynical': 1, 'dumped': 1, 'twitterpower': 1, 'imthatgood': 1, 'buddies': 1, 'lasts': 1, 'framework': 2, 'lovers': 2, 'disappointingly': 2, 'ridiculously': 2, 'al': 1, 'franken': 2, 'justin': 1, 'timberlake': 1, 'punch': 1, 'bonus': 2, 'waking': 1, '4am': 1, 'surrounded': 8, 'tats': 1, 'piercings': 1, 'galore': 2, 'heaven': 1, 'wepartyhere': 1, 'cleaner': 2, 'terms': 6, 'flaw': 1, 'switch': 6, 'ipaddesignheadaches': 1, 'integrated': 4, 'dynamics': 2, 'synergy': 2, 'draw': 4, 'artist': 7, 'earns': 1, '10k': 2, 'unusual': 1, 'virgin': 7, 'focuses': 2, 'object': 7, 'succeed': 2, 'nike': 3, 'sneakers': 3, 'geekout': 2, 'traveller': 1, 'rpg': 1, 'gentlemen': 1, 'stood': 2, 'fuckyeah': 1, 'sam': 3, 'licked': 1, 'rivals': 2, 'stack': 2, 'bnet': 4, 'serving': 4, 'ge': 2, 'solar': 2, 'powered': 3, 'carousel': 2, 'roll': 9, 'trailer': 5, 'mapquest': 3, 'reacquainted': 2, 'mq': 2, 'embarrassed': 2, 'aha': 2, 'lactation': 2, 'uber': 6, 'incredibly': 1, 'roasted': 1, 'hah': 2, '2moro': 2, 'sxswbusy': 1, 'ip2': 1, 'ftw': 7, 'kitchen': 1, 'counter': 1, 'sun': 5, 'recaps': 2, '600': 1, 'unread': 1, 'posts': 3, 'completely': 5, 'detached': 1, 'reserve': 2, 'annoyed': 1, 'ui': 15, 'fat': 1, 'bullying': 1, 'alisa': 1, 'icrossing': 1, 'futurefifteen': 1, 'projects': 2, 'obv': 1, 'jeff': 1, 'helped': 3, 'especially': 7, '15am': 1, 'psyched': 1, 'infact': 1, 'maar': 1, 'doen': 1, 'jaqueline': 1, 'bojan': 1, 'detection': 1, '01am': 1, '3am': 3, 'est': 1, 'shipping': 1, 'david': 3, 'drunken': 2, 'whattechnerdsdodrunk': 1, 'ferriss': 1, 'pie': 1, 'mylunch': 1, 'musicmonday': 1, '60secondcrush': 1, 'detroit': 1, 'lucys': 1, 'forbidden': 1, 'spoiled': 1, 'dumb': 3, 'blonde': 1, 'evelyn': 1, 'woah': 6, 'propping': 4, 'urinal': 5, 'ewww': 2, 'id': 4, 'lists': 2, 'gtd': 1, 'syncs': 3, 'sx': 1, 'yobongo': 4, 'cuz': 5, 'naked': 3, 'simply': 6, 'gaimed': 2, 'multi': 6, 'filling': 5, 'quickly': 8, 'surprises': 3, 'skill': 1, 'havent': 1, 'devoilement': 1, 'predicts': 1, 'society': 7, 'specifically': 1, 'snag': 1, 'n5': 1, 'spreading': 1, 'disease': 1, 'intending': 2, 'trusty': 2, 'backpack': 3, 'number': 8, 'es': 2, 'posible': 1, 'sxswk': 2, 'direct': 6, 'offering': 5, 'disappointed': 3, 'overlapping': 1, 'discussing': 5, 'salsa': 2, 'ingredients': 2, 'spins': 1, 'arsenal': 1, 'djs': 2, 'apply': 3, 'uniform': 1, 'jinx': 1, 'breaks': 1, 'toast': 5, 'points': 6, 'collect': 2, 'cups': 2, 'googlekillsit': 1, 'undivided': 2, '49': 1, 'explosion': 1, 'doh': 1, 'boys': 3, 'realty': 1, 'thurs': 4, 'fest': 6, 'festgoers': 2, 'z7': 1, 'sessi': 2, 'smx': 3, 'painting': 2, 'blahzay': 1, 'countdown': 2, 'fried': 2, 'speakers': 6, 'mingle': 3, 'myturnstone': 1, 'alan': 1, 'turing': 1, 'robot': 7, 'consumerization': 3, 'empowered': 1, 'newest': 5, 'sxswadobemobile': 1, 'kh': 1, 'picplz': 1, 'collections': 1, 'borders': 6, 'rancewilemon': 1, 'whetherapple': 1, 'hardware': 3, 'rickshaw': 1, 'lunatik': 1, 'incase': 1, 'pak': 3, 'bose': 1, 'buds': 2, 'mifi': 2, 'giddy': 3, 'theindustryparty': 1, 'swsurrogates': 1, 'notpouting': 1, 'body': 5, 'hashtag': 8, 'anybody': 10, 'stuck': 5, 'gonnagetanipad2': 2, 'numbassonfloor': 1, 'shares': 1, 'patients': 1, 'physicians': 2, 'hcinno': 1, 'plunge': 2, 'keepingupwithdkm': 1, 'duking': 2, 'srsly': 4, 'excludes': 1, 'insists': 1, 'disney': 4, 'spazmatics': 4, 'franchised': 2, 'billings': 1, 'entrepreneurs': 3, 'nuanced': 2, 'dgtltribe': 7, 'openbeta6': 3, 'squeeze': 1, 'avenue': 4, 'total': 6, 'scene': 6, 'spoke': 5, 'cautiously': 2, 'convenient': 4, '30am': 4, 'hbd': 2, 'donated': 2, 'dime': 2, 'birthday': 7, 'united': 3, 'states': 3, 'dfp': 2, 'insight': 5, 'managing': 1, 'campaigns': 1, 'measurement': 1, 'hisxsw': 7, 'dailygrape': 1, 'replacing': 3, 'winelibrary': 3, 'choices': 1, 'ellen': 2, 'appearance': 5, 'reduced': 2, 'broken': 8, 'liking': 2, 'cheering': 2, 'cheer': 4, 'timesheets': 2, 'whale': 2, 'notwinning': 4, 'vcards': 6, 'qrafter': 7, 'qrcode': 8, 'madness': 7, 'coworkers': 2, 'visigoths': 2, 'creek': 3, 'recharged': 1, 'fly': 8, 'viewing': 3, 'hipstamatic': 6, 'registering': 1, 'publicize': 1, 'archives': 1, 'john': 12, 'breakdown': 3, 'iphones': 8, '02': 2, 'symbian': 2, 'wallstreet': 1, '500': 1, 'cesar': 1, 'chavez': 1, 'convore': 1, 'statement': 2, 'dammit': 3, 'isack': 1, 'shortly': 5, 'faces': 1, 'buried': 1, 'hadnt': 1, 'lived': 2, 'sweeeet': 1, 'chrismessina': 1, '6gjmypj': 1, 'wacky': 1, 'powerglove': 2, 'publicly': 2, 'denying': 3, 'dk': 2, 'thoora': 1, 'headsets': 3, 'notice': 2, 'prodmktg': 1, 'inevitable': 1, 'sadpanda': 1, 'pedicabs': 2, 'recomds': 1, 'recommends': 4, 'chip': 1, 'brings': 6, 'browsing': 5, 'hungry': 4, 'mekong': 3, 'river': 4, 'term': 3, 'web3': 2, 'saatchiny': 3, 'socialnetworking': 2, 'someday': 2, 'volume': 1, 'overwhelming': 2, 'self': 8, 'curatedebate': 1, 'factor': 8, 'leaning': 1, 'conventions': 1, 'buttons': 5, 'jr': 8, 'basis': 3, 'messed': 3, 'fittingly': 1, '911': 1, 'stealing': 1, 'mkt': 2, 'schemes': 2, 'lesson': 3, 'hipstermuch': 1, 'lightning': 2, 'mapped': 3, 'kia': 1, 'recalls': 1, 'optimas': 1, 'z33': 1, 'ounce': 1, 'prevention': 1, 'customization': 2, 'hehe': 2, 'promos': 1, 'germ': 2, 'towel': 2, 'emerging': 1, 'projecting': 1, 'profits': 3, 'palette': 1, 'parked': 2, 'profile': 4, 'entry': 13, 'digg': 3, 'hireme': 2, 'qualified': 2, 'women': 9, 'consciously': 2, 'achieve': 2, 'tops': 4, 'mentionr': 2, 'season': 3, 'clover': 1, 'stpatrick': 1, 'bitbop': 2, 'purevolume': 2, '504': 2, 'trinity': 3, '14th': 2, 'detail': 7, 'belies': 2, '2wk': 1, 'lifespan': 2, 'wozniak': 2, 'cops': 3, 'barring': 2, 'dreams': 2, 'dtph': 1, 'clothes': 4, 'compatible': 5, 'position': 5, 'upstarts': 2, 'moves': 3, 'stevejobswins': 1, 'c43': 1, 'specimen': 1, 'nextflix': 2, 'gate': 2, 'frontgatesxsw11': 3, 'hide': 5, 'straw': 1, 'commandeered': 1, 'relinquish': 1, 'edgy': 1, 'brains': 3, 'zombies': 4, 'quoted': 1, 'contentrules': 2, 'rules': 6, 'sxsw11': 4, 'yur': 2, 'reminds': 3, 'priest': 2, 'bible': 4, 'california': 7, 'yo': 3, 'hated': 1, 'ubertwitter': 1, 'clueless': 1, 'os': 2, 'seem': 8, 'basic': 2, 'overcrowded': 1, 'redesigned': 4, 'skiing': 1, 'tahoe': 1, 'waves': 1, 'n14': 1, 'blood': 2, 'cmswire': 1, 'web30': 1, 'js': 7, 'winwin': 2, 'fork': 1, 'submitting': 3, 'banks': 6, 'dog': 2, 'dogs': 3, 'mixed': 2, 'pacific': 2, 'nuclear': 2, 'compute': 1, 'mute': 3, 'conversations': 4, 'sharp': 1, 'strums': 1, 'pdparticle': 1, 'partake': 1, 'browserwars': 7, 'retweeted': 1, 'revamped': 1, 'automated': 1, 'merchant': 2, 'denniscrowley': 1, 'quietly': 1, 'fall': 1, 'outoftheloop': 1, 'installing': 5, '39': 2, 'paying': 3, 'dividends': 1, 'road': 7, 'breathtaking': 1, 'shitty': 2, 'perspective': 3, 'sending': 2, 'bitter': 1, 'steals': 2, 'enjoyed': 3, 'experimentation': 2, 'fr': 4, 'beechwood': 2, 'itune': 1, 'badges': 6, '1315': 1, 'eurosxsw': 1, 'recco': 2, 'newbie': 2, 'tidbit': 3, 'echofon': 1, 'functions': 1, 'photography': 11, 'address': 2, 'crapkit': 1, 'webkit': 3, 'gecko': 1, 'bandwaggoners': 1, 'z17': 1, 'innocent': 1, 'en6p2e': 1, 'passed': 7, 'atv': 1, 'ona': 1, 'flatbead': 1, 'driver': 4, 'hackerspace': 2, 'cited': 1, 'opposite': 4, 'proprietary': 1, 'csuitecsourcing': 1, 'amused': 1, 'bahahahaha': 1, 'heatmap': 3, 'leveraging': 1, 'bumped': 3, 'accelerater': 2, 'select': 3, 'streams': 3, 'incl': 5, 'streaming': 14, 'nailed': 1, 'bluetooth': 1, 'appsavvy': 2, 'failed': 3, 'willpower': 2, 'supposed': 4, 'downstairs': 5, 'cult': 5, 'bicycle': 3, 'easily': 4, 'joined': 2, 'heaving': 1, 'flow': 3, 'tyson': 20, 'pauly': 5, 'soho': 1, 'pairs': 1, 'shoes': 3, 'bundle': 1, 'fed': 2, 'julian': 2, 'screamed': 2, 'zone': 3, 'pigfucker': 2, 'threw': 3, 'pete': 1, 'cashmore': 7, 'dennis': 9, 'compliment': 1, 'speaker': 2, 'sneak': 3, 'irrelevant': 3, 'authenticationdesign': 1, 'cardless': 2, 'signed': 4, 'handsome': 3, 'grabs': 5, 'confess': 2, 'mymom': 1, 'selection': 4, 'duh': 2, 'priority': 2, 'feature': 18, 'organizer': 1, 'path': 6, 'savebrands': 4, 'evolving': 1, 'converge': 1, 'yield': 1, 'mindjet': 6, 'mindmanager': 1, 'boarding': 1, 'prefers': 1, 'hyped': 1, 'meh': 1, 'bang': 1, 'vegas': 3, 'ces': 3, 'warmer': 1, 'controlling': 1, 'urge': 1, 'unveils': 2, 'icarradio': 1, 'riffs': 1, 'sid': 1, 'meier': 1, 'becomes': 3, 'delayed': 3, 'articles': 2, 'presents': 4, 'recs': 4, 'sloanxsw': 2, 'downer': 1, 'coronasdk': 1, 'delay': 1, 'catphysics': 1, 'drug': 1, 'pusher': 1, 'cluster': 4, 'international': 6, 'telecommuters': 2, 'workers': 3, 'looseorganizations': 4, 'downside': 2, 'mocked': 2, 'changer': 2, 'googles': 1, 'hell': 6, 'icenhaur': 2, 'goal': 2, 'funnels': 1, 'registrations': 1, 'safe': 2, 'travels': 5, 'gogo': 3, 'inflight': 1, 'freshbooks': 1, 'dd': 1, 'document': 1, 'english': 3, 'advocates': 1, 'worldwide': 2, 'zbowling': 1, 'sabotaged': 1, 'ecosystem': 5, 'apple2': 2, 'siren': 1, 'obi': 1, 'wan': 1, 'impactdashboard': 2, 'bavcid': 13, 'split': 1, 'cheap': 2, 'excel': 2, 'buzzmetrics': 2, 'radian6': 3, 'altimeter': 2, 'sloansxsw': 2, 'lifetime': 1, 'scanner': 1, 'creators': 2, 'appy': 1, 'sheer': 1, 'ending': 2, 'fireside': 1, 'pictionary': 1, 'werdorks': 1, 'vending': 2, 'machines': 4, 'novels': 1, 'anniemal': 1, 'maura': 1, 'abandoned': 1, 'lap': 1, 'taxi': 4, 'cabs': 1, 'applesxsw': 1, 'southbysouthwest': 1, 'lam': 1, 'demand': 10, 'aka': 5, 'heavyweights': 1, 'inbox': 3, 'wakeup': 2, 'hires': 2, 'suspense': 3, 'looked': 3, 'lighters': 2, 'tricket': 1, 'justsaying': 3, 'essentials': 3, 'th': 3, 'toronto': 1, 'pearson': 1, 'yyz': 1, 'energy': 6, 'sunglasses': 2, 'rainjacket': 1, 'earplugs': 3, 'somewhere': 4, 'whispergram': 2, 'size': 9, 'wew': 2, 'gappacker': 1, 'flavugm': 1, 'marcusross': 1, 'jordanbell': 1, 'banged': 1, 'iwantacr48': 1, 'explaining': 3, 'realistic': 2, 'experiment': 5, 'glasser': 1, 'intrvw': 2, 'machine': 4, 'svcs': 1, 'schmidt': 1, 'functionality': 4, 'standard': 4, 'circulars': 2, 'badger': 2, 'angel': 2, 'playbook': 1, 'became': 1, 'adwords': 2, 'realizes': 1, 'stocked': 1, 'appropriately': 1, 'surprisingly': 1, 'fluffy': 1, 'sxsi': 1, 'smut': 1, 'inline': 1, 'larry': 2, 'elevation': 1, 'kick': 12, 'hahart': 1, 'empty': 2, 'loko': 1, 'cans': 1, 'yobongoed': 1, 'stratlandia': 1, 'smentisce': 2, 'novita': 2, 'arrivo': 2, 'scoping': 4, 'venue': 6, 'cloudcamp': 2, 'valhalla': 2, 'whiskey': 2, 'demolition': 2, 'pinball': 2, 'roof': 3, 'screens': 1, 'deep': 8, 'eddy': 1, '120': 2, 'peep': 1, 'letter': 1, 'wrap': 3, 'owner': 2, 'punched': 1, 'warner': 1, 'hacker': 2, 'debuts': 2, 'steampunk': 3, '37': 2, 'ft': 5, 'reclaimed': 1, 'copper': 1, 'piping': 1, 'maglight': 1, 'misstatements': 1, 'payingwithdata': 2, 'captures': 1, 'mega': 1, 'tether': 1, 'chargin2diffphonesatonce': 1, 'dorkinout': 1, 'apparent': 1, 'removable': 1, 'alwayshavingtoplugin': 1, 'l8er': 1, 'closer': 4, 'finals': 1, 'vaynerchuck': 2, 'lagger': 2, 'ner': 2, 'och': 2, 'slapper': 2, 'stallet': 2, 'appen': 2, 'thankyoueconomy': 2, 'swesxsw': 3, 'alas': 1, 'overtaken': 1, 'controls': 4, 'bottom': 4, 'ahh': 1, 'wonderful': 1, 'ordering': 2, 'urs': 2, 'experimenting': 4, 'tinkering': 2, 'nineties': 2, 'viewed': 5, 'suffering': 1, 'mypov': 3, 'crappy': 2, 'overload': 7, 'ratio': 7, 'nearing': 1, 'matters': 1, 'donation': 2, 'farmers': 5, 'mobilefarm': 7, 'travelled': 1, 'bloomberg': 1, '_______': 2, 'answered': 3, 'foing': 1, 'pair': 1, 'austinites': 3, 'bruises': 1, 'panelists': 1, 'regarded': 1, 'sustainability': 2, 'reporting': 6, 'transparency': 3, 'netflixiphone': 6, 'dailies': 1, 'impossible': 2, 'mb': 1, 'gig': 2, 'color': 1, 'preference': 1, 'sans': 1, 'techrockstar': 1, 'exploration': 2, 'stds': 1, 'persistent': 2, 'chased': 2, 'takeonefortheteam': 1, 'smokes': 2, 'cam': 5, 'foodies': 2, 'arw': 2, 'dine': 2, 'hopeyoudidntgivehimnone': 1, 'pitch': 4, 'omgz': 1, 'golds': 1, 'sooo': 1, 'amismarternow': 1, 'designer': 3, 'acknowledge': 1, 'increase': 1, 'incorrect': 3, 'shakespeare': 2, 'delete': 4, 'brisk': 1, 'sxxpress': 2, 'tutorial': 1, 'touchpad': 1, 'honest': 1, 'roundup': 1, 'sms': 5, 'i21': 1, 'simplest': 2, 'gesture': 3, 'interactions': 2, 'consideration': 1, 'adams': 2, 'brutal': 1, 'rerouted': 3, 'macy': 1, 'uncomfortable': 1, 'integration': 7, 'couchfan': 1, 'lovesit': 1, 'obsession': 1, 'chasing': 4, 'pawn': 1, 'tramplings': 1, 'letushopenot': 1, 'poppop': 1, 'dpe': 1, 'letschangetheworld': 1, 'dual': 3, 'retailers': 2, 'dominance': 5, 'compels': 1, 'frickin': 1, 'amiss': 1, 'blekko': 1, '2b': 2, 'uploaded': 1, 'attendong': 1, 'units': 3, 'option': 1, '11pm': 3, 'redlaser': 1, 'chromeo': 1, 'quoi': 1, 'neuf': 1, 'sur': 1, '30p': 2, 'andro': 3, 'bother': 3, 'cabbies': 2, 'savvy': 4, 'grounlink': 1, 'limo': 2, '68': 1, '2012': 1, 'knickers': 1, 'mobil': 1, 'telework': 1, 'z28': 1, 'curfew': 1, 'damned': 1, 'punchout': 2, 'fluid': 1, 'brew': 1, 'smm': 4, 'i32': 1, 'chartbeat': 1, '_and_': 1, 'exposing': 3, 'horrendous': 1, 'demoing': 5, 'visuals': 2, 'slopes': 1, 'galleries': 1, 'aaron': 2, 'neither': 3, 'reports': 7, 'introducing': 2, 'premature': 2, 'overly': 1, 'aron': 7, 'pilhofer': 7, 'plugged': 3, 'lick': 1, 'fwd': 6, 'coolest': 6, 'barely': 4, 'shrink': 1, 'imagine': 3, 'microformat': 1, 'adapting': 1, 'microformats': 4, 'cle': 4, 'summary': 3, 'engadget': 1, 'effing': 3, 'republicans': 1, 'qho': 2, 'pollak': 1, 'trouble': 3, 'sxswbigbrands': 1, 'unveiled': 5, 'titles': 6, 'tested': 3, 'puppy': 1, 'fawning': 1, 'kicking': 10, 'josh': 13, 'clark': 9, 'mingly': 4, 'forgotten': 3, 'uzu': 1, 'z20': 1, 'verification': 1, 'filtering': 1, 'intuitive': 1, 'serv': 2, 'operators': 3, 'bankinnovate': 2, 'eric': 4, '2nite': 3, 'crossing': 2, 'hopeful': 1, '23': 8, 'fires': 5, 'approved': 4, 'stereo': 2, 'webby': 1, 'shiner': 1, 'fodder': 2, 'snubor': 2, 'gains': 2, 'traction': 2, 'crasher': 1, 'prepping': 3, 'dehumanizing': 1, 'liveshows': 1, 'printed': 6, 'synched': 1, 'notmycollegesxsw': 1, 'feedly': 1, 'clock': 2, 'queueing': 1, 'grip': 1, 'withdrawal': 1, 'twin': 1, 'oddly': 1, 'obnoxiously': 1, 'hesayswithtwohoursleft': 1, 'stretches': 2, 'ballrooms': 1, 'outlandish': 1, 'partial': 1, 'deciding': 2, 'exactly': 5, 'confirms': 1, 'summer': 4, 'pushing': 1, 'heavily': 1, 'webos': 3, 'billing': 2, 'ze': 2, 'frank': 2, 'enables': 1, 'stunning': 1, 'revelations': 2, 'bikes': 1, 'awa50': 1, 'prototype': 1, 'buffalo': 2, 'liveblog': 2, 'miins': 1, 'directly': 1, 'passes': 13, 'mic': 3, 'afternoon': 5, 'juan': 3, 'homepage': 1, 'housing': 1, 'frontend': 1, 'reprieve': 1, 'flat': 2, 'bless': 2, 'mis': 1, 'fictitious': 1, 'giveaways': 3, 'ihop': 2, 'op': 1, 'citeren': 1, 'navigating': 5, 'worse': 2, 'adpeopleproblems': 1, 'cord': 3, 'dfw': 1, 'sherry': 1, 'mess': 5, 'brunch': 1, 'cocktails': 1, 'admits': 4, 'notetaking': 2, 'bingo': 2, 'pull': 9, 'moleskin': 2, 'geoloqi': 1, 'nothin': 2, 'mag': 2, 'regretting': 1, 'woops': 1, 'locals': 2, 'eyeing': 1, '4hb': 1, 'cheatday': 1, 'mpact': 1, 'difficult': 1, 'jackasses': 1, 'nasty': 1, 'lining': 5, 'timoreilly': 1, 'refreshing': 1, 'liveley': 1, 'informative': 1, 'addicted': 1, 'childish': 2, 'gambino': 1, 'extremely': 1, '08': 1, 'packs': 3, 'detect': 1, 'nieuwe': 2, 'regel': 2, 'pun': 1, 'intended': 1, 'geniuses': 1, 'comfortable': 2, 'nfl': 4, 'lockout': 2, 'shinmy': 2, '40min': 2, 'cooper': 1, 'kidney': 1, 'digging': 6, 'east': 4, 'augmentedreality': 1, 'fave': 7, 'rough': 2, 'calculation': 2, 'beard': 4, 'mobile491': 1, 'food4thought': 1, 'juxtaposed': 1, 'lybian': 1, 'rebels': 1, 'thwarted': 1, 'gorgeous': 1, 'reeling': 1, 'although': 3, 'fighting': 1, 'personalizing': 1, 'scary': 2, 'mktgmoment': 1, 'crush': 2, 'litle': 1, 'faulty': 2, 'suckas': 1, 'aristotle': 1, 'taught': 3, 'nxt': 1, 'competitor': 3, 'abound': 1, 'democracy': 6, 'feeback': 1, 'denial': 2, 'deny': 2, 'condense': 2, 'nine': 2, 'apis': 5, 'technical': 5, 'solutions': 4, 'human': 3, 'dat': 2, 'received': 1, 'petition': 1, 'h4ackers': 3, 'promoting': 4, 'txt': 4, '90999': 4, 'condensed': 2, 'mayor': 3, 'pies': 4, 'tests': 12, 'coupons': 4, 'creo': 1, 'que': 4, 'seras': 1, 'primero': 1, 'claims': 5, 'behave': 1, 'malady': 2, 'elbow': 2, 'suns': 4, 'ways': 6, 'healthcare': 1, 'amhealth': 1, '21': 3, 'haul': 1, 'biomimicry': 3, 'eyewitness': 1, 'zinio': 3, 'ref': 5, 'oldschool': 1, 'novideo': 1, 'veryslow': 1, 'farms': 1, 'serps': 1, 'guild': 1, 'hijack': 1, 'producs': 1, '812': 1, 'teamed': 1, 'mindstorm': 2, '12am': 1, 'belong': 2, 'stresses': 1, 'widely': 1, 'publicized': 1, 'rubber': 1, 'buggy': 2, 'bumpers': 1, 'socialemedia': 1, 't3sxsw': 2, 'plze': 1, 'tammi': 1, 'soooooo': 1, 'tht': 2, 'recognize': 1, 'artificial': 1, 'intelligence': 1, 'nobody': 3, 'socialviewing': 4, 'createyourownadventure': 1, 'googlebuzz': 1, 'quitted': 1, 'tw': 1, '__': 1, 'whoohoo': 1, 'abba': 2, 'gotten': 3, 'dissed': 1, 'poor': 4, 'foliot': 1, 'hq': 1, 'cbs': 3, 'scvngr': 4, 'downtime': 1, 'irl': 3, 'prez': 1, 'mahalo': 2, 'autograph': 1, 'comparison': 1, 'germanversion': 1, 'phoenix': 1, 'bluezoom': 1, 'colleague': 4, 'culinary': 1, 'chicken': 1, 'tacos': 9, 'tweetup': 2, 'happydance': 2, 'busdev': 1, 'wr': 1, 'iads': 1, 'crazyco': 3, 'trenches': 1, 'sleek': 1, 'repair': 2, 'damage': 1, 'jo': 1, 'hirer': 1, 'midem': 2, 'climbing': 2, 'charts': 2, 'ohh': 1, 'marrisa': 1, 'hating': 1, '330pm': 1, 'i10': 1, 'pigs': 1, 'ooh': 1, 'triple': 2, 'hyatt': 10, 'regency': 1, 'gross': 1, 'math': 1, '45': 5, 'clocks': 2, 'awwww': 1, 'boyfriend': 3, 'aw': 3, 'lemon': 1, 'backlight': 1, 'bleed': 1, 'kxan': 2, 'jim': 2, 'spencer': 2, 'enchanting': 2, 'airlines': 1, 'lamewad': 1, '779': 1, 'evolved': 1, 'indysaha': 1, 'disabilities': 3, 'insightful': 2, 'icanhas': 1, 'thanksforthebrandedshades': 1, '58': 2, '967': 2, 'ranked': 2, 'jen': 2, 'hearing': 11, 'age': 5, '55': 2, 'newsapp': 3, 'chatter': 5, 'provided': 2, 'stats': 9, 'bberry': 2, 'swswi': 1, 'techdirt': 1, 'bill': 2, 'refused': 1, 'hierarchical': 1, 'toolongforme': 1, '365plusmedia': 2, 'scrub': 2, 'beware': 1, 'innacurate': 1, 'sxswfail': 2, 'wean': 1, 'addiction': 1, 'nah': 3, 'paired': 2, 'promote': 7, 'oil': 2, 'monopoly': 4, 'wary': 3, 'nick': 1, 'considered': 2, 'rude': 2, 'meal': 2, '6thst': 1, 'sxswinfo': 2, 'n37': 1, 'scent': 1, 'dueling': 1, 'offerings': 1, 'indication': 1, 'mackbook': 1, 'rows': 1, 'tdg': 1, 'helaas': 1, 'catherine': 1, 'lori': 1, 'cred': 1, 'kara': 8, 'swisher': 10, 'stylish': 2, 'earned': 2, 'poisoning': 2, 'capitalist': 1, 'customizable': 2, 'anyway': 5, 'dms': 1, 'race': 3, 'Gu': 1, 'Ge': 1, 'Xin': 1, 'She': 1, 'Hui': 1, 'Wang': 1, 'Luo': 1, 'De': 1, 'Chuang': 1, 'Li': 1, 'Ren': 1, 'documents': 1, 'input': 2, 'chronicling': 1, 'witty': 1, 'unlocking': 1, 'owl': 4, 'emily': 1, '101': 8, 'asst': 2, 'fedora': 3, 'holds': 2, 'intrigued': 2, 'marcin': 1, 'sight': 1, 'fucked': 1, 'african': 2, 'contingent': 2, 'symbol': 1, 'guykawasaki': 3, 'eightbit': 2, 'nes': 1, 'thestreet': 1, 'borrowing': 2, 'lug': 3, 'mbp': 3, 'crushing': 1, 'endorsement': 2, 'cue': 2, 'grooving': 4, 'rip': 1, 'june': 2, 'survived': 6, 'severe': 1, 'evade': 1, 'drowning': 3, 'correction': 2, 'dashing': 1, 'longhorn': 1, 'yellow': 5, 'minivan': 2, '350': 2, 'token': 1, 'edge': 2, 'ehphone': 1, 'aphone': 1, 'i17': 1, 'symphony': 1, 'destruction': 1, 'wanting': 2, 'rana': 2, 'bounds': 2, '6pm': 1, 'turnstone': 1, 'shout': 7, 'ukraine': 1, 'validation': 1, 'respecting': 1, 'reconcile': 1, 'h264': 3, 'omission': 1, 'abuzz': 2, 'rendering': 3, 'swapping': 2, 'solely': 1, 'rechargeable': 1, 'handy': 3, 'salesperson': 1, 'darryl': 1, 'amex': 3, 'joining': 2, '64mb': 2, 'iphoneography': 1, 'mobilephotography': 1, 'comic': 2, 'multichannel': 2, 'ketchsx': 4, 'stole': 5, 'attended': 5, 'criticism': 1, 'duty': 1, 'rocked': 4, 'shamed': 1, 'sigh': 4, '25th': 1, 'ken': 1, 'calhoun': 1, '1m': 2, 'merchandise': 1, '5hrs': 1, 'ie': 9, 'ubuntu': 1, 'outdid': 1, 'i38': 1, 'assumes': 1, 'resume': 1, 'tethering': 1, 'kickoffparty': 1, 'blows': 3, 'forgo': 1, 'listed': 1, 'chk': 2, 'handsets': 1, 'seduce': 1, 'thumbs': 3, 'implementing': 1, 'brightens': 1, 'notebook': 1, 'traditional': 1, 'autism': 1, 'guessing': 1, 'afteward': 1, 'challenging': 1, 'boggle': 1, 'leh': 1, 'upset': 2, 'interoperability': 1, 'solved': 1, 'menia': 1, 'williams': 3, 'farmville': 1, 'totalitarian': 1, 'compilation': 2, 'amplifiedlife': 2, 'alice': 1, 'siggi': 1, 'skyr': 1, 'snack': 3, 'boston': 1, 'rediculous': 1, 'overflow': 2, 'sxswsmall': 1, 'silly': 6, 'cmon': 2, 'ridculous': 1, 'ceder': 1, 'rapids': 1, 'andy': 1, 'livestream': 1, 'lie': 2, 'stars': 4, 'moody': 1, 'directors': 2, 'attracting': 2, 'evacuation': 1, 'mouth': 2, 'steal': 4, 'whimsical': 1, 'spirit': 2, 'believes': 1, 'caveats': 1, 'kelt': 1, 'likened': 1, 'dailydeals': 1, 'ogilvynotes': 4, 'sydney': 4, 'ep4': 1, 'interviewing': 2, 'portfolio': 1, 'pieces': 2, '1k': 2, 'intentionally': 2, 'coincide': 3, 'crafty': 2, 'ianything': 1, 'wannabe': 3, 'fanbois': 2, 'acting': 1, 'giggling': 1, 'schoolgirls': 1, 'someones': 3, 'btwn': 1, 'snagged': 1, 'campus': 1, 'bandwidth': 1, 'dawdled': 1, 'magnet': 3, 'stops': 4, 'hooks': 1, 'issued': 2, 'suckling': 1, 'pig': 1, 'dandy': 1, 'arthaus': 3, 'zen': 1, 'guadalupe': 1, 'maurice': 1, 'smooshed': 2, 'compan': 1, 'hatched': 1, 'pinoy': 1, 'approach': 1, 'skepticism': 1, 'amigos': 2, 'broadcastr': 2, 'bestappever': 2, 'farm': 1, 'googling': 1, 'giggle': 3, 'emulates': 1, 'mouse': 4, 'futureoftouch': 2, 'techie': 1, 'monitor': 4, 'illegal': 2, 'deforestation': 2, 'tech4good': 2, 'donate': 3, 'donations': 1, 'victims': 4, 'sollipman': 1, 'lineup': 5, 'replicate': 1, 'spotify': 2, 'pandora': 3, 'miller': 2, 'khan': 1, 'academy': 5, 'education': 4, 'fmsignal': 4, 'dubbing': 1, 'cinemaphiles': 1, 'sticker': 4, 'juts': 1, 'heats': 6, 'friendsoffer': 1, 'thegame': 1, 'bynd': 1, 'wars': 10, 'uncut': 1, 'stopping': 3, 'degrees': 2, 'guests': 1, 'wandered': 1, 'wednesday': 3, 'options': 9, 'coincides': 2, 'begin': 6, 'weeping': 2, 'billmurray': 1, 'howto': 1, 'takingback': 1, 'cameron': 8, 'sinclair': 8, 'spearheads': 7, 'rallies': 1, 'jpquake': 1, 'philanthropy': 3, 'sxsw4jp': 2, 'archforhumanity': 2, 'sq': 5, 'factory': 1, 'austins': 1, 'dull': 1, 'highs': 1, 'spearheading': 2, 'socialgood': 2, 'smearing': 1, 'banana': 2, 'retarded': 1, 'ape': 1, 'transferring': 1, 'adaptive': 2, 'bitrate': 1, 'spotting': 1, 'worries': 3, 'resurgence': 3, 'grid': 2, 'layouts': 2, 'vom': 2, 'volunteering': 1, 'boring': 1, 'uselessobservations': 1, 'null': 1, '450': 1, 'sns': 1, 'straight': 4, 'waterproof': 3, 'cigarettes': 2, 'adding': 1, 'starry': 3, 'executed': 1, 'punctuate': 1, 'sporting': 1, 'sport': 1, 'trees': 2, 'windows7': 1, 'animation': 2, 'singapore': 3, 'roar': 3, '512': 5, 'sgroars': 3, 'sgrocks': 1, 'gadgetenvy': 1, 'initiate': 1, 'carpooling': 1, 'ridonkulous': 1, 'silent': 1, 'boss': 3, 'sucessful': 1, 'linkedin': 3, 'texasevery': 1, 'hyperactivity': 1, 'distraction': 1, '5min': 1, 'workinprogress': 1, 'coinsidence': 1, 'mister': 2, 'comms': 1, 'remedied': 1, 'settling': 1, 'battledecks': 1, 'drama': 1, 'checkinfrenzy': 1, 'scaletest': 1, 'articulating': 1, 'intersection': 1, 'petricone': 2, 'ami': 2, 'cmw': 2, 'musicindustry': 2, 'tmr': 1, 'fastcompanygrill': 3, 'booyah': 3, 'gitchococktailon': 1, 'formation': 1, 'rebeltv': 2, 'unreal': 3, 'clicked': 2, 'effectively': 2, 'ismparty': 1, 'monetization': 3, 'hose': 1, 'individual': 1, 'smaroi': 1, 'ms': 2, 'opera': 6, 'whore': 1, 'pcs': 1, 'dig': 2, 'carrie': 1, 'tuh': 1, 'nerdheaven': 1, 'areas': 1, 'tractor': 2, 'curve': 2, 'purse': 2, 'lakers': 2, 'receive': 2, 'entice': 2, 'ixd': 2, 'domo': 6, 'tonchidot': 2, 'hip': 2, 'preparation': 2, 'hangover3': 1, 'socks': 2, 'uk': 1, 'hcsmeu': 1, 'corporatewhore': 1, 'dmad': 1, 'git': 1, 'panned': 2, 'trumping': 2, 'rightfully': 2, 'bigmistake': 1, 'sheltongreen': 1, 'ericschu_ras': 1, 'southpaw': 1, 'teathering': 1, 'g2': 1, 'chips': 4, 'crop': 4, 'inspiring': 3, 'c9': 1, 'photobooth': 5, 'insanity': 4, 'douchebag': 2, 'biyt': 2, 'loveit': 2, 'strike': 2, 'bloke': 2, 'appletogo': 2, 'costs': 1, 'louis': 2, 'vuitton': 2, 'amble': 2, 'digitalluxury': 2, 'z9': 1, 'quantter': 4, 'occasional': 1, 'peterapokotos': 1, 'mommy': 1, 'empowering': 2, 'dictators': 3, 'rumour': 2, 'wireless': 4, 'king': 1, 'accesssxsw': 2, 'notsurprised': 1, 'beginning': 3, 'implications': 3, 'enhancements': 1, 'foster': 1, 'wallace': 1, 'footnotes': 1, 'fiendishly': 1, 'silver': 2, 'logo': 6, 'risk': 3, 'rep': 1, 'bbc': 1, 'reporter': 1, 'kinect': 1, 'trans': 1, 'connectivity': 3, 'streamed': 1, 'panelist': 6, 'mconfused': 1, 'notionink': 1, 'mistakenly': 1, 'pepsicostage': 7, 'geekbeat': 1, 'hooded': 1, 'snuggie': 1, 'tummy': 1, 'teletubbie': 1, 'registered': 1, 'whenever': 1, 'brands': 3, 'financially': 1, 'admit': 3, 'horrible': 3, 'festivalgenius': 1, 'revenge': 1, 'ridicule': 1, 'unlisted': 1, 'suddenly': 1, 'fml': 1, 'thick': 1, 'rimmed': 1, 'skynet': 1, 'musicconnex': 1, 'withme': 2, 'rolled': 2, 'concerns': 1, 'condescending': 1, 'rob': 2, 'rockstar': 1, 'truth': 3, 'nhk': 2, 'thoms': 1, 'consolidate': 1, 'namely': 1, 'precedent': 1, 'priorities': 2, 'lax': 4, 'suitcase': 2, 'wires': 3, 'blowingup': 2, 'productivity': 1, 'hookup': 1, 'liver': 1, 'boxes': 5, 'techenvy': 1, 'jared': 1, 'implementation': 1, 'blogged': 1, 'originally': 2, 'wife': 7, 'freespeech': 2, 'synced': 2, 'joy': 3, 'easeljs': 2, 'canvas': 3, 'brah': 1, 'weinschenk': 1, 'applestore': 5, 'stickers': 7, 'allhat3': 2, 'hollrback': 4, 'sxswparty': 5, 'economy': 1, 'crushit': 1, 'tye': 1, 'c23': 1, 'fabulous': 2, 'objective': 1, 'critiques': 1, 'chng': 1, 'hannukah': 1, 'miracle': 1, 'uncharged': 1, 'adopters': 1, 'ado': 1, 'rebranded': 1, 'inner': 1, 'harry': 1, 'dumbanddumber': 1, 'commercial': 2, 'appleaddiction': 1, 'kenya': 1, 'kept': 1, 'tha': 1, 'nxdc': 1, 'heartbreaker': 1, 'tracker': 4, 'overlay': 2, 'seekers': 2, 'mantra': 1, 'pride': 1, 'guilty': 2, '7th': 3, 'sin': 1, 'superbia': 1, 'jesus': 3, 'mask': 1, 'turkey': 3, 'awaiting': 2, 'poole': 3, 'twitpict': 1, 'kitkat': 1, 'americans': 3, 'measure': 3, 'playhopskoch': 2, 'inofficial': 1, 'knowledge': 2, 'playlists': 2, 'submitted': 3, 'shy': 1, '106': 4, 'combine': 3, 'calendars': 1, 'advising': 1, 'answers': 1, 'finance': 1, 'hates': 1, 'autocorrected': 3, 'eatdrinktweet': 2, '2day': 5, 'dontbehatin': 1, 'satesman': 1, 'historical': 2, 'laugh': 3, 'elonsxsw': 3, 'din': 1, 'amoral': 1, 'umbrella': 2, 'fandango': 5, 'karaoke': 2, 'tkts': 2, 'memes': 1, 'bluefly': 1, 'boots': 3, 'restful': 1, 'fastcompanygrille': 2, 'makery': 2, 'bushwhacked': 1, 'ringo': 3, 'deathstarr': 3, 'effects': 1, 'pedals': 1, 'igottagetit': 2, 'striking': 2, 'sucked': 1, 'gr2l2': 1, 'geen': 1, 'vandaag': 1, 'erects': 1, 'gtug': 2, '00pm': 2, 'capital': 1, 'foxconn': 1, 'mile': 1, 'growth': 1, 'demonstration': 1, 'uosxsw': 4, 'marissamayer': 2, 'gettinng': 1, 'boo': 1, 'rallying': 1, 'relation': 1, 'alamo': 2, 'cinema': 3, 'killcommunity': 3, 'ca': 2, 'overrun': 2, 'xbox': 4, 'ps3': 2, 'corporation': 2, 'hacky': 1, 'sack': 1, 'consultation': 4, 'tore': 1, 'celebrating': 5, 'googlegays': 1, 'sxswsex': 1, 'gay': 1, 'dating': 1, 'grindr': 2, 'leo': 5, 'laporte': 1, 'pledges': 1, 'valuations': 1, 'beast': 2, 'newsweek': 2, 'thedaily': 1, 'barrydiller': 3, 'truly': 3, 'emotional': 4, 'harlow': 1, 'newsbeast': 1, 'merger': 1, 'barry_diller': 1, 'iac': 1, 'superseded': 1, 'pragmatic': 1, 'pitchforks': 1, 'driskill': 2, 'aiding': 2, 'greater': 3, 'rate': 7, 'torturous': 1, 'endorsed': 6, 'guarding': 2, 'sliced': 2, 'bread': 5, 'revolutionary': 2, 'sis': 1, 'julie': 1, 'rockaroke': 1, 'struggle': 4, 'hole': 1, 'religion': 1, 'atrix': 2, 'lil': 3, 'sizzle': 1, 'numbers': 1, '829': 1, '141st': 1, '38': 1, 'caught': 2, 'declines': 1, 'iv': 1, 'followings': 2, 'chevytweethouse': 1, 'pukey': 1, 'jet': 2, 'smelling': 1, 'farts': 1, 'managed': 2, 'slices': 1, 'terp2it': 1, 'lined': 6, 'former': 5, 'coworker': 1, 'mars': 1, 'nasa': 1, '12ab': 1, 'delivery': 2, 'meaning': 1, 'calling': 1, 'eyes': 2, 'career': 1, 'eat': 4, 'rhizome': 1, 'dieing': 2, 'hunger': 2, 'postpc': 1, 'focused': 1, 'increased': 1, 'soll': 1, 'noch': 2, 'heute': 2, 'starten': 1, 'creeper': 1, 'sorts': 1, 'conflicting': 1, 'googleme': 2, 'suck': 7, '97': 3, 'realllllllly': 1, 'definition': 5, 'curiosity': 2, '45bil': 1, '3bil': 1, '11bil': 1, 'countering': 1, 'jetlag': 1, 'ittttt': 1, 'asddieu': 1, 'lobby': 4, 'speller': 2, 'rumoured': 1, 'iun': 1, 'shelves': 1, 'frenzy': 1, 'visualizing': 1, 'authorization': 1, 'error': 3, 'employee': 1, 'psyches': 1, 'request': 3, 'critthink': 2, 'critical': 1, 'tasks': 2, 'luckily': 1, 'concentrate': 1, 'teamandroidsxsw': 2, 'heavenly': 3, 'michael': 4, 'cera': 4, 'bat': 2, 'cameras': 6, 'rigeur': 2, 'timely': 5, 'continues': 5, 'mwrc11': 3, 'googleto': 1, 'introduces': 2, 'fair': 3, 'innovation': 10, 'deliciously': 2, 'cartel': 2, 'military': 2, 'scientific': 2, 'dictatorship': 2, 'takeover': 2, 'rant': 2, 'desperately': 2, 'vaccines': 2, 'onset': 2, 'prostate': 2, 'cancer': 2, 'chortler': 2, 'mustachepox': 2, 'oreilly': 1, 'databases': 1, 'contribution': 1, 'craigs': 1, 'crm': 2, 'scrm': 7, 'act': 2, 'viporbit': 2, 'poem': 1, 'scepticism': 2, 'expressed': 1, 'newspapers': 5, 'kingdom': 1, 'unlocked': 3, 'chill': 1, 'atomic': 1, 'brooklyn': 3, 'wu': 1, 'explains': 2, 'netneutrality': 1, 'empires': 1, 'rooftop': 4, 'gingerman': 1, 'gent': 1, 'kilt': 1, 'nnnneeerrrrddddsss': 1, 'drives': 3, 'earphones': 3, 'ing': 4, 'extolling': 2, 'coolness': 2, 'swoon': 2, 'phillip': 1, 'dickish': 1, 'connects': 4, 'advanced': 1, 'meyers': 2, 'adopter': 1, 'cuts': 3, 'drops': 3, 'convoluted': 1, 'analogy': 1, 'funniest': 2, 'volumes': 1, 'automation': 1, 'gas': 2, 'simplicity': 6, 'li': 6, 'douchebloggers': 1, 'bah': 1, 'wipe': 1, '206': 2, 'yup': 6, 'estyaustin': 1, '222': 1, 'heh': 3, 'yawn': 1, 'luv': 1, 'wknd': 7, 'whitelists': 1, 'transparently': 1, 'saber': 3, 'barroom': 3, 'brawls': 3, 'fists': 3, 'decks': 3, 'mentionm': 1, 'fab': 1, 'plixi': 3, '83323324': 1, '83323414': 1, 'frame': 2, 'familiarize': 1, 'casually': 1, 'forecast': 1, 'dow': 2, 'mood': 2, 'analysis': 1, 'smvis': 2, 'imrich': 1, 'marcelosomers': 2, '45pm': 1, 'worn': 2, 'peter': 3, 'minor': 6, 'improvement': 3, 'sxsurrogates': 2, '29': 1, 'round': 3, 'sxbrits': 1, 'icm': 1, 'commented': 1, 'lennon': 1, 'educational': 3, 'severely': 1, 'autistic': 1, 'mastered': 1, 'puzzles': 1, 'moose': 2, 'importance': 1, 'fitting': 1, 'witness': 1, 'spectacle': 2, 'oppty': 1, 'gesturing': 1, 'ability': 4, 'bavc': 3, 'visualize': 1, 'duane': 2, 'forrester': 2, 'vizthink': 1, 'policies': 2, 'vast': 3, 'digi': 2, 'digitaldeath': 3, 'recorder': 2, 'flipcam': 1, 'msusxsw': 2, 'github': 1, 'winners': 1, 'samplers': 1, 'initial': 1, 'impressions': 1, 'nvidia': 1, 'gaming': 2, 'humpty': 1, 'hump': 1, 'nope': 2, 'followback': 2, 'grauniad': 2, 'seattle': 1, '27': 2, 'lcd': 2, 'restored': 1, 'unleash': 1, 'iminfanboycentral': 1, 'magnetic': 2, 'overall': 1, 'improvemnt': 1, 'surgery': 1, 'prayers': 1, 'repaid': 1, 'restore': 1, 'dali': 1, 'gummy': 2, 'bears': 1, 'hhonorsrecharge': 1, 'vacation': 1, 'exploiting': 5, 'return': 9, 'policy': 6, 'imacs': 6, 'hewlitt': 1, 'packard': 1, 'goiing': 1, 'booze': 2, 'ahhh': 2, 'darn': 1, 'jazz': 2, 'pushio': 5, 'aggregator': 1, 'sxswedu': 2, 'creativity': 4, '90': 3, 'hub': 1, 'sxswmonster': 1, 'houston': 2, 'hysterical': 2, 'coveting': 1, 'electric': 1, 'san': 8, 'antonio': 3, 'throughout': 3, 'goings': 2, 'ons': 2, 'miketyson': 1, 'digibiz': 2, 'parabolico_bh': 1, 'maravilha': 1, 'aproveitem': 1, 'videogames': 3, 'cartoon': 3, 'sides': 3, 'fisting': 2, 'alley': 1, 'burlesque': 1, '930a': 1, 'environment': 3, 'twnp': 3, 'blame': 5, 'fixing': 4, 'preferrably': 1, 'deficit': 1, '12th': 3, 'zaarlyiscoming': 2, 'tron': 3, 'swish': 1, 'blueray': 1, 'eminent': 1, 'thoughtful': 1, 'handwriting': 1, 'conquered': 1, 'hairy': 2, 'butts': 2, 'fessing': 1, 'admitting': 1, 'autographs': 1, 'boxing': 2, 'mighty': 1, 'fallen': 1, 'cohen': 1, 'comcom': 1, 'unconfirmed': 1, 'meeping': 1, 'techi': 4, 'doctor': 6, 'vitalscom': 2, '1985': 1, 'facial': 1, 'summit': 1, 'delight': 1, 'topping': 1, 'junkie': 1, 'fondling': 1, 'disturbing': 1, 'blacked': 1, 'corrects': 2, 'nostalgic': 1, 'jumped': 1, 'shark': 2, 'googleplaces': 1, 'knockout': 1, 'berklee': 1, 'topspin': 1, 'txts': 1, 'tlds': 1, 'domains': 1, 'depressed': 2, 'appear': 2, 'decency': 1, 'blush': 1, 'aber': 1, 'leider': 1, 'nur': 1, 'fur': 1, 'babies': 1, 'renames': 1, 'livingthedream': 1, 'ncaa': 1, 'mmod': 1, 'flawless': 2, 'livesteam': 1, 'bracket': 4, 'exported': 1, 'diego': 1, 'shift': 2, 'tme': 1, 'wack': 1, 'james': 1, 'franco': 1, 'expert': 1, 'nerdsunite': 2, 'insatiable': 1, 'netscape': 1, 'prior': 1, 'chillin': 1, 'talkin': 1, 'programmer': 1, 'h4cker': 1, 'eye': 4, 'bereft': 1, 'wanderer': 1, 'limp': 1, 'lifeless': 1, 'poetry': 1, 'vufinders': 2, '3x': 2, 'speedup': 2, 'tagging': 2, 'indieauthors': 1, 'sanders': 1, 'overview': 1, 'activations': 2, 'animated': 1, 'eidt': 1, 'tshirt': 4, 'lags': 1, 'acceleration': 1, 'pervasive': 1, 'barbarian': 2, 'lend': 1, 'tandy': 1, 'grandfather': 1, 'strangers': 3, 'crash': 1, '10mins': 1, 'fuckit': 1, 'illmakeitwork': 1, 'rockstache': 1, 'techsmith': 1, 'istache': 1, 'resource': 2, 'accidentally': 4, 'laura': 1, 'linney': 1, '3blks': 1, 'amusing': 2, 'crowdsourced': 1, 'yeasayer': 1, '300': 7, 'readable': 1, 'idontbelieve': 1, 'helpful': 3, 'dickbar': 4, 'ie6': 3, 'lolshow': 3, 'stretching': 1, 'artistic': 1, 'landscape': 1, 'cartridge': 1, 'get_a_lyfe': 1, 'albany': 1, 'nelson': 1, 'medina': 1, 'protecting': 6, 'thewildernessdowntown': 1, 'thomas': 1, 'gayno': 1, 'choreography': 1, 'blurs': 2, 'collectively': 3, 'assistivetech': 2, 'edapps': 1, 'apraxia': 1, 'sped': 1, 'augcomm': 2, 'covet': 1, 'fancy': 1, 'steady': 2, 'gofigure': 1, 'pp': 1, '2yrs': 2, 'locating': 1, 'indexed': 1, 'checklist': 1, 'tt': 1, 'ff': 2, 'bashing': 1, 'consistent': 1, 'wowwwwww': 1, 'skinny': 4, 'tie': 1, 'wayfarers': 1, 'enablers': 1, 'danfung': 2, 'immersive': 5, 'rig': 3, 'backpacking': 1, 'therocksreport': 1, 'debating': 3, 'role': 1, 'debate': 1, 'jcpenney': 3, 'tactics': 1, 'keywords': 2, 'punishment': 1, 'searchengineland': 2, 'existent': 1, 'owllove': 1, 'z16': 1, 'grace': 1, 'applying': 1, 'operation': 1, 'ajax': 3, 'passport': 2, 'se': 1, 'pg': 1, 'script': 1, 'chairs': 1, 'gov': 1, 'verge': 1, 'patientslikeme': 1, 'visiting': 4, 'generation': 1, 'mock': 2, 'remembered': 2, 'horror': 4, 'movies': 3, 'practice': 1, 'abacus': 2, 'qabg': 1, 'msn': 1, 'unloaded': 1, 'refresh': 2, 'h2o': 4, 'longform': 2, 'geared': 2, 'toward': 2, 'workplace': 2, 'rails': 1, 'deliver': 2, 'dom': 1, 'organizing': 2, 'niche': 1, 'reily': 2, 'pissedimnotgoingtosxsw': 1, 'phew': 1, 'panic': 1, 'appleapple': 1, 'innovating': 1, 'brianlam': 1, 'congo': 1, 'ipanemas': 1, 'talib': 1, 'kweli': 1, 'karateka': 2, 'wolfenstein': 2, 'choplifter': 2, 'oldsko0l': 2, 'veriphone': 1, 'psychedthough': 1, '30mio': 1, 'tightasstraveler': 2, 'achievement': 2, 'transit': 4, 'instructions': 2, 'venn': 1, 'diagram': 1, 'neumann': 1, 'organic': 2, 'broadfeed': 3, 'ones': 4, 'cruze': 2, 'losers': 4, 'investors': 3, 'frothy': 2, 'enterprise': 5, 'gathering': 2, 'toting': 3, 'at038t': 1, 'teleporting': 1, 'capabilities': 2, 'pushsnowboarding': 2, 'wore': 1, '4this': 1, 'shill': 1, 'underestimate': 1, 'appeal': 1, 'mayers': 1, 'drooling': 2, 'sillier': 1, 'fencing': 2, 'showcases': 2, 'ninja': 2, 'shoulda': 1, 'producers': 3, 'nab': 1, 'fruit': 4, 'values': 3, 'bookselling': 2, 'brave': 1, 'accessible': 5, 'shaping': 2, 'megablaag': 1, 'sho': 1, 'tnw': 1, 'attracted': 2, 'define': 2, 'thereby': 2, 'consumerist': 1, 'tournament': 1, 'pitted': 1, 'overthere': 1, 'braille': 3, 'tribute': 2, 'eisner': 1, 'whose': 1, 'lent': 1, 'remote': 1, 'beprepared': 1, 'ten': 3, 'percent': 5, 'teases': 3, 'swing': 2, 'anticipate': 1, 'inventing': 1, 'dislike': 3, 'fathom': 1, 'amen': 2, 'pulse': 1, 'daylight': 2, 'glitch': 1, 'impacted': 1, '1443': 1, '2g': 1, 'shuffle': 1, 'raffle': 2, 'eod': 1, 'devops': 7, 'complex': 7, 'written': 3, 'reads': 2, 'providers': 2, 'cloudkick': 2, 'pagerduty': 2, 'paging': 2, 'dnsmadeeasy': 2, 'postmark': 2, 'ec2': 2, 'azure': 2, 'succumb': 1, 'highlights': 3, 'istock': 1, 'oy': 1, 'getoutthevote': 2, 'cbus': 1, 'cbustech': 1, '165': 1, 'das': 2, 'verpixelungsrecht': 2, 'pixelated': 2, 'theft': 4, 'googlebook': 1, 'twitgle': 1, 'breakfast': 2, 'yummy': 1, 'griffin': 1, 'cordless': 1, 'apartments': 2, 'splendor': 2, 'dancin': 2, 'spazzmatics': 3, 'calculate': 1, 'losing': 2, 'farmer': 1, 'yayrt': 2, 'grrrr': 1, 'muting': 1, 'omitting': 2, 'effective': 4, 'todo': 1, 'casbah': 2, 'rights': 2, 'hhaha': 1, 'intimidated': 1, 'printer': 1, 'instaprint': 1, 'consignment': 1, 'outdated': 1, 'vibrator': 1, 'monetize': 1, 'z37': 1, 'cleanup': 1, 'aisle': 2, 'ae': 2, 'waaaaaa': 1, 'billards': 1, 'pengen': 1, 'jdnya': 1, 'fields': 1, 'pvhouse': 2, 'snackers': 2, 'popchicks': 2, 'smartfriend': 1, 'heattracker': 1, 'geeking': 4, 'proud': 2, 'dad': 2, 'bd': 1, 'riley': 1, 'temperatures': 1, '20s': 1, 'wkend': 1, 'mass': 3, 'influx': 2, 'evr': 1, 'evrmobile': 1, 'pepsico': 1, 'playground': 1, 'stinkin': 1, 'f1': 1, 'racetrack': 1, 'backyard': 1, 'flavor': 1, 'abroad': 1, 'joe': 3, 'berry': 2, 'connectedcar': 2, 'detouring': 1, 'inspired': 1, 'ed': 2, 'justinjustinjustin': 1, 'favour': 1, 'socailmedia': 1, 'independent': 2, 'abilities': 1, 'ridley': 1, 'febuary': 1, 'noes': 1, 'rejection': 1, 'pleased': 1, 'anxious': 1, 'wonders': 2, 'kingston': 1, 'lotsa': 1, 'importantly': 1, 'occasionally': 2, 'auth': 1, 'fantastico': 1, 'toooo': 1, 'dawg': 2, 'observations': 1, 'appletakingoverworld': 1, 'monitoring': 2, 'sm2': 1, 'convo': 1, 'idiocy': 2, 'peaked': 1, 'named': 3, 'shawn': 1, 'blanc': 1, 'surface': 1, 'intricate': 1, 'underneath': 3, 'reminding': 1, 'facts': 2, 'aim': 4, 'communal': 2, 'strive': 1, 'complement': 1, 'artwork': 2, 'equity': 1, 'attached': 1, 'pointing': 2, 'sources': 1, 'decisions': 2, 'peoplefinder': 1, 'magical': 1, 'technopriest': 1, 'honor': 3, 'landlords': 2, 'leasing': 2, 'agents': 3, 'utilize': 2, 'shops': 3, 'millions': 3, 'incenticize': 2, 'hive': 3, 'promotional': 1, 'shuffleboard': 1, 'wax': 1, 'sprinklers': 1, 'entering': 1, 'ez': 1, 'cashmere': 1, 'parachute': 1, 'andrew': 1, 'prx': 1, 'equates': 1, 'homogeneity': 1, 'predictability': 1, 'imaconf': 1, 'z1': 1, 'n31': 1, 'frying': 1, 'pan': 2, 'z40': 1, 'themostist': 1, 'googlers': 2, 'urthots': 5, 'guru': 1, 'express': 2, 'bandcamp': 2, 'sxsw_2011': 1, 'mindstorms': 1, '1980s': 1, 'unlike': 1, 'surplus': 1, 'leash': 1, 'payments': 5, '78': 2, 'yowza': 1, '128': 2, 'myegc': 1, 'coolaid': 1, 'hulu': 1, 'intentions': 1, 'tremendous': 1, 'conflict': 1, 'getdown': 1, 'jeremie': 1, 'zation': 1, 'indexing': 1, 'assets': 1, 'uncatalogued': 1, 'materials': 1, 'futureofed': 1, 'thegogame': 1, 'sxswhomo': 3, 'ben': 4, 'mcree': 5, 'olderadults': 2, 'team_android': 1, 'sayeth': 2, 'addr': 1, 'euphoria': 1, 'centric': 1, 'teeth': 2, 'hookers': 1, 'accept': 1, 'coochie': 1, 'spokewoman': 2, 'nadja': 2, 'blagojevic': 2, 'untrue': 3, 'hawt': 1, 'howmto': 1, 'usdes': 1, 'opportunism': 2, 'technologist': 1, '125': 1, 'allhat': 2, 'fuss': 5, 'c10': 1, 'copying': 2, 'macbookpro': 1, 'besides': 1, '4sqchat': 1, 'stumbledupon': 1, 'sxswdad': 2, 'uitp': 1, 'i41h53': 4, 'ooc': 1, 'holytrafficjams': 2, 'weak': 1, 'looms': 7, 'publicradio': 1, 'rudy': 1, 'belgiums': 1, 'skylines': 1, 'net': 2, 'schmittastic': 3, 'sxswbarcrawl': 2, 'recounts': 2, 'batshit': 2, 'doubling': 2, 'ensures': 2, 'michaels': 2, 'jl': 2, 'taplynx': 2, 'licences': 2, 'pushsxsw11': 2, 'nosql': 2, 'db': 2, 'nutshell': 2, 'favorited': 2, 'doo': 4, 'dah': 4, 'travolta': 1, 'arrow': 1, 'pseudoretweet': 1, 'protection': 2, 'latte': 2, 'gatekeeper': 4, 'iava': 2, 'nonprofits': 5, 'vets': 2, 'deserve': 2, 'letshookup': 4, 'mobs': 2, 'affirmative': 3, 'nptech': 3, 'cheapen': 2, 'industries': 1, 'bvj': 1, 'comments': 2, 'finagles': 1, 'earn': 1, 'harhar': 1, 'screaming': 2, 'bastards': 2, 'designingforkids': 2, 'relationship': 3, 'sapient': 2, 'parsing': 2, 'remake': 2, 'seenatsxsw2011': 2, 'begging': 3, 'beyondwc': 2, 'csr': 2, 'janecek': 2, 'dvsg': 2, 'disrupt': 3, 'visa': 4, 'master': 3, 'develop': 1, 'chilltab': 2, 'lbseverywhere': 2, 'finkelstein': 2, '206k': 2, '457': 2, '8800': 2, 'upstairs': 2, 'swarms': 9, 'sd': 1, 'storage': 1, 'cried': 2, 'frid': 2, 'compact': 2, 'disk': 2, 'gcal': 2, 'designerdrugs': 1, 'iampaintedface': 2, 'h0u5t0n': 2, 'quote': 2, 'relatable': 2, 'discoverable': 2, 'mill': 2, 'slightly': 2, 'thinner': 2, 'earths': 2, 'smudgy': 2, 'fundraising': 2, 'kiosk': 3, 'wahoos': 2, 'beers': 2, 'ritas': 2, 'rain': 3, '1100': 1, 'roughly': 1, 'tanks': 1, '2100': 2, 'categorized': 2, 'alphabetically': 2, 'stringer': 1, 'aims': 1, 'maudies': 1, 'ajs2011': 1, 'bucks': 1, 'doomed': 1, '43': 2, '33': 2, 'unemployed': 2, 'diabetes': 1, 'plate': 1, 'schtuff': 2, 'dir': 1, 'generate': 2, 'salgado': 2, 'tweeps': 5, 'homies': 2, 'recorded': 1, 'exclusively': 1, 'apartmovie': 1, 'auerbach': 1, 'cpmpetition': 1, 'prespective': 1, 'tonite': 6, 'grew': 3, 'wut': 3, 'preferences': 6, 'seenocreepy': 6, 'pops': 3, 'aligned': 1, 'gdc': 2, 'go2': 2, 'kudos': 3, 'confirm': 1, 'nisxsw': 1, 'inagist': 1, 'quarter': 2, 'tbwasxsw': 3, 'hordes': 3, 'purchasers': 3, 'morefunpeoplewatching': 2, 'iangogame': 1, 'traces': 2, 'takers': 3, 'checks': 2, 'lavaca': 2, 'tokii': 4, 'maple': 2, 'leaf': 2, 'explore': 2, 'ny': 1, 'demonstrates': 4, 'pause': 4, 'tveverywhere': 3, 'webtrends': 2, 'chzbrgr': 2, 'mpls': 2, 'ispyart': 2, 'artallaround': 2, 'denim': 4, 'prototyping': 3, 'sketchbooks': 2, 'sharpie': 2, 'pens': 2, 'photoshop': 2, 'balsamic': 2, 'axsure': 2, 'myprototype': 2, 'pal': 2, 'benieuwd': 2, 'studying': 3, 'flocking': 2, 'swarming': 2, 'behavior': 2, 'collab': 2, 'bounced': 2, 'admired': 2, 'classy': 2, 'images': 4, 'trashy': 2, 'restraunts': 2, 'retweet': 6, 'implode': 2, 'day1': 1, 'day2': 2, 'hotspot': 4, 'mk': 2, 'tronloungesxsw': 2, 'tronlegacy': 2, 'r3conf1gur3d': 2, 'soundtrax': 2, 'wp7dev': 2, 'teacher': 4, 'hs': 4, 'internetonlinewebsite': 2, 'court': 1, 'evri': 1, 'raffled': 2, 'contactless': 2, 'trialled': 2, 'anz': 2, 'boycotting': 2, 'peer': 2, 'crisiscommons': 1, 'datasets': 1, 'volunteers': 2, 'japanquake': 1, 'cunning': 2, 'lat': 1, 'tracy': 2, 'shea': 2, 'rick': 2, 'bobby': 2, 'liebling': 2, 'hotsheet': 4, 'compass': 2, 'serendipitous': 2, 'ditch': 3, 'previous': 2, 'prev': 1, 'a11y2go': 2, 'deviantart': 6, 'buys': 3, 'muro': 3, 'htt': 1, 'freemusic': 4, 'dispatches': 2, 'aspengrove': 4, 'nytimes': 2, 'dtsxsw': 1, 'playlist': 8, 'absolutley': 2, 'hollywood': 2, 'silicon': 2, 'pool': 2, 'cowboy': 2, 'vibe': 2, 'epicurious': 2, 'moma': 3, 'fantasy': 2, 'constantcontact': 2, 'marchmadness': 2, 'selectionsunday': 2, 'snakeheead': 2, 'shots': 2, 'guardianapp': 2, 'webinar': 4, '30th': 4, 'lemonade': 2, 'gabacustweets': 1, 'brk': 1, '4android': 1, 'cellular': 4, 'owle': 2, 'bubo': 2, 'coupon': 2, 'sbsw2011': 2, 'sxswfilm': 2, 'almedia': 2, 'mappers': 3, 'onsulting': 1, 'stimulating': 1, 'compiled': 1, 'pixel': 2, 'desmiente': 2, 'lanzamiento': 2, 'hoy': 2, '32000': 2, 'font': 2, 'webfonts': 2, 'cleantech': 3, 'recos': 2, 'skiers': 2, 'overlaid': 1, 'mountain': 1, 'positioning': 1, 'latina': 4, 'sxswlatam': 3, 'latinasintech': 3, 'googlela': 2, 'googlemarch': 2, 'deferomobile': 1, 'tnooz': 2, 'providing': 3, 'exceeded': 2, 'reference': 3, 'paced': 2, 'arabspring': 3, '41': 4, 'nuances': 2, 'w2p': 1, 'goody': 1, 'void': 2, 'gapminder': 2, 'incapable': 2, 'disruptive': 2, 'acquired': 5, '89': 2, 'tr': 2, 'maggiemaes': 1, 'vmware': 2, 'talent': 5, 'jmc322': 1, 'flannel': 2, 'imanoutcast': 2, 'alguien': 1, 'ahi': 1, 'flairbuilder': 1, 'wnt': 1, 'itinerary': 2, 'require': 2, 'ducks': 2, 'hitchery': 2, 'summon': 2, 'pals': 2, 'crucial': 3, 'fuckin': 2, 'whatever': 4, 'oversized': 2, 'pluged': 2, 'loose': 4, 'laws': 2, '9to5': 1, 'pot': 5, 'clevelandsteamer': 2, 'huzzah': 3, 'umassjour': 2, 'shuffling': 2, 'hubby': 2, 'dodo': 2, 'memolane': 2, '12b': 3, 'messing': 1, 'digisxsw': 1, 'stroke': 2, 'aarpbulletin': 2, 'blind': 4, 'unstable': 2, 'nten': 2, '11ntc': 2, 'guilttrip': 1, 'lock': 2, 'raised': 1, 'rabbits': 2, 'gotto': 2, '150mm': 2, 'toddlers': 1, 'trapped': 1, 'metaphors': 1, 'hacks': 1, 'spider': 2, 'bryce': 2, 'manor': 2, 'cents': 2, 'theinternet': 2, 'stacked': 1, 'pizza': 1, 'samsungsxsw': 1, 'austincrowd': 2, 'scar': 2, 'foreshadowing': 2, 'corrected': 2, 'merrier': 2, 'nerdier': 2, 'slips': 3, 'jammy': 1, 'bugger': 1, 'donuts': 2, 'massage': 2, 'zaggle': 3, 'zms': 2, 'conserve': 2, 'lamesauce': 1, 'itc': 2, 'sightings': 2, 'cry': 4, 'adele': 2, 'solace': 2, 'crossroads': 3, 'liz': 3, 'phair': 3, 'californians': 1, '8a': 2, 'livetapp': 2, 'raffling': 2, 'tweetignite': 2, 'bloggers': 2, 'sxwonderful': 1, 'smilebooth': 1, 'cm48': 1, 'meetingwave': 2, 'trillion': 1, 'npac': 1, 'writin': 2, 'makin': 2, 'pity': 2, 'yum': 2, 'virtualoffice': 2, 'kitten': 1, 'mashabl': 1, 'inclds': 1, 'joepieee': 1, 'measuring': 2, 'displaying': 2, 'young': 7, 'tg': 2, 'idealab': 1, 'hardcore': 2, 'science': 2, 'readership': 2, 'ignore': 2, 'hmiiga': 1, 'vimeo': 2, 'continue': 2, 'wal': 2, 'mart': 2, '83881586': 1, 'ooooo': 2, 'mobileroadie': 1, '2rd': 1, 'lulling': 1, 'smittys': 1, 'meatxmeatwest': 1, 'bxbq': 1, 'nfb': 2, 'films': 2, 'tchin': 2, 'ceos': 1, 'kiip': 1, 'syncapse': 1, 'papa': 3, 'sangre': 3, 'audio': 6, 'recommended': 2, 'papasangre': 4, 'journalsim': 2, 'informed': 3, 'populous': 2, 'cn': 2, 'organization': 1, 'husband': 3, 'questioner': 2, 'caused': 2, 'randomactofkindness': 2, 'readwriteweb': 2, 'reks': 1, 'borderstylo': 2, 'njdoc': 1, 'moneytoburn': 1, 'alignd': 1, 'chart': 1, 'hcmktg': 1, 'gpp': 1, 'intrestin': 1, 'mentionw': 2, 'dtwn': 1, 'soccomp': 2, 'liberty': 6, 'sxswpass': 6, 'cmty': 2, 'mngr': 2, 'cmmeetup': 1, '8p': 2, 'tribes': 3, '11am': 2, 'dr_black': 1, 'selfishness': 1, 'versus': 1, 'masters': 1, 'referential': 1, 'waaaambulance': 1, 'sera': 2, 'cierto': 2, 'smartest': 2, 'imho': 2, 'shhhh': 2, 'shoe': 2, 'transition': 2, 'kickass': 1, 'pink': 4, 'soundtrckr': 2, 'longlinesbadux': 1, 'penetrates': 3, 'tvs': 3, 'greaaat': 2, 'mascots': 2, '24587': 2, '17': 3, 'piday': 3, 'pecan': 3, 'strawberry': 2, 'rhubarb': 2, 'circumferences': 2, 'ep3': 2, 'crazytimes': 1, 'ludicon': 2, 'ossum': 2, 'cocaine': 1, 'mel': 1, 'gibson': 1, 'offic': 1, 'taste': 2, 'whirlwind': 1, 'springbreak': 1, 'notenoughplaid': 1, 'ducked': 2, '4chan4eva': 2, 'authoritzed': 2, 'republish': 2, 'judging': 1, 'spill': 2, 'upside': 1, 'coined': 1, 'apptrophy': 2, 'unused': 1, 'disuse': 1, 'train': 4, 'thier': 2, 'officer': 2, 'advisory': 2, 'innotribe': 2, 'firms': 1, 'openexhibits': 1, 'wakeuplaughing': 2, 'itun': 1, 'ifr3dw': 1, 'throttled': 2, '420': 2, 'errors': 2, 'fewer': 1, 'w3c': 3, 'ahem': 3, 'ray': 2, 'additional': 1, 'decent': 2, 'byebyemoney': 1, 'heating': 2, 'walkin': 2, 'yelping': 2, 'liquid': 2, 'exp': 3, 'liquidux': 2, 'pep': 2, 'upc': 2, 'pensei': 1, 'iriam': 1, 'lancar': 1, 'ftrs': 1, 'googlecircle': 1, '96': 3, 'eyeballed': 2, 'ip4': 2, 'lepanele': 1, 'amer': 1, 'glenda': 2, 'watson': 2, 'cerebral': 2, 'palsy': 2, 'communicate': 2, 'motherboard': 2, 'gwt': 1, '2honor': 1, 'suffered': 1, 'seatmate': 2, 'prepare': 1, 'mania': 1, 'filters': 1, 'v1': 2, 'crapped': 1, 'extras': 2, 'fuzzy': 1, 'jake': 1, 'gyllenhaal': 1, 'bigdplace': 1, 'drupal': 1, 'tribe': 1, 'children': 1, 'powerful': 2, 'distant': 1, 'sore': 1, 'brighteyes': 1, 'thecivilwars': 1, 'starbu': 1, 'cks': 1, 'acrosse': 1, 'unpack': 2, 'creatively': 1, 'socialmediabum': 1, 'disavowal': 1, 'honors': 1, 'necessary': 1, 'relevancy': 1, 'motivator': 1, 'earbud': 1, 'magnifying': 1, 'vectors': 1, 'dimensional': 1, 'corporations': 1, 'founded': 1, 'prods': 1, 'jayden': 1, 'recognized': 1, 'nikon': 1, 'commercials': 1, 'sxswnikon': 1, 'gmaps': 1, 'shakedown': 1, 'brewing': 1, 'inpdx': 1, 'portlanders': 1, 'leaked': 1, 'tipping': 1, 'low': 1, 'jqtouch': 1, 'geekery': 1, 'pix': 1, 'mirroring': 1, 'hdmi': 1, 'gents': 1, 'scouts': 1, 'planting': 1, 'atms': 1, 'thinmints': 1, 'guerrilla': 1, 'popupshop': 2, 'tipb': 1, 'shell': 2, '1500': 2, 'accommodate': 1, 'influencers': 3, 'statesman': 1, 'savesxsw': 1, 'insist': 1, 'tragedy': 1, '12bn': 1, 'whither': 1, 'doors': 2, 'estate': 2, 'invest': 1, '0310apple': 1, 'trollfoot': 1, 'belt': 2, 'holster': 1, 'oxymoron': 1, 'batman': 1, 'mba': 1, 'overdrive': 1, 'conversing': 1, 'dorks': 1, 'manages': 1, 'geeksrejoice': 1, 'cab4me': 1, 'bestie': 1, 'blackberr': 1, 'exercise': 1, 'hail': 1, 'iphoneapp': 1, 'pagerank': 2, 'smack': 1, '44': 1, 'hype': 2, 'viagra': 1, 'communications': 2, 'expansion': 1, 'outlook': 1, 'budget': 1, 'trips': 1, 'antwoord': 1, 'korine': 1, '11th': 1, 'porque': 1, 'worried': 2, 'stated': 1, 'navigate': 2, 'spaces': 1, 'roddy': 1, 'walston': 1, 'alphagraphics': 1, 'laser': 1, 'prints': 1, 'optimized': 1, '10x2': 1, 'sehugg': 1, 'kshepherd': 1, 'juntao': 1, 'wuchangtx': 1, 'tweegos': 1, 'ripping': 1, 'joomla': 1, 'blogpost': 1, 'icnnreport': 1, 'multiplicity': 1, 'ay': 1, 'gah': 1, 'torture': 1, 'addictedtotheinterwebs': 1, 'coudbeeasier': 1, 'jenny': 1, 'yea': 1, 'bricklin': 1, 'notetaker': 1, 'chokes': 1, 'i28': 1, 'presenter': 2, 'tougher': 1, 'colin': 1, 'quinn': 1, 'theplatform': 1, 'googlebread': 1, 'engineers': 1, 'listings': 2, 'renewing': 1, 'sketches': 1, 'stamps': 1, 'newly': 2, 'ncbshow': 1, 'mustache': 1, 'monocle': 1, 'freedrinks': 1, 'crazyfest': 1, 'africans': 1, 'capped': 1, 'iwantacameraonmyipad': 1, 'mkesxsw': 1, 'wisconsin': 2, 'event_iap5507': 1, 'miamibeach': 1, 'raidsxsw': 2, 'z4': 1, 'enviro': 1, 'bin': 1, 'greatergood': 1, 'routing': 1, 'wasteoftimeatsxsw': 1, 'pov': 1, 'copia': 1, 'cocoon': 1, 'messenger': 1, 'redbox': 1, 'gilt': 1, 'graphic': 1, 'sesh': 1, 'dawned': 1, 'timed': 1, 'maximum': 1, 'sells': 3, 'creeps': 1, 'situation': 1, 'latenightgeeks': 1, 'pouch': 1, '16162': 1, 'benefit': 2, 'linkdown': 1, 'poopin': 1, 'club': 3, 'zing': 2, 'n3': 1, 'atzip': 1, 'swift': 1, 'upbeat': 1, 'juicing': 1, 'boothe': 1, 'rises': 1, 'n12': 1, 'sheep': 1, 'slaughter': 1, 'dangling': 1, 'lions': 1, 'irresistible': 1, 'unfair': 1, 'superstars': 1, 'sxswpopup': 1, 'hug': 1, 'sugar': 1, 'fitzgerald': 1, 'bodyaches': 1, 'remix': 1, 'ep': 1, 'tip10': 1, 'cnnsxsw': 1, 'xooms': 1, 'tabletwars': 1, 'sterling': 1, 'idiot': 1, 'smcomedyfyeah': 1, '81': 1, 'midway': 1, 'toured': 1, 'toocoolforsxswanyway': 1, 'sendai': 1, 'prayforjapan': 1, 'tiesto': 1, 'mycube': 1, 'preparations': 1, 'beach': 2, 'geekspringbreak': 1, 'antigov': 1, 'lobbying': 1, 'initiative': 1, 'invoking': 1, 'puregenius': 1, 'donthate': 1, 'kindda': 1, 'z': 1, 'immediate': 1, 'asap': 1, 'ehteam': 1, 'kneejockey': 1, 'lockers': 1, 'registrant': 1, 'juiced': 1, 'sonos': 2, 'cactus': 1, 'balcony': 1, 'shatter': 1, 'invented': 1, 'dispenses': 1, 'chili': 1, 'fries': 1, 'allcomfortfooddiet': 1, 'springing': 1, 'newandroid': 1, 'hight': 1, 'gogglers': 1, 'marketer': 1, 'foresight': 1, 'overstock': 1, 'ties': 1, 'nite': 1, 'delivering': 2, 'furniture': 1, 'permanently': 1, 'convience': 1, 'hahaha': 2, '86': 1, 'ships': 1, 'methinks': 1, 'capitol': 1, 'fulltime': 1, 'nudgenudge': 1, 'lengthy': 1, 'presumably': 1, 'jackie': 1, 'friggen': 1, 'tower': 1, 'temporarily': 1, 'actors': 1, 'diet': 1, 'struggles': 1, 'boil': 1, 'powerpad': 1, '1850': 1, 'contraption': 1, 'fortuitous': 1, 'ignitesxsw': 1, 'planzai': 1, 'tipped': 1, 'peddle': 1, 'savings': 1, 'bug': 1, 'whoops': 1, 'shoots': 1, 'personality': 2, 'ughhh': 1, 'regrets': 1, 'disrupts': 1, 'preferred': 1, 'groupchatapps': 1, 'orlando': 1, '100tc': 1, 'felt': 1, 'sxprotect': 1, 'pk': 1, 'rich': 1, 'poynter': 2, 'unlock': 1, 'renders': 1, 'landscapes': 1, 'drove': 1, 'distorted': 1, 'wcag': 1, 'applies': 1, 'reduces': 1, 'consumption': 1, 'understanding': 1, 'oops': 1, 'malfunction': 1, 'horizon': 1, 'etiquette': 1, 'clicking': 1, 'perserverance': 1, 'depeche': 1, 'carr': 1, 'transport': 1, 'sits': 1, 'prettycool': 1, 'chevysxsw': 1, 'ringing': 1, 'softlayer': 2, 'nerdiest': 1, 'pubs': 2, 'spiltbeer': 1, 'consequences': 1, 'flatulence': 1, 'wake': 2, 'epictweets': 1, 'unfortunate': 1, 'generally': 1, 'doubly': 1, 'handicapped': 1, 'radical': 2, 'milk': 1, 'koblin': 1, 'eeducation': 1, '47': 1, 'nutters': 1, 'ipading': 1, 'mecca': 1, 'seated': 1, 'bowl': 1, 'armadillo': 1, 'frabjous': 1, 'callooh': 1, 'callay': 1, 'baaah': 1, 'carroll': 1, 'downloadable': 1, 'distract': 1, 'sez': 1, 'frustrating': 1, 'zeldman': 1, 'jzsxsw': 1, 'baseball': 2, 'contradicting': 1, 'statements': 1, 'messina': 3, 'whoooooo': 1, 'opinion': 1, 'boolean': 1, 'realm': 1, 'premier': 1, 'described': 1, 'wellplayed': 1, 'lanyrd': 2, 'urbanmyth': 1, 'automatic': 1, 'dispenser': 1, 'basket': 1, 'v3': 1, 'stepped': 1, 'medium': 2, 'rel': 1, '360': 3, 'incognito': 1, 'discoverytalk': 1, 'temperature': 1, 'browsering': 1, 'takeing': 1, 'fiving': 1, 'sec': 1, 'enuf': 1, 'chumps': 1, 'glut': 1, 'nightjar': 1, 'brushstroke': 1, 'loveher': 1, 'xplat': 1, 'aight': 1, 'possibilities': 1, 'ther': 1, 'crowed': 1, 'nik': 1, 'daftary': 1, 'kaiju': 1, 'hero': 1, 'judge': 1, 'unlockable': 1, 'googleblog': 1, 'moore': 1, 'womenintech': 1, 'room6ab': 1, 'ctr': 1, 'backinbusiness': 1, 'imo': 4, 'brush': 1, 'brazos': 2, 'balckberries': 1, 'andriod': 1, 'durable': 1, 'therefore': 1, 'sonoma': 1, 'repressed': 1, 'memories': 2, 'spinning': 1, 'ball': 1, 'progressbar': 1, 'eastsidepies': 1, 'toyjoybuy': 1, 'respectfully': 1, 'ubiquitous': 2, 'project314': 1, 'skillfully': 1, 'cupertino': 1, '310409h2011': 1, 'intern': 1, 'emarketer': 1, 'snooping': 1, 'blushing': 1, 'cluttered': 1, 'migrating': 1, 'flex': 1, 'plain': 1, 'approaching': 2, 'soft': 3, 'flyers': 2, 'menu': 2, 'pentagram': 1, 'industrial': 1, 'meetchu': 1, 'lykwxhpyterh': 1, 'tt66h9tjn4ye': 1, 'rt6n79xp37ff': 1, 'typ63mmam7w3': 1, 'miami': 1, 'bracelet': 1, 'proven': 1, 'everyday': 2, 'wt': 1, 'anxiety': 1, 'fits': 1, 'harrymccracken': 1, 'enjoys': 3, 'brace': 1, 'onslaught': 1, 'featuredartists': 1, 'personalcloud': 1, 'specials': 1, 'flashspecial': 1, 'thunder': 1, 'denis': 1, 'material': 2, 'niceness': 1, 'september': 1, 'vietnamese': 2, 'bday': 1, 'pressie': 1, 'wkd': 1, 'indigenous': 1, 'statuses': 1, 'forests': 1, 'n22': 1, 'knocks': 1, 'frood': 1, '157': 1, 'ring': 1, 'donkey': 1, 'hpsxsw': 2, 'gigs': 1, 'jacinto': 1, 'bryan': 1, 'circusmash': 1, 'ecademy': 2, 'itme': 1, 'brats': 1, 'cheesesteaks': 1, 'squarespace': 1, 'stomach': 2, 'merged': 1, '30a': 1, 'manhandling': 1, 'unoffic': 1, 'nov': 1, 'requests': 1, 'governments': 1, 'globally': 2, 'tan': 1, 'pcmag': 1, 'china': 2, 'suicide': 1, 'rates': 1, 'rolls': 2, 'eve': 2, 'aclus': 1, 'cites': 1, 'desktops': 1, 'nevertheless': 1, 'hints': 1, 'yonkers': 1, 'elliott': 1, 'frazier': 1, 'experiments': 1, 'posterousevents': 1, 'ming': 1, '214': 1, 'bail': 1, 'notreally': 1, 'theophilus': 1, 'london': 1, 'mixing': 2, 'hurt': 1, 'bookmark': 1, 'onerous': 1, 'denied': 1, 'regardless': 1, 'keyword': 1, 'mobilesearch': 1, 'lorry': 1, 'riots': 1, 'ensue': 1, 'autumn': 1, 'obscure': 1, 'outsold': 1, 'darling': 1, 'loopt': 1, 'imitation': 1, 'flattery': 1, 'marks': 1, 'restroomi': 1, 'trustworhy': 1, 'implement': 1, 'eventually': 1, 'theem': 1, 'spazmatic': 1, 'hoooooooooooooo': 1, 'tracking': 1, 'xm': 1, 'popplet': 1, 'nicholas': 1, 'jackson': 1, 'atlantic': 1, 'commerce': 1, 'viral': 1, 'exceeds': 1, 'flooded': 1, 'segment': 1, '220': 1, 'ubergenius': 1, 'livestrong': 1, 'newyorkcity': 1, 'sanfrancisco': 1, 'egads': 1, 'ahold': 1, 'ballroomd': 1, 'ical': 2, 'goin': 2, 'zeus': 1, 'krug': 1, 'skrugsxsw': 1, 'vanessa': 1, 'saver': 1, 'cosby': 1, 'grt': 1, 'ihearnetwork': 1, 'yoroshiku': 1, 'onegai': 1, 'itashimasu': 1, 'jadi': 1, 'penasaran': 1, 'seta': 1, 'gutter': 1, 'whiteboard': 1, 'tunehopper': 1, 'harder': 1, 'distinguish': 1, 'sexier': 1, 'fullsteam': 1, 'gmail': 3, 'synching': 2, 'socialmuse': 1, 'appcircus': 1, 'perimeter': 1, 'knowyouraudience': 1, 'tweetie': 1, 'leopard': 1, 'pariah': 1, 'strict': 1, 'relax': 1, 'activate': 1, 'loves': 1, 'obsessed': 1, 'feckin': 1, 'recognizing': 1, 'corps': 1, 'syked': 1, 'gala': 1, 'topics': 2, 'soul': 1, 'rotational': 1, 'finish': 1, 'citizen_journalism': 1, 'wundertablet': 1, 'smallest': 1, 'violin': 1, 'complicated': 1, 'naive': 1, 'wishful': 1, 'semis': 1, 'filled': 2, 'metricsdrivendesign': 2, 'hometown': 1, 'jules': 1, 'verne': 1, 'identity': 2, 'scope': 1, 'i7': 1, 'demons': 1, 'onsite': 1, 'apart': 1, 'reassemble': 1, 'appreciated': 1, 'constantly': 1, 'smartypants': 1, 'disneyland': 1, 'happiest': 1, 'flu': 1, 'hardly': 1, 'poss': 1, 'discriminate': 1, 'contacted': 1, 'doingsocialmediawrong': 1, 'feet': 1, 'adloopz': 2, 'parcelgenie': 1, 'hears': 1, 'n32': 1, 'resetting': 1, 'mobile_apps': 1, 'echo_nest': 1, 'various': 2, 'i11': 1, 'klout': 1, 'slick': 1, 'conveniently': 1, 'rf': 1, 'dissapointment': 1, 'classic': 1, 'foosspotting': 1, 'guides': 1, 'hv': 1, 'ssxsw': 1, '1300': 2, 'lottery': 1, 'readability': 1, 'cast': 2, 'prove': 1, 'ser': 1, 'sapo': 1, 'crowdsource': 1, 'arab': 1, 'voices': 1, 'egyptians': 1, 'shifts': 1, 'translate': 3, 'elevator': 2, 'pitches': 1, 'ep5': 1, 'plush': 1, 'vestibule': 1, 'replenished': 1, 'jig': 1, 'jargon': 2, 'presos': 1, 'uncertainty': 1, 'strikes': 1, 'pose': 1, 'leader': 1, 'dosen': 1, 'heal': 1, 'orin': 1, 'hatch': 1, 'strategies': 1, 'telegraph': 1, 'semi': 1, 'justsayin': 3, 'folk': 2, 'upon': 3, 'illa': 1, 'notepad': 1, 'viztalk': 1, 'ultralite': 1, 'lecture': 1, 'stove': 1, 'reword_app': 1, 'reword': 1, 'lifters': 1, 'V': 1, 'madmen': 1, 'gd': 1, 'huuray': 1, 'jaysis': 1, 'lazers': 1, 'noh': 1, 'donlot': 1, 'nu': 2, 'sketchy': 2, 'extenders': 2, 'xcitng': 1, 'panorama': 1, 'ding': 1, 'dong': 1, 'tending': 1, 'discs': 1, 'nba': 1, 'courtside': 1, 'rabid': 1, 'laport': 1, 'taping': 1, 'ipadtoday': 1, 'itwillbemine': 1, 'patented': 2, 'certificate': 1, 'ipad2time': 1, 'curation': 1, 'aggregated': 1, 'audiences': 1, 'crickets': 1, 'actionable': 1, 'fleeces': 1, 'frustration': 2, 'glued': 2, 'headache': 1, 'resonance': 1, 'marisa': 2, 'mater': 1, 'idk': 1, 'newtrent': 1, 'imp1000': 1, 'unpaid': 1, 'drupalcon': 1, 'firstworldproblems': 2, 'excitement': 1, 'parra': 1, 'thunderbolts': 2, 'deshi80227': 2, 'digits': 1, '7322': 1, 'jg': 1, 'buat': 1, 'wurst': 1, 'contrary': 1, 'webpronews': 1, 'attys': 1, 'spitzer': 1, 'lately': 1, 'custome': 1, 'blackbook': 1, 'advent': 1, 'ebooks': 1, 'generations': 1, 'landmark': 1, 'n25': 1, 'plowed': 1, 'stampede': 1, 'wooing': 1, 'whattt': 1, 'combining': 1, 'stem': 1, 'hooking': 1, 'texttospeech': 1, 'cellbots': 2, 'reddit': 1, 'moonshine': 1, 'restock': 1, 'hr': 1, 'squeal': 1, 'virginity': 1, 'gawking': 1, 'futurecast': 1, 'mashhash': 1, 'champ': 1, 'arboretum': 1, 'imanidiot': 1, 'overtweeting': 1, 'multicolor': 1, 'entrapment': 1, 'recycled': 1, 'skateboards': 1, 'damm': 1, 'chilling': 2, 'mays': 2, 'lotta': 1, 'assistant': 1, 'captain': 1, 'penguin': 1, 'pengairborne': 2, 'stribpol': 1, 'wankery': 1, 'stakes': 1, 'takin': 2, 'galaxys4g': 1, 'samsunggalaxys': 1, 'noteshelf': 1, 'recently': 1, 'notesplus': 1, 'brushes': 1, 'acceptable': 2, 'warmth': 1, 'installs': 1, 'tattooed': 1, 'recyclematch': 1, 'bite': 1, 'warm': 1, 'fleets': 1, 'armed': 1, 'webiste': 1, 'starring': 1, 'eecms': 1, 'cafe': 1, '6thish': 1, 'nerdcore': 1, 'googlewebteam': 1, 'idol': 1, 'techs': 1, 'appointments': 1, 'rated': 2, 'llc': 1, 'chugging': 1, 'prepped': 1, 'ingenious': 1, 'worms': 1, 'worm': 1, 'ireports': 1, 'brilliance': 2, 'posterous_events': 1, 'forth': 1, 'carefully': 2, 'consumers': 1, 'bart': 1, 'jeanne': 1, 'omar': 1, 'thanx': 1, 'meetin': 1, 'iphonedev': 1, 'androiddev': 1, 'nicer': 1, 'uppward': 1, 'jerk': 1, 'idevice': 1, 'kool': 1, 'aid': 1, 'jamin': 1, 'awe': 1, 'jetsons': 1, 'crack': 1, 'z43': 1, 'bodies': 1, 'facist': 1, 'switches': 1, 'streetvview': 1, 'priestess': 1, 'organised': 1, 'merely': 1, 'rounds': 1, 'terrace': 1, 'reassured': 1, 'couches': 1, 'n26': 1, 'terror': 1, 'index': 1, 'tricked': 1, 'peeked': 1, 'flowing': 1, 'journalists': 1, 'smarmcake': 1, 'writeup': 1, 'ontologists': 1, 'ontologyshoutoutwut': 1, 'caniexpenseanipad': 1, 'scheduler': 1, 'maths': 1, 'flooding': 1, 'ear': 1, 'canals': 1, 'enthusiasts': 1, 'hipstapaks': 1, 'austinwins': 1, '2am': 1, 'mobilenews': 1, 'riding': 1, '210': 1, 'askd': 1, 'answr': 1, 'techstars': 1, 'scinfluence': 1, 'betainvites': 2, 'ea1zgd': 2, 'perception': 1, 'transparent': 1, 'freecreditscore': 1, 'identifying': 1, 'duckett': 1, 'instrumental': 1, 'commons': 1, 'breakthrough': 1, 'battles': 1, 'haiti': 1, 'executing': 1, 'dowtimebetweensessions': 1, 'iamagameshater': 1, 'jose': 1, 'plagued': 1, 'bernd': 1, 'florian': 1, 'guguchu': 1, 'patience': 1, 'douchebaggery': 1, 'memento': 1, '99C': 2, 'momento': 2, 'diary': 1, 'contests': 1, 'commuter': 1, 'kenny': 2, 'spanking': 2, 'mentions': 1, 'n00b': 1, 'sweepstakes': 1, 'warps': 1, 'va': 1, 'names': 1, 'chalked': 1, 'pavement': 1, 'applefanatic': 1, 'toolkit': 1, 'rei': 1, 'sxswtoolkit': 1, 'schooling': 1, 'execs': 1, 'craps': 1, 'rematch': 1, 'omaha': 1, 'anyways': 1, 'outa': 1, 'maps2': 1, 'logical': 1, 'progression': 1, 'printisnotdead': 1, 'digitalblasphemy': 1, 'gtfs': 1, 'transitapps': 1, 'regards': 1, 'uidesignguide': 1, 'intriguing': 1, 'distrub': 1, 'affair': 1, 'rents': 1, 'radius': 1, 'sweets': 1, 'economies': 1, 'continual': 1, 'pgi': 1, 'subject': 1, 'makinggamesbetter': 1, 'nooooooooooooooo': 1, 'maintenance': 1, 'inthat': 1, '82': 1, 'choose': 1, 'dvrs': 1, 'analog': 1, 'awhile': 1, 'lwr': 1, 'undr': 1, 'covr': 1, 'main': 1, 'factors': 1, 'authority': 1, 'socialnetworks': 1, 'mit': 1, 'konkurrent': 1, 'und': 1, 'capitalism': 1, 'slip': 1, 'promise': 1, 'twig': 1, 'podcasters': 1, 'visualisation': 1, 'greatly': 1, 'casualeducationgames': 1, 'proposal': 1, 'textbook': 1, 'propped': 1, 'gut': 1, 'inertia': 1, 'omega': 1, 'affiliated': 1, 'firefighter': 1, 'coder': 1, 'twitterstream': 1, 'empathy': 1, 'concern': 1, 'distribution': 1, 'ummm': 1, 'pirate': 1, 'cicles': 1, 'recipient': 1, 'ungrateful': 1, 'sheeple': 1, 'schema': 1, 'sxswlib11': 1, 'bij': 1, 'constuction': 1, 'kanye': 1, 'vevo': 1, 'stevemartocci': 1, 'stumbled': 1, 'sxswapis': 1, 'terrific': 1, 'mounts': 1, 'journal': 1, 'catfight': 1, 'synthetic': 1, 'tsk': 2, 'mentionn': 1, 'snazzy': 1, 'console': 1, 'extensive': 1, 'killerhack': 1, 'cellphones': 1, 'nationwide': 1, 'relay': 1, 'imparted': 1, 'recon': 1, 'phil': 1, 'cruisin': 1, 'looong': 1, 'notch': 1, 'stellar': 1, 'smooth': 1, 'showusyouricrazy': 1, 'beiber': 1, 'belly': 1, 'plucked': 1, 'rental': 1, 'payitforward': 1, 'eff': 1, 'reliving': 1, 'connecting': 1, 'in1102': 1, 'c5': 1, 'precautions': 1, 'completes': 1, 'letters': 1, 'globalmoxie': 1, 'usxsw': 1, 'indicates': 1, 'widgets': 1, 'prepaid': 1, 'tube': 1, 'heavens': 1, 'travelers': 1, 'passenger': 1, 'eventful': 1, 'high5': 1, 'stunned': 1, 'girlcrush': 1, 'overshadowing': 1, 'arrives': 1, 'guidance': 1, 'porting': 1, 'syncing': 1, '3k': 1, 'fares': 1, 'cabbie': 1, 'natives': 1, 'rescuing': 1, 'envisioning': 1, 'visited': 1, '73': 1, '66': 1, '31': 1, 'wikimedia': 1, 'diversity': 1, 'auntie': 1, 'voxpop': 1, 'bizness': 1, 'subscribe': 1, 'unlv': 1, 'harbor': 1, '45am': 1, 'alt': 1, 'universe': 1, 'fastest': 1, 'reach': 1, 'mxm': 1, 'unplugged': 1, 'bursting': 1, 'seams': 1, 'firm': 1, 'goer': 1, 'halls': 1, 'cursing': 1, 'zzzs': 1, 'sitby': 1, 'imanaussie': 1, 'slew': 1, 'burners': 1, 'geez': 1, 'twtng': 1, 'locatn': 2, 'contxt': 1, 'cntxt': 2, 'allthingsd': 1, 'teeny': 1, 'winamp': 1, 'quarters': 1, '30min': 1, 'stalk': 1, 'rocksauce': 1, 'shang': 1, 'accomplish': 1, 'mayorships': 1, 'proliferation': 1, 'reunion': 1, '360idev': 1, 'filmakers': 1, 'attendence': 1, 'interest': 1, 'tinfoil': 1, 'tight': 3, 'endeavor': 1, 'minimize': 1, 'wasnt': 1, 'djroe': 1, 'optimal': 1, 'wanw': 1, 'lookin': 1, 'apartment': 1, 'alpha': 1, 'testers': 1, 'devastation': 1, 'artifacts': 1, 'recollections': 1, 'foam': 1, 'arwords': 1, 'arsense': 1, 'darknet': 1, 'perma': 1, 'ws': 1, 'the_daily': 1, 'z6': 1, 'socialnews': 1, 'breathe': 1, 'melodies': 1, 'bass': 1, 'sway': 1, 'compelling': 1, 'festivalexplorer': 1, 'solves': 1, 'musica': 1, 'musiek': 1, 'musique': 1, 'musik': 1, 'Yin': 2, 'Le': 2, 'eumag': 1, 'nowhere': 1, 'visto': 1, 'primo': 1, 'ora': 1, 'captured': 1, 'scripts': 1, 'unexpectedly': 1, 'corp': 1, 'asset': 1, 'taptu': 2, 'disgrace': 1, 'entrepreneurial': 1, 'pdx': 1, 'epicenter': 1, 'settle': 1, 'argument': 1, 'parentheses': 1, 'wordnerd': 1, 'solid': 2, 'cornered': 1, 'tenets': 1, 'gg': 1, 'impedimenta': 1, 'thrown': 1, 'fairy': 1, 'ssig': 1, 'motley': 1, 'fool': 1, 'prepares': 1, 'appeared': 1, 'photosharing': 1, 'ck': 1, 'culture': 1, 'geekest': 1, 'hidden': 1, 'irony': 1, 'sorted': 1, 'frugality': 1, 'appealing': 1, 'adapt': 1, 'aps': 1, 'injury': 1, 'concrete': 1, 'fortunately': 1, 'virtually': 1, 'francisco': 1, 'sfo': 1, 'smoked': 1, 'wakenbake': 1, 'legacy': 1, 'groan': 1, 'breeds': 1, 'midst': 1, 'normalpeople': 1, 'mayhem': 1, 'tmrw': 1, 'reaction': 1, 'doyoureallyneedthat': 1, 'padless': 1, 'bmm': 1, 'sxswmymistake': 1, 'soooo': 1, 'disproportionately': 1, 'stocking': 1, 'influencer': 1, 'drunkwalrus': 1, 'gourdoughs': 1, 'hooting': 1, 'cords': 1, 'princess': 1, 'papyrus': 1, 'lavelle': 1, 'playstation': 1, 'stabilizer': 1, 'mcgraw': 1, 'physician': 1, 'fda': 1, 'operating': 1, 'complained': 1, 'yorkers': 1, 'Di': 1, 'Zhen': 1, 'Zhong': 1, 'dagakotsuchimobitsukuri': 1}\n"
          ]
        }
      ],
      "source": [
        "frecuencias={}\n",
        "for palabra in tweets_clean:\n",
        "    if palabra in frecuencias:\n",
        "        frecuencias[palabra]+=1\n",
        "    else:\n",
        "        frecuencias[palabra]=1\n",
        "print(frecuencias) "
      ]
    },
    {
      "cell_type": "code",
      "execution_count": null,
      "metadata": {
        "id": "kB6WC4cS0ybs"
      },
      "outputs": [],
      "source": [
        "sorted_x = sorted(frecuencias.items(), key=lambda y: y[1],reverse=True)\n",
        "#sorted_x[:10]"
      ]
    },
    {
      "cell_type": "code",
      "execution_count": null,
      "metadata": {
        "id": "fks8yfAozt2p"
      },
      "outputs": [],
      "source": [
        "sorted_x = sorted(frecuencias.keys(), key=lambda y: frecuencias[y],reverse=True)\n",
        "top=sorted_x[:1000] #top de las 1000 palabras"
      ]
    },
    {
      "attachments": {},
      "cell_type": "markdown",
      "metadata": {
        "id": "w8EEsjYP3HQz"
      },
      "source": [
        "Bolsa de palabras con el top de las 1000 palabras, solo para poder observarlas."
      ]
    },
    {
      "cell_type": "code",
      "execution_count": null,
      "metadata": {
        "colab": {
          "base_uri": "https://localhost:8080/"
        },
        "id": "OjytA_s4g2y2",
        "outputId": "6b67d45a-03d0-4b91-e79c-5c0efee3dbc4"
      },
      "outputs": [
        {
          "name": "stdout",
          "output_type": "stream",
          "text": [
            "Number of rows in the total set: 9092\n",
            "Number of rows in the training set: 6819\n",
            "Number of rows in the test set: 2273\n"
          ]
        }
      ],
      "source": [
        "# Dividir los datos en conjunto de entrenamiento y de test\n",
        "from sklearn.model_selection import train_test_split\n",
        "X_train, X_test, y_train, y_test = train_test_split(df_clean['Tweet_text'], df_clean['Emotion'], random_state=1)\n",
        "print('Number of rows in the total set: {}'.format(df_clean.shape[0]))\n",
        "print('Number of rows in the training set: {}'.format(X_train.shape[0]))\n",
        "print('Number of rows in the test set: {}'.format(X_test.shape[0]))"
      ]
    },
    {
      "cell_type": "code",
      "execution_count": null,
      "metadata": {
        "colab": {
          "base_uri": "https://localhost:8080/"
        },
        "id": "rqxIdGcyplbK",
        "outputId": "a4ea4efb-9418-4045-8ea1-2427bb6a7677"
      },
      "outputs": [
        {
          "data": {
            "text/plain": [
              "255     Backupify Announces CloudSight Search, the Fir...\n",
              "3925    Q&amp;A With Google &amp; Bing On Website Rank...\n",
              "1523    @mention “@mention Does the pop up Apple store...\n",
              "8025    Someone asks Leo about an iPad 2 at #SXSW, he ...\n",
              "6513    RT @mention RT @mention Arriving in the US for...\n",
              "                              ...                        \n",
              "7836    Apple does a popup store just for #sxsw {link}...\n",
              "8259    my biggest mistake since South By Southwest la...\n",
              "2572    That sounds...fantastic. RT @mention At the Go...\n",
              "5869    RT @mention Google to Launch Major New Social ...\n",
              "5645    RT @mention Cool. Apple sets up 5,000 sq. ft. ...\n",
              "Name: Tweet_text, Length: 2273, dtype: object"
            ]
          },
          "execution_count": 19,
          "metadata": {},
          "output_type": "execute_result"
        }
      ],
      "source": [
        "X_test"
      ]
    },
    {
      "cell_type": "code",
      "execution_count": null,
      "metadata": {
        "id": "xU6e821HhhyM"
      },
      "outputs": [],
      "source": [
        "# Bolsa de palabras TF que obtiene las primeras 1000 que aparezcan en 3 tweets\n",
        "cv = CountVectorizer(min_df=3, max_features=1000)\n",
        "\n",
        "datos_train = cv.fit_transform(X_train)\n",
        "\n",
        "datos_test = cv.transform(X_test)\n",
        "\n",
        "# Bolsa de palabras TF-iDF que obtiene las primeras 1000 que aparezcan en 3 tweets\n",
        "tfidf = TfidfVectorizer(min_df=3, max_features=1000)\n",
        "\n",
        "datos_train_idf = tfidf.fit_transform(X_train)\n",
        "\n",
        "datos_test_idf = tfidf.transform(X_test)"
      ]
    },
    {
      "attachments": {},
      "cell_type": "markdown",
      "metadata": {
        "id": "qjLuUIZz2329"
      },
      "source": [
        "\n",
        "## Naive Bayes Bernoulli\n",
        "\n",
        "**Datos TF**"
      ]
    },
    {
      "cell_type": "code",
      "execution_count": null,
      "metadata": {
        "id": "Yjn3pGCq3ERB"
      },
      "outputs": [],
      "source": [
        "from sklearn.naive_bayes import BernoulliNB\n",
        "bernoulli = BernoulliNB()\n",
        "bernoulli.fit(datos_train, y_train)\n",
        "\n",
        "# hacemos la prediccion de los datos de entrenamiento  \n",
        "train_pred = bernoulli.predict(datos_train)\n",
        "\n",
        "# hacemos la orediccion de los datos de prueba \n",
        "test_pred = bernoulli.predict(datos_test)"
      ]
    },
    {
      "attachments": {},
      "cell_type": "markdown",
      "metadata": {
        "id": "8GIxxX2p5IuQ"
      },
      "source": [
        "Una vez se obtinen las predicciones del modelo para la clasificacion de los datos tanto de prueba como de entrenamiento, se procede a evaluar la clasificacion del modelo."
      ]
    },
    {
      "cell_type": "code",
      "execution_count": null,
      "metadata": {
        "colab": {
          "base_uri": "https://localhost:8080/"
        },
        "id": "ivvdeG6M5AbQ",
        "outputId": "f8d305cc-a914-4d17-f994-2ecb5f06a120"
      },
      "outputs": [
        {
          "name": "stdout",
          "output_type": "stream",
          "text": [
            "Accuracy score:  0.6102067751869775\n",
            "Precision score:  0.3678047588005215\n",
            "Recall score:  0.39129799827782097\n",
            "F1 score:  0.3767004731244388\n"
          ]
        }
      ],
      "source": [
        "# Metricas para los datos de test\n",
        "from sklearn.metrics import accuracy_score, precision_score, recall_score, f1_score, classification_report\n",
        "print('Accuracy score: ', format(accuracy_score(y_test, test_pred)))\n",
        "print('Precision score: ', format(precision_score(y_test, test_pred,average='macro')))\n",
        "print('Recall score: ', format(recall_score(y_test, test_pred,average='macro')))\n",
        "print('F1 score: ', format(f1_score(y_test, test_pred,average='macro')))\n",
        "BTF_ACC_TEST =  accuracy_score(y_test, test_pred)\n",
        "BTF_PS_TEST = precision_score(y_test, test_pred,average='macro')\n",
        "BTF_RS_TEST = recall_score(y_test, test_pred,average='macro')\n",
        "BTF_F1_TEST = f1_score(y_test, test_pred,average='macro')"
      ]
    },
    {
      "cell_type": "code",
      "execution_count": null,
      "metadata": {
        "colab": {
          "base_uri": "https://localhost:8080/"
        },
        "id": "bU-HihiKN0O5",
        "outputId": "ef294ac7-bb6d-4755-e3ac-59a9a26416c9"
      },
      "outputs": [
        {
          "name": "stdout",
          "output_type": "stream",
          "text": [
            "Accuracy score:  0.6760522070684851\n",
            "Precision score:  0.5711130616097693\n",
            "Recall score:  0.4990229869201187\n",
            "F1 score:  0.4897028086225538\n"
          ]
        }
      ],
      "source": [
        "# Metricas para los datos de train\n",
        "print('Accuracy score: ', format(accuracy_score(y_train, train_pred)))\n",
        "print('Precision score: ', format(precision_score(y_train, train_pred,average='macro')))\n",
        "print('Recall score: ', format(recall_score(y_train, train_pred,average='macro')))\n",
        "print('F1 score: ', format(f1_score(y_train, train_pred,average='macro')))\n",
        "BTF_ACC_TRAIN =  accuracy_score(y_train, train_pred)\n",
        "BTF_PS_TRAIN = precision_score(y_train, train_pred,average='macro')\n",
        "BTF_RS_TRAIN = recall_score(y_train, train_pred,average='macro')\n",
        "BTF_F1_TRAIN = f1_score(y_train, train_pred,average='macro')"
      ]
    },
    {
      "cell_type": "code",
      "execution_count": null,
      "metadata": {
        "colab": {
          "base_uri": "https://localhost:8080/",
          "height": 265
        },
        "id": "tTAqcNAg7GQd",
        "outputId": "e5e6f8d0-f850-4959-e420-33cdce6c12c4"
      },
      "outputs": [
        {
          "data": {
            "image/png": "[encoded data removed]",
            "text/plain": [
              "<Figure size 432x288 with 2 Axes>"
            ]
          },
          "metadata": {
            "needs_background": "light"
          },
          "output_type": "display_data"
        }
      ],
      "source": [
        "# generamos la matriz de confusion\n",
        "MC2 = metrics.confusion_matrix(y_test, test_pred)\n",
        "p = sns.heatmap(pd.DataFrame(MC2), \n",
        "                annot=True, \n",
        "                cmap=\"YlGnBu\",\n",
        "                fmt = \"g\")"
      ]
    },
    {
      "cell_type": "code",
      "execution_count": null,
      "metadata": {
        "colab": {
          "base_uri": "https://localhost:8080/"
        },
        "id": "8JNMZJo77eik",
        "outputId": "9fc3aa1c-dcb1-422d-db08-2553ea2661f3"
      },
      "outputs": [
        {
          "name": "stdout",
          "output_type": "stream",
          "text": [
            "                                    precision    recall  f1-score   support\n",
            "\n",
            "                      I can't tell       0.00      0.00      0.00        45\n",
            "                  Negative emotion       0.21      0.33      0.26       132\n",
            "No emotion toward brand or product       0.71      0.70      0.71      1322\n",
            "                  Positive emotion       0.54      0.54      0.54       774\n",
            "\n",
            "                          accuracy                           0.61      2273\n",
            "                         macro avg       0.37      0.39      0.38      2273\n",
            "                      weighted avg       0.61      0.61      0.61      2273\n",
            "\n"
          ]
        }
      ],
      "source": [
        "print(classification_report(y_test,test_pred))"
      ]
    },
    {
      "attachments": {},
      "cell_type": "markdown",
      "metadata": {
        "id": "pKidBG9N-B9I"
      },
      "source": [
        "**Datos TF-iDF**"
      ]
    },
    {
      "cell_type": "code",
      "execution_count": null,
      "metadata": {
        "id": "uRJJQTMx7flM"
      },
      "outputs": [],
      "source": [
        "bernoulli_2 = BernoulliNB()\n",
        "bernoulli_2.fit(datos_train_idf, y_train)\n",
        "\n",
        "# hacemos la prediccion de los datos iDF de entrenamiento  \n",
        "train_pred_idf = bernoulli_2.predict(datos_train_idf)\n",
        "\n",
        "# hacemos la orediccion de los datos iDF de prueba \n",
        "test_pred_idf = bernoulli_2.predict(datos_test_idf)"
      ]
    },
    {
      "attachments": {},
      "cell_type": "markdown",
      "metadata": {
        "id": "8IEeQDEmDAB3"
      },
      "source": [
        "Procedemos a hacer la evaluacion del modelo con los datos de TF-iDF"
      ]
    },
    {
      "cell_type": "code",
      "execution_count": null,
      "metadata": {
        "colab": {
          "base_uri": "https://localhost:8080/"
        },
        "id": "xULauIKpC5qR",
        "outputId": "11ca5039-89bd-4f03-95e8-0924583a6a30"
      },
      "outputs": [
        {
          "name": "stdout",
          "output_type": "stream",
          "text": [
            "Accuracy score:  0.6102067751869775\n",
            "Precision score:  0.3678047588005215\n",
            "Recall score:  0.39129799827782097\n",
            "F1 score:  0.3767004731244388\n"
          ]
        }
      ],
      "source": [
        "# Metricas para los datos de prueba de TF-iDF\n",
        "print('Accuracy score: ', format(accuracy_score(y_test, test_pred_idf)))\n",
        "print('Precision score: ', format(precision_score(y_test, test_pred_idf, average='macro')))\n",
        "print('Recall score: ', format(recall_score(y_test, test_pred_idf, average='macro')))\n",
        "print('F1 score: ', format(f1_score(y_test, test_pred_idf, average='macro')))\n",
        "\n",
        "BTFI_ACC_TEST =  accuracy_score(y_test, test_pred_idf)\n",
        "BTFI_PS_TEST = precision_score(y_test, test_pred_idf, average='macro')\n",
        "BTFI_RS_TEST = recall_score(y_test, test_pred_idf, average='macro')\n",
        "BTFI_F1_TEST = f1_score(y_test, test_pred_idf, average='macro')"
      ]
    },
    {
      "cell_type": "code",
      "execution_count": null,
      "metadata": {
        "colab": {
          "base_uri": "https://localhost:8080/"
        },
        "id": "BzmZMj7rPLXh",
        "outputId": "58aed4a8-7bcc-4e83-d000-c8fa3eed10c4"
      },
      "outputs": [
        {
          "name": "stdout",
          "output_type": "stream",
          "text": [
            "Accuracy score:  0.6760522070684851\n",
            "Precision score:  0.5711130616097693\n",
            "Recall score:  0.4990229869201187\n",
            "F1 score:  0.4897028086225538\n"
          ]
        }
      ],
      "source": [
        "# Metricas para los datos de entrenamiento de TF-iDF\n",
        "print('Accuracy score: ', format(accuracy_score(y_train, train_pred_idf)))\n",
        "print('Precision score: ', format(precision_score(y_train, train_pred_idf,average='macro')))\n",
        "print('Recall score: ', format(recall_score(y_train, train_pred_idf,average='macro')))\n",
        "print('F1 score: ', format(f1_score(y_train, train_pred_idf,average='macro')))\n",
        "\n",
        "BTFI_ACC_TRAIN =  accuracy_score(y_train, train_pred_idf)\n",
        "BTFI_PS_TRAIN = precision_score(y_train, train_pred_idf, average='macro')\n",
        "BTFI_RS_TRAIN = recall_score(y_train, train_pred_idf, average='macro')\n",
        "BTFI_F1_TRAIN = f1_score(y_train, train_pred_idf, average='macro')"
      ]
    },
    {
      "cell_type": "code",
      "execution_count": null,
      "metadata": {
        "colab": {
          "base_uri": "https://localhost:8080/",
          "height": 265
        },
        "id": "I5DJ0jmwC5xX",
        "outputId": "b64841db-21b8-4ec4-a7c4-8c1f64a6cd83"
      },
      "outputs": [
        {
          "data": {
            "image/png": "[encoded data removed]",
            "text/plain": [
              "<Figure size 432x288 with 2 Axes>"
            ]
          },
          "metadata": {
            "needs_background": "light"
          },
          "output_type": "display_data"
        }
      ],
      "source": [
        "# generamos la matriz de confusion para TF-iDF\n",
        "MC2 = metrics.confusion_matrix(y_test, test_pred_idf)\n",
        "p = sns.heatmap(pd.DataFrame(MC2), \n",
        "                annot=True, \n",
        "                cmap=\"YlGnBu\",\n",
        "                fmt = \"g\")"
      ]
    },
    {
      "cell_type": "code",
      "execution_count": null,
      "metadata": {
        "colab": {
          "base_uri": "https://localhost:8080/"
        },
        "id": "iKfO7TtQC53c",
        "outputId": "b9582ca8-98bd-4578-baa8-3019952b1a53"
      },
      "outputs": [
        {
          "name": "stdout",
          "output_type": "stream",
          "text": [
            "                                    precision    recall  f1-score   support\n",
            "\n",
            "                      I can't tell       0.00      0.00      0.00        45\n",
            "                  Negative emotion       0.21      0.33      0.26       132\n",
            "No emotion toward brand or product       0.71      0.70      0.71      1322\n",
            "                  Positive emotion       0.54      0.54      0.54       774\n",
            "\n",
            "                          accuracy                           0.61      2273\n",
            "                         macro avg       0.37      0.39      0.38      2273\n",
            "                      weighted avg       0.61      0.61      0.61      2273\n",
            "\n"
          ]
        }
      ],
      "source": [
        "print(classification_report(y_test,test_pred_idf))"
      ]
    },
    {
      "attachments": {},
      "cell_type": "markdown",
      "metadata": {
        "id": "JnZg1g_EspBu"
      },
      "source": [
        "### Naive Bayes Multinomial\n",
        "\n",
        "**Datos TF**"
      ]
    },
    {
      "cell_type": "code",
      "execution_count": null,
      "metadata": {
        "colab": {
          "base_uri": "https://localhost:8080/",
          "height": 75
        },
        "id": "Rw2anvLwKs3O",
        "outputId": "35e2c7ac-ba15-4afc-e029-647a822efe95"
      },
      "outputs": [
        {
          "data": {
            "text/html": [
              "<style>#sk-container-id-1 {color: black;background-color: white;}#sk-container-id-1 pre{padding: 0;}#sk-container-id-1 div.sk-toggleable {background-color: white;}#sk-container-id-1 label.sk-toggleable__label {cursor: pointer;display: block;width: 100%;margin-bottom: 0;padding: 0.3em;box-sizing: border-box;text-align: center;}#sk-container-id-1 label.sk-toggleable__label-arrow:before {content: \"▸\";float: left;margin-right: 0.25em;color: #696969;}#sk-container-id-1 label.sk-toggleable__label-arrow:hover:before {color: black;}#sk-container-id-1 div.sk-estimator:hover label.sk-toggleable__label-arrow:before {color: black;}#sk-container-id-1 div.sk-toggleable__content {max-height: 0;max-width: 0;overflow: hidden;text-align: left;background-color: #f0f8ff;}#sk-container-id-1 div.sk-toggleable__content pre {margin: 0.2em;color: black;border-radius: 0.25em;background-color: #f0f8ff;}#sk-container-id-1 input.sk-toggleable__control:checked~div.sk-toggleable__content {max-height: 200px;max-width: 100%;overflow: auto;}#sk-container-id-1 input.sk-toggleable__control:checked~label.sk-toggleable__label-arrow:before {content: \"▾\";}#sk-container-id-1 div.sk-estimator input.sk-toggleable__control:checked~label.sk-toggleable__label {background-color: #d4ebff;}#sk-container-id-1 div.sk-label input.sk-toggleable__control:checked~label.sk-toggleable__label {background-color: #d4ebff;}#sk-container-id-1 input.sk-hidden--visually {border: 0;clip: rect(1px 1px 1px 1px);clip: rect(1px, 1px, 1px, 1px);height: 1px;margin: -1px;overflow: hidden;padding: 0;position: absolute;width: 1px;}#sk-container-id-1 div.sk-estimator {font-family: monospace;background-color: #f0f8ff;border: 1px dotted black;border-radius: 0.25em;box-sizing: border-box;margin-bottom: 0.5em;}#sk-container-id-1 div.sk-estimator:hover {background-color: #d4ebff;}#sk-container-id-1 div.sk-parallel-item::after {content: \"\";width: 100%;border-bottom: 1px solid gray;flex-grow: 1;}#sk-container-id-1 div.sk-label:hover label.sk-toggleable__label {background-color: #d4ebff;}#sk-container-id-1 div.sk-serial::before {content: \"\";position: absolute;border-left: 1px solid gray;box-sizing: border-box;top: 0;bottom: 0;left: 50%;z-index: 0;}#sk-container-id-1 div.sk-serial {display: flex;flex-direction: column;align-items: center;background-color: white;padding-right: 0.2em;padding-left: 0.2em;position: relative;}#sk-container-id-1 div.sk-item {position: relative;z-index: 1;}#sk-container-id-1 div.sk-parallel {display: flex;align-items: stretch;justify-content: center;background-color: white;position: relative;}#sk-container-id-1 div.sk-item::before, #sk-container-id-1 div.sk-parallel-item::before {content: \"\";position: absolute;border-left: 1px solid gray;box-sizing: border-box;top: 0;bottom: 0;left: 50%;z-index: -1;}#sk-container-id-1 div.sk-parallel-item {display: flex;flex-direction: column;z-index: 1;position: relative;background-color: white;}#sk-container-id-1 div.sk-parallel-item:first-child::after {align-self: flex-end;width: 50%;}#sk-container-id-1 div.sk-parallel-item:last-child::after {align-self: flex-start;width: 50%;}#sk-container-id-1 div.sk-parallel-item:only-child::after {width: 0;}#sk-container-id-1 div.sk-dashed-wrapped {border: 1px dashed gray;margin: 0 0.4em 0.5em 0.4em;box-sizing: border-box;padding-bottom: 0.4em;background-color: white;}#sk-container-id-1 div.sk-label label {font-family: monospace;font-weight: bold;display: inline-block;line-height: 1.2em;}#sk-container-id-1 div.sk-label-container {text-align: center;}#sk-container-id-1 div.sk-container {/* jupyter's `normalize.less` sets `[hidden] { display: none; }` but bootstrap.min.css set `[hidden] { display: none !important; }` so we also need the `!important` here to be able to override the default hidden behavior on the sphinx rendered scikit-learn.org. See: https://github.com/scikit-learn/scikit-learn/issues/21755 */display: inline-block !important;position: relative;}#sk-container-id-1 div.sk-text-repr-fallback {display: none;}</style><div id=\"sk-container-id-1\" class=\"sk-top-container\"><div class=\"sk-text-repr-fallback\"><pre>MultinomialNB()</pre><b>In a Jupyter environment, please rerun this cell to show the HTML representation or trust the notebook. <br />On GitHub, the HTML representation is unable to render, please try loading this page with nbviewer.org.</b></div><div class=\"sk-container\" hidden><div class=\"sk-item\"><div class=\"sk-estimator sk-toggleable\"><input class=\"sk-toggleable__control sk-hidden--visually\" id=\"sk-estimator-id-1\" type=\"checkbox\" checked><label for=\"sk-estimator-id-1\" class=\"sk-toggleable__label sk-toggleable__label-arrow\">MultinomialNB</label><div class=\"sk-toggleable__content\"><pre>MultinomialNB()</pre></div></div></div></div></div>"
            ],
            "text/plain": [
              "MultinomialNB()"
            ]
          },
          "execution_count": 31,
          "metadata": {},
          "output_type": "execute_result"
        }
      ],
      "source": [
        "from sklearn.naive_bayes import MultinomialNB\n",
        "naive_bayes = MultinomialNB()\n",
        "naive_bayes.fit(datos_train, y_train)\n"
      ]
    },
    {
      "cell_type": "code",
      "execution_count": null,
      "metadata": {
        "id": "1oNBC8CUrane"
      },
      "outputs": [],
      "source": [
        "# hacemos la prediccion de los datos de entrenamiento  \n",
        "train_pred = naive_bayes.predict(datos_train)\n",
        "\n",
        "# hacemos la orediccion de los datos de prueba \n",
        "test_pred = naive_bayes.predict(datos_test)"
      ]
    },
    {
      "cell_type": "code",
      "execution_count": null,
      "metadata": {
        "colab": {
          "base_uri": "https://localhost:8080/"
        },
        "id": "1SC2Qs9Du_CH",
        "outputId": "1da6e484-4656-4223-9ec1-22fbd6a646ee"
      },
      "outputs": [
        {
          "name": "stdout",
          "output_type": "stream",
          "text": [
            "Accuracy score:  0.6106467223933129\n",
            "Precision score:  0.36929374042688623\n",
            "Recall score:  0.39489676965268916\n",
            "F1 score:  0.37858441641853224\n"
          ]
        }
      ],
      "source": [
        "# Metricas para los datos de test\n",
        "from sklearn.metrics import accuracy_score, precision_score, recall_score, f1_score, classification_report\n",
        "print('Accuracy score: ', format(accuracy_score(y_test, test_pred)))\n",
        "print('Precision score: ', format(precision_score(y_test, test_pred,average='macro')))\n",
        "print('Recall score: ', format(recall_score(y_test, test_pred,average='macro')))\n",
        "print('F1 score: ', format(f1_score(y_test, test_pred,average='macro')))\n",
        "NBMTF_ACC_TEST =  accuracy_score(y_test, test_pred)\n",
        "NBMTF_PS_TEST = precision_score(y_test, test_pred,average='macro')\n",
        "NBMTF_RS_TEST = recall_score(y_test, test_pred,average='macro')\n",
        "NBMTF_F1_TEST = f1_score(y_test, test_pred,average='macro')"
      ]
    },
    {
      "cell_type": "code",
      "execution_count": null,
      "metadata": {
        "colab": {
          "base_uri": "https://localhost:8080/"
        },
        "id": "ZlVO-aZMvEQD",
        "outputId": "0789b2ab-54da-49a5-9eb8-d923d6d74e09"
      },
      "outputs": [
        {
          "name": "stdout",
          "output_type": "stream",
          "text": [
            "Accuracy score:  0.6773720486874908\n",
            "Precision score:  0.5572815440693684\n",
            "Recall score:  0.5222179395253294\n",
            "F1 score:  0.5146031564324146\n"
          ]
        }
      ],
      "source": [
        "# Metricas para los datos de train\n",
        "print('Accuracy score: ', format(accuracy_score(y_train, train_pred)))\n",
        "print('Precision score: ', format(precision_score(y_train, train_pred,average='macro')))\n",
        "print('Recall score: ', format(recall_score(y_train, train_pred,average='macro')))\n",
        "print('F1 score: ', format(f1_score(y_train, train_pred,average='macro')))\n",
        "NBMTF_ACC_TRAIN =  accuracy_score(y_train, train_pred)\n",
        "NBMTF_PS_TRAIN = precision_score(y_train, train_pred,average='macro')\n",
        "NBMTF_RS_TRAIN = recall_score(y_train, train_pred,average='macro')\n",
        "NBMTF_F1_TRAIN = f1_score(y_train, train_pred,average='macro')"
      ]
    },
    {
      "attachments": {},
      "cell_type": "markdown",
      "metadata": {
        "id": "j5b5UfKJvgDN"
      },
      "source": [
        "**Matriz de Confusión** "
      ]
    },
    {
      "cell_type": "code",
      "execution_count": null,
      "metadata": {
        "colab": {
          "base_uri": "https://localhost:8080/",
          "height": 265
        },
        "id": "NatEMQoUvESN",
        "outputId": "39e8d1a1-1792-4a37-c31b-38e9b03c73a7"
      },
      "outputs": [
        {
          "data": {
            "image/png": "[encoded data removed]",
            "text/plain": [
              "<Figure size 432x288 with 2 Axes>"
            ]
          },
          "metadata": {
            "needs_background": "light"
          },
          "output_type": "display_data"
        }
      ],
      "source": [
        "# generamos la matriz de confusion\n",
        "MC2 = metrics.confusion_matrix(y_test, test_pred)\n",
        "p = sns.heatmap(pd.DataFrame(MC2), \n",
        "                annot=True, \n",
        "                cmap=\"YlGnBu\",\n",
        "                fmt = \"g\")"
      ]
    },
    {
      "cell_type": "code",
      "execution_count": null,
      "metadata": {
        "colab": {
          "base_uri": "https://localhost:8080/"
        },
        "id": "nnz-BVX8vdXO",
        "outputId": "314a7457-7181-4dd9-a1eb-7cb88aae3bf6"
      },
      "outputs": [
        {
          "name": "stdout",
          "output_type": "stream",
          "text": [
            "                                    precision    recall  f1-score   support\n",
            "\n",
            "                      I can't tell       0.00      0.00      0.00        45\n",
            "                  Negative emotion       0.22      0.34      0.26       132\n",
            "No emotion toward brand or product       0.72      0.70      0.71      1322\n",
            "                  Positive emotion       0.54      0.54      0.54       774\n",
            "\n",
            "                          accuracy                           0.61      2273\n",
            "                         macro avg       0.37      0.39      0.38      2273\n",
            "                      weighted avg       0.62      0.61      0.61      2273\n",
            "\n"
          ]
        }
      ],
      "source": [
        "print(classification_report(y_test,test_pred))"
      ]
    },
    {
      "attachments": {},
      "cell_type": "markdown",
      "metadata": {
        "id": "O5IsF4a2xLfS"
      },
      "source": [
        "**Datos TF-iDF**"
      ]
    },
    {
      "cell_type": "code",
      "execution_count": null,
      "metadata": {
        "id": "vGZsl7JGxV2_"
      },
      "outputs": [],
      "source": [
        "naive_bayes_2 = MultinomialNB()\n",
        "naive_bayes_2.fit(datos_train_idf, y_train)\n",
        "\n",
        "# hacemos la prediccion de los datos iDF de entrenamiento  \n",
        "train_pred_idf = naive_bayes_2.predict(datos_train_idf)\n",
        "\n",
        "# hacemos la orediccion de los datos iDF de prueba \n",
        "test_pred_idf = naive_bayes_2.predict(datos_test_idf)"
      ]
    },
    {
      "cell_type": "code",
      "execution_count": null,
      "metadata": {
        "colab": {
          "base_uri": "https://localhost:8080/"
        },
        "id": "azr0SaXexV89",
        "outputId": "f2402156-9e9c-4937-bdf3-9e0ab1f20b8f"
      },
      "outputs": [
        {
          "name": "stdout",
          "output_type": "stream",
          "text": [
            "Accuracy score:  0.6418829740431148\n",
            "Precision score:  0.44303427301438764\n",
            "Recall score:  0.3141287803269297\n",
            "F1 score:  0.305133101673724\n"
          ]
        }
      ],
      "source": [
        "# Metricas para los datos de prueba de TF-iDF\n",
        "print('Accuracy score: ', format(accuracy_score(y_test, test_pred_idf)))\n",
        "print('Precision score: ', format(precision_score(y_test, test_pred_idf, average='macro')))\n",
        "print('Recall score: ', format(recall_score(y_test, test_pred_idf, average='macro')))\n",
        "print('F1 score: ', format(f1_score(y_test, test_pred_idf, average='macro')))\n",
        "\n",
        "NBMTFI_ACC_TEST =  accuracy_score(y_test, test_pred_idf)\n",
        "NBMTFI_PS_TEST = precision_score(y_test, test_pred_idf, average='macro')\n",
        "NBMTFI_RS_TEST = recall_score(y_test, test_pred_idf, average='macro')\n",
        "NBMTFI_F1_TEST = f1_score(y_test, test_pred_idf, average='macro')"
      ]
    },
    {
      "cell_type": "code",
      "execution_count": null,
      "metadata": {
        "colab": {
          "base_uri": "https://localhost:8080/"
        },
        "id": "6eIvZd_CxV_m",
        "outputId": "6bb36e1c-8b99-469d-9786-6d2b22b7fba8"
      },
      "outputs": [
        {
          "name": "stdout",
          "output_type": "stream",
          "text": [
            "Accuracy score:  0.696583076697463\n",
            "Precision score:  0.553791447630914\n",
            "Recall score:  0.3529105561649567\n",
            "F1 score:  0.3589048613698047\n"
          ]
        }
      ],
      "source": [
        "# Metricas para los datos de entrenamiento de TF-iDF\n",
        "print('Accuracy score: ', format(accuracy_score(y_train, train_pred_idf)))\n",
        "print('Precision score: ', format(precision_score(y_train, train_pred_idf,average='macro')))\n",
        "print('Recall score: ', format(recall_score(y_train, train_pred_idf,average='macro')))\n",
        "print('F1 score: ', format(f1_score(y_train, train_pred_idf,average='macro')))\n",
        "\n",
        "NBMTFI_ACC_TRAIN =  accuracy_score(y_train, train_pred_idf)\n",
        "NBMTFI_PS_TRAIN = precision_score(y_train, train_pred_idf, average='macro')\n",
        "NBMTFI_RS_TRAIN = recall_score(y_train, train_pred_idf, average='macro')\n",
        "NBMTFI_F1_TRAIN = f1_score(y_train, train_pred_idf, average='macro')"
      ]
    },
    {
      "cell_type": "code",
      "execution_count": null,
      "metadata": {
        "colab": {
          "base_uri": "https://localhost:8080/",
          "height": 265
        },
        "id": "7eE9DRGWxu-_",
        "outputId": "3e28ad12-a2f4-4b61-9a7a-175699a33435"
      },
      "outputs": [
        {
          "data": {
            "image/png": "[encoded data removed]",
            "text/plain": [
              "<Figure size 432x288 with 2 Axes>"
            ]
          },
          "metadata": {
            "needs_background": "light"
          },
          "output_type": "display_data"
        }
      ],
      "source": [
        "# generamos la matriz de confusion para TF-iDF\n",
        "MC2 = metrics.confusion_matrix(y_test, test_pred_idf)\n",
        "p = sns.heatmap(pd.DataFrame(MC2), \n",
        "                annot=True, \n",
        "                cmap=\"YlGnBu\",\n",
        "                fmt = \"g\")"
      ]
    },
    {
      "cell_type": "code",
      "execution_count": null,
      "metadata": {
        "colab": {
          "base_uri": "https://localhost:8080/"
        },
        "id": "3CtB36f2xxpf",
        "outputId": "9f06ae52-5a88-4143-9fc3-b790d80084b8"
      },
      "outputs": [
        {
          "name": "stdout",
          "output_type": "stream",
          "text": [
            "                                    precision    recall  f1-score   support\n",
            "\n",
            "                      I can't tell       0.00      0.00      0.00        45\n",
            "                  Negative emotion       0.50      0.02      0.03       132\n",
            "No emotion toward brand or product       0.65      0.91      0.75      1322\n",
            "                  Positive emotion       0.63      0.34      0.44       774\n",
            "\n",
            "                          accuracy                           0.64      2273\n",
            "                         macro avg       0.44      0.31      0.31      2273\n",
            "                      weighted avg       0.62      0.64      0.59      2273\n",
            "\n"
          ]
        }
      ],
      "source": [
        "print(classification_report(y_test,test_pred_idf))"
      ]
    },
    {
      "attachments": {},
      "cell_type": "markdown",
      "metadata": {
        "id": "hEluwQB0wZFK"
      },
      "source": [
        "## Regresion Logistica\n",
        "\n",
        "**Datos TF**"
      ]
    },
    {
      "cell_type": "code",
      "execution_count": null,
      "metadata": {
        "id": "CmMRj5hpETue"
      },
      "outputs": [],
      "source": [
        "from sklearn.linear_model import LogisticRegression\n",
        "\n",
        "logistica = LogisticRegression()\n",
        "logistica.fit(datos_train, y_train)\n",
        "\n",
        "# hacemos la prediccion de los datos de entrenamiento  \n",
        "train_pred = logistica.predict(datos_train)\n",
        "\n",
        "# hacemos la orediccion de los datos de prueba \n",
        "test_pred = logistica.predict(datos_test)"
      ]
    },
    {
      "attachments": {},
      "cell_type": "markdown",
      "metadata": {
        "id": "Hy9He9gmKUxv"
      },
      "source": [
        "Procedemos a evaluar el modelo\n",
        "\n",
        "\n"
      ]
    },
    {
      "cell_type": "code",
      "execution_count": null,
      "metadata": {
        "colab": {
          "base_uri": "https://localhost:8080/"
        },
        "id": "aTuQE7h3KK0Y",
        "outputId": "7e664be0-bb3f-4ac1-b141-6a3b1cf1bb78"
      },
      "outputs": [
        {
          "name": "stdout",
          "output_type": "stream",
          "text": [
            "Accuracy score:  0.6462824461064672\n",
            "Precision score:  0.4699435983860019\n",
            "Recall score:  0.3733527265051031\n",
            "F1 score:  0.3829359163884115\n"
          ]
        }
      ],
      "source": [
        "# Metricas para evaluar el modelo con los datos de prueba \n",
        "print('Accuracy score: ', format(accuracy_score(y_test, test_pred)))\n",
        "print('Precision score: ', format(precision_score(y_test, test_pred,average='macro')))\n",
        "print('Recall score: ', format(recall_score(y_test, test_pred,average='macro')))\n",
        "print('F1 score: ', format(f1_score(y_test, test_pred,average='macro')))\n",
        "\n",
        "LTF_ACC_TEST = accuracy_score(y_test, test_pred)\n",
        "LTF_PS_TEST = precision_score(y_test, test_pred,average='macro')\n",
        "LTF_RS_TEST = recall_score(y_test, test_pred,average='macro')\n",
        "LTF_F1_TEST = f1_score(y_test, test_pred,average='macro')"
      ]
    },
    {
      "cell_type": "code",
      "execution_count": null,
      "metadata": {
        "colab": {
          "base_uri": "https://localhost:8080/"
        },
        "id": "6ZzkrkKKRRTD",
        "outputId": "b0ba43de-9148-4fe5-dbdf-cf83d13aa1ce"
      },
      "outputs": [
        {
          "name": "stdout",
          "output_type": "stream",
          "text": [
            "Accuracy score:  0.7614019650975217\n",
            "Precision score:  0.8052847699234591\n",
            "Recall score:  0.5211979089481755\n",
            "F1 score:  0.568687160268506\n"
          ]
        }
      ],
      "source": [
        "# Metricas para evaluar el modelo con los datos de prueba \n",
        "print('Accuracy score: ', format(accuracy_score(y_train, train_pred)))\n",
        "print('Precision score: ', format(precision_score(y_train, train_pred, average='macro')))\n",
        "print('Recall score: ', format(recall_score(y_train, train_pred, average='macro')))\n",
        "print('F1 score: ', format(f1_score(y_train, train_pred, average='macro')))\n",
        "\n",
        "LTF_ACC_TRAIN = accuracy_score(y_train, train_pred)\n",
        "LTF_PS_TRAIN = precision_score(y_train, train_pred,average='macro')\n",
        "LTF_RS_TRAIN = recall_score(y_train, train_pred,average='macro')\n",
        "LTF_F1_TRAIN = f1_score(y_train, train_pred,average='macro')"
      ]
    },
    {
      "cell_type": "code",
      "execution_count": null,
      "metadata": {
        "colab": {
          "base_uri": "https://localhost:8080/",
          "height": 265
        },
        "id": "TyAlwbVPKkSj",
        "outputId": "dbb6c818-96e3-4f8b-e524-173b62d84e83"
      },
      "outputs": [
        {
          "data": {
            "image/png": "[encoded data removed]",
            "text/plain": [
              "<Figure size 432x288 with 2 Axes>"
            ]
          },
          "metadata": {
            "needs_background": "light"
          },
          "output_type": "display_data"
        }
      ],
      "source": [
        "# generamos la matriz de confusion\n",
        "MC2 = metrics.confusion_matrix(y_test, test_pred)\n",
        "p = sns.heatmap(pd.DataFrame(MC2), \n",
        "                annot=True, \n",
        "                cmap=\"YlGnBu\",\n",
        "                fmt = \"g\")"
      ]
    },
    {
      "cell_type": "code",
      "execution_count": null,
      "metadata": {
        "colab": {
          "base_uri": "https://localhost:8080/"
        },
        "id": "nYRNS-fKKkeo",
        "outputId": "068a1037-f670-4a66-abcb-ad1e10483125"
      },
      "outputs": [
        {
          "name": "stdout",
          "output_type": "stream",
          "text": [
            "                                    precision    recall  f1-score   support\n",
            "\n",
            "                      I can't tell       0.33      0.02      0.04        45\n",
            "                  Negative emotion       0.27      0.18      0.22       132\n",
            "No emotion toward brand or product       0.69      0.81      0.75      1322\n",
            "                  Positive emotion       0.59      0.48      0.53       774\n",
            "\n",
            "                          accuracy                           0.65      2273\n",
            "                         macro avg       0.47      0.37      0.38      2273\n",
            "                      weighted avg       0.62      0.65      0.63      2273\n",
            "\n"
          ]
        }
      ],
      "source": [
        "print(classification_report(y_test,test_pred))"
      ]
    },
    {
      "attachments": {},
      "cell_type": "markdown",
      "metadata": {
        "id": "URJL-3K9K4uw"
      },
      "source": [
        "**Datos TF-iDF**"
      ]
    },
    {
      "cell_type": "code",
      "execution_count": null,
      "metadata": {
        "id": "SzLUggNnKkhc"
      },
      "outputs": [],
      "source": [
        "logistica_2 = LogisticRegression()\n",
        "logistica_2.fit(datos_train_idf, y_train)\n",
        "\n",
        "# hacemos la prediccion de los datos iDF de entrenamiento  \n",
        "train_pred_idf = logistica_2.predict(datos_train_idf)\n",
        "\n",
        "# hacemos la orediccion de los datos iDF de prueba \n",
        "test_pred_idf = logistica_2.predict(datos_test_idf)"
      ]
    },
    {
      "attachments": {},
      "cell_type": "markdown",
      "metadata": {
        "id": "7qLb108RLPYa"
      },
      "source": [
        "Evaluamos el modelo para TF-iDF"
      ]
    },
    {
      "cell_type": "code",
      "execution_count": null,
      "metadata": {
        "colab": {
          "base_uri": "https://localhost:8080/"
        },
        "id": "5vPC9jUMLHjF",
        "outputId": "a40fd614-d221-44d9-c07d-a16ddb1da238"
      },
      "outputs": [
        {
          "name": "stdout",
          "output_type": "stream",
          "text": [
            "Accuracy score:  0.6559612846458425\n",
            "Precision score:  0.3993471386739048\n",
            "Recall score:  0.3472078736917072\n",
            "F1 score:  0.35075388389760076\n"
          ]
        }
      ],
      "source": [
        "# Metricas para evaluar el modelo con los datos de prueba de TF-iDF\n",
        "print('Accuracy score: ', format(accuracy_score(y_test, test_pred_idf)))\n",
        "print('Precision score: ', format(precision_score(y_test, test_pred_idf, average='macro')))\n",
        "print('Recall score: ', format(recall_score(y_test, test_pred_idf, average='macro')))\n",
        "print('F1 score: ', format(f1_score(y_test, test_pred_idf, average='macro')))\n",
        "\n",
        "LTFI_ACC_TEST = accuracy_score(y_test, test_pred_idf)\n",
        "LTFI_PS_TEST = precision_score(y_test, test_pred_idf, average='macro')\n",
        "LTFI_RS_TEST = recall_score(y_test, test_pred_idf, average='macro')\n",
        "LTFI_F1_TEST = f1_score(y_test, test_pred_idf, average='macro')"
      ]
    },
    {
      "cell_type": "code",
      "execution_count": null,
      "metadata": {
        "colab": {
          "base_uri": "https://localhost:8080/"
        },
        "id": "8v_xG-EgSPQn",
        "outputId": "20397761-090e-4d79-a9fa-b179505fa91c"
      },
      "outputs": [
        {
          "name": "stdout",
          "output_type": "stream",
          "text": [
            "Accuracy score:  0.7332453438920663\n",
            "Precision score:  0.5721489131513297\n",
            "Recall score:  0.4191938500104906\n",
            "F1 score:  0.4466465892107335\n"
          ]
        }
      ],
      "source": [
        "# Metricas para evaluar el modelo con los datos de entrenamiento de TF-iDF\n",
        "print('Accuracy score: ', format(accuracy_score(y_train, train_pred_idf)))\n",
        "print('Precision score: ', format(precision_score(y_train, train_pred_idf, average='macro')))\n",
        "print('Recall score: ', format(recall_score(y_train, train_pred_idf, average='macro')))\n",
        "print('F1 score: ', format(f1_score(y_train, train_pred_idf, average='macro')))\n",
        "\n",
        "LTFI_ACC_TRAIN = accuracy_score(y_train, train_pred_idf)\n",
        "LTFI_PS_TRAIN = precision_score(y_train, train_pred_idf, average='macro')\n",
        "LTFI_RS_TRAIN = recall_score(y_train, train_pred_idf, average='macro')\n",
        "LTFI_F1_TRAIN = f1_score(y_train, train_pred_idf, average='macro')"
      ]
    },
    {
      "cell_type": "code",
      "execution_count": null,
      "metadata": {
        "colab": {
          "base_uri": "https://localhost:8080/",
          "height": 265
        },
        "id": "LMFaWkEsLUGZ",
        "outputId": "d36e8464-a1d6-482f-a8ca-d8a61d638fa3"
      },
      "outputs": [
        {
          "data": {
            "image/png": "[encoded data removed]",
            "text/plain": [
              "<Figure size 432x288 with 2 Axes>"
            ]
          },
          "metadata": {
            "needs_background": "light"
          },
          "output_type": "display_data"
        }
      ],
      "source": [
        "# generamos la matriz de confusion para TF-iDF\n",
        "MC2 = metrics.confusion_matrix(y_test, test_pred_idf)\n",
        "p = sns.heatmap(pd.DataFrame(MC2), \n",
        "                annot=True, \n",
        "                cmap=\"YlGnBu\",\n",
        "                fmt = \"g\")"
      ]
    },
    {
      "cell_type": "code",
      "execution_count": null,
      "metadata": {
        "colab": {
          "base_uri": "https://localhost:8080/"
        },
        "id": "1u2Zl0XbLayp",
        "outputId": "664528cb-5708-46f0-fd7d-a973515a2119"
      },
      "outputs": [
        {
          "name": "stdout",
          "output_type": "stream",
          "text": [
            "                                    precision    recall  f1-score   support\n",
            "\n",
            "                      I can't tell       0.00      0.00      0.00        45\n",
            "                  Negative emotion       0.31      0.08      0.12       132\n",
            "No emotion toward brand or product       0.68      0.85      0.76      1322\n",
            "                  Positive emotion       0.60      0.47      0.53       774\n",
            "\n",
            "                          accuracy                           0.66      2273\n",
            "                         macro avg       0.40      0.35      0.35      2273\n",
            "                      weighted avg       0.62      0.66      0.63      2273\n",
            "\n"
          ]
        }
      ],
      "source": [
        "print(classification_report(y_test,test_pred_idf))"
      ]
    },
    {
      "attachments": {},
      "cell_type": "markdown",
      "metadata": {
        "id": "Xe-C5nZX0ntE"
      },
      "source": [
        "## Metodo a elección\n",
        "\n",
        "**Ridge**"
      ]
    },
    {
      "cell_type": "code",
      "execution_count": null,
      "metadata": {
        "id": "2H15NYqg1qn7"
      },
      "outputs": [],
      "source": [
        "from sklearn.linear_model import RidgeClassifier\n",
        "\n",
        "ridge = RidgeClassifier()\n",
        "ridge.fit(datos_train, y_train)\n",
        "\n",
        "# hacemos la prediccion de los datos de entrenamiento  \n",
        "train_pred = ridge.predict(datos_train)\n",
        "\n",
        "# hacemos la orediccion de los datos de prueba \n",
        "test_pred = ridge.predict(datos_test)"
      ]
    },
    {
      "attachments": {},
      "cell_type": "markdown",
      "metadata": {
        "id": "URRDOUg020EW"
      },
      "source": [
        "Procedemos a evaluar el modelo"
      ]
    },
    {
      "cell_type": "code",
      "execution_count": null,
      "metadata": {
        "colab": {
          "base_uri": "https://localhost:8080/"
        },
        "id": "Eq9UuKlL17kn",
        "outputId": "f5aa0f1b-126c-4d0e-a761-20398854be81"
      },
      "outputs": [
        {
          "name": "stdout",
          "output_type": "stream",
          "text": [
            "Accuracy score:  0.6493620765508139\n",
            "Precision score:  0.4018451272501552\n",
            "Recall score:  0.35590341635401973\n",
            "F1 score:  0.36335343256584307\n"
          ]
        }
      ],
      "source": [
        "# Metricas para evaluar el modelo con los datos de prueba \n",
        "print('Accuracy score: ', format(accuracy_score(y_test, test_pred)))\n",
        "print('Precision score: ', format(precision_score(y_test, test_pred,average='macro')))\n",
        "print('Recall score: ', format(recall_score(y_test, test_pred,average='macro')))\n",
        "print('F1 score: ', format(f1_score(y_test, test_pred,average='macro')))\n",
        "\n",
        "RTF_ACC_TEST = accuracy_score(y_test, test_pred)\n",
        "RTF_PS_TEST = precision_score(y_test, test_pred,average='macro')\n",
        "RTF_RS_TEST = recall_score(y_test, test_pred,average='macro')\n",
        "RTF_F1_TEST = f1_score(y_test, test_pred,average='macro')"
      ]
    },
    {
      "cell_type": "code",
      "execution_count": null,
      "metadata": {
        "colab": {
          "base_uri": "https://localhost:8080/"
        },
        "id": "Mkb65F2G28vr",
        "outputId": "831264f3-febe-4bc9-fa41-d76ca49952a6"
      },
      "outputs": [
        {
          "name": "stdout",
          "output_type": "stream",
          "text": [
            "Accuracy score:  0.7468837072884588\n",
            "Precision score:  0.8195792446377521\n",
            "Recall score:  0.4539031471806194\n",
            "F1 score:  0.48801121105933315\n"
          ]
        }
      ],
      "source": [
        "# Metricas para evaluar el modelo con los datos de prueba \n",
        "print('Accuracy score: ', format(accuracy_score(y_train, train_pred)))\n",
        "print('Precision score: ', format(precision_score(y_train, train_pred, average='macro')))\n",
        "print('Recall score: ', format(recall_score(y_train, train_pred, average='macro')))\n",
        "print('F1 score: ', format(f1_score(y_train, train_pred, average='macro')))\n",
        "\n",
        "RTF_ACC_TRAIN = accuracy_score(y_train, train_pred)\n",
        "RTF_PS_TRAIN = precision_score(y_train, train_pred,average='macro')\n",
        "RTF_RS_TRAIN = recall_score(y_train, train_pred,average='macro')\n",
        "RTF_F1_TRAIN = f1_score(y_train, train_pred,average='macro')"
      ]
    },
    {
      "cell_type": "code",
      "execution_count": null,
      "metadata": {
        "colab": {
          "base_uri": "https://localhost:8080/",
          "height": 265
        },
        "id": "q5ChEHfX3Cv5",
        "outputId": "84260c6f-16e7-4e48-b5c4-3a7f8da6756e"
      },
      "outputs": [
        {
          "data": {
            "image/png": "[encoded data removed]",
            "text/plain": [
              "<Figure size 432x288 with 2 Axes>"
            ]
          },
          "metadata": {
            "needs_background": "light"
          },
          "output_type": "display_data"
        }
      ],
      "source": [
        "# generamos la matriz de confusion\n",
        "MC2 = metrics.confusion_matrix(y_test, test_pred)\n",
        "p = sns.heatmap(pd.DataFrame(MC2), \n",
        "                annot=True, \n",
        "                cmap=\"YlGnBu\",\n",
        "                fmt = \"g\")"
      ]
    },
    {
      "attachments": {},
      "cell_type": "markdown",
      "metadata": {
        "id": "LztrldXA3VCn"
      },
      "source": [
        "**Datos TF-iDF**"
      ]
    },
    {
      "cell_type": "code",
      "execution_count": null,
      "metadata": {
        "id": "ozgtfj2w3KZX"
      },
      "outputs": [],
      "source": [
        "Ridge_2 = RidgeClassifier()\n",
        "Ridge_2.fit(datos_train_idf, y_train)\n",
        "\n",
        "\n",
        "# hacemos la prediccion de los datos iDF de entrenamiento  \n",
        "train_pred_idf = Ridge_2.predict(datos_train_idf)\n",
        "\n",
        "# hacemos la orediccion de los datos iDF de prueba \n",
        "test_pred_idf = Ridge_2.predict(datos_test_idf)"
      ]
    },
    {
      "attachments": {},
      "cell_type": "markdown",
      "metadata": {
        "id": "oYO6mqyM3sgj"
      },
      "source": [
        "Procedemos a evaluar el modelo"
      ]
    },
    {
      "cell_type": "code",
      "execution_count": null,
      "metadata": {
        "colab": {
          "base_uri": "https://localhost:8080/"
        },
        "id": "YRRD9VKX3qT2",
        "outputId": "746e1749-ac95-4715-ed7b-a0486079ea80"
      },
      "outputs": [
        {
          "name": "stdout",
          "output_type": "stream",
          "text": [
            "Accuracy score:  0.6625604927408711\n",
            "Precision score:  0.4149152814861653\n",
            "Recall score:  0.355596388896885\n",
            "F1 score:  0.36120206573749913\n"
          ]
        }
      ],
      "source": [
        "# Metricas para evaluar el modelo con los datos de prueba de TF-iDF\n",
        "print('Accuracy score: ', format(accuracy_score(y_test, test_pred_idf)))\n",
        "print('Precision score: ', format(precision_score(y_test, test_pred_idf, average='macro')))\n",
        "print('Recall score: ', format(recall_score(y_test, test_pred_idf, average='macro')))\n",
        "print('F1 score: ', format(f1_score(y_test, test_pred_idf, average='macro')))\n",
        "\n",
        "RTFI_ACC_TEST = accuracy_score(y_test, test_pred_idf)\n",
        "RTFI_PS_TEST = precision_score(y_test, test_pred_idf, average='macro')\n",
        "RTFI_RS_TEST = recall_score(y_test, test_pred_idf, average='macro')\n",
        "RTFI_F1_TEST = f1_score(y_test, test_pred_idf, average='macro')\n"
      ]
    },
    {
      "cell_type": "code",
      "execution_count": null,
      "metadata": {
        "colab": {
          "base_uri": "https://localhost:8080/"
        },
        "id": "-bKHy13337xu",
        "outputId": "08ee860f-f6a1-4dfe-e268-85858f5b9602"
      },
      "outputs": [
        {
          "name": "stdout",
          "output_type": "stream",
          "text": [
            "Accuracy score:  0.7436574277753336\n",
            "Precision score:  0.5708546390015838\n",
            "Recall score:  0.4365286677086767\n",
            "F1 score:  0.465166773165419\n"
          ]
        }
      ],
      "source": [
        "# Metricas para evaluar el modelo con los datos de entrenamiento de TF-iDF\n",
        "print('Accuracy score: ', format(accuracy_score(y_train, train_pred_idf)))\n",
        "print('Precision score: ', format(precision_score(y_train, train_pred_idf, average='macro')))\n",
        "print('Recall score: ', format(recall_score(y_train, train_pred_idf, average='macro')))\n",
        "print('F1 score: ', format(f1_score(y_train, train_pred_idf, average='macro')))\n",
        "\n",
        "RTFI_ACC_TRAIN = accuracy_score(y_train, train_pred_idf)\n",
        "RTFI_PS_TRAIN = precision_score(y_train, train_pred_idf, average='macro')\n",
        "RTFI_RS_TRAIN = recall_score(y_train, train_pred_idf, average='macro')\n",
        "RTFI_F1_TRAIN = f1_score(y_train, train_pred_idf, average='macro')"
      ]
    },
    {
      "cell_type": "code",
      "execution_count": null,
      "metadata": {
        "colab": {
          "base_uri": "https://localhost:8080/",
          "height": 265
        },
        "id": "TXLOHWH24Awf",
        "outputId": "2179e04e-5941-465f-be3d-5a98249e3e08"
      },
      "outputs": [
        {
          "data": {
            "image/png": "[encoded data removed]",
            "text/plain": [
              "<Figure size 432x288 with 2 Axes>"
            ]
          },
          "metadata": {
            "needs_background": "light"
          },
          "output_type": "display_data"
        }
      ],
      "source": [
        "# generamos la matriz de confusion para TF-iDF\n",
        "MC2 = metrics.confusion_matrix(y_test, test_pred_idf)\n",
        "p = sns.heatmap(pd.DataFrame(MC2), \n",
        "                annot=True, \n",
        "                cmap=\"YlGnBu\",\n",
        "                fmt = \"g\")"
      ]
    },
    {
      "cell_type": "code",
      "execution_count": null,
      "metadata": {
        "colab": {
          "base_uri": "https://localhost:8080/"
        },
        "id": "Sit_cIxo4JFr",
        "outputId": "867e2ee1-1f6e-44d7-ef43-b43c04cb0323"
      },
      "outputs": [
        {
          "name": "stdout",
          "output_type": "stream",
          "text": [
            "                                    precision    recall  f1-score   support\n",
            "\n",
            "                      I can't tell       0.00      0.00      0.00        45\n",
            "                  Negative emotion       0.36      0.09      0.15       132\n",
            "No emotion toward brand or product       0.69      0.85      0.76      1322\n",
            "                  Positive emotion       0.61      0.49      0.54       774\n",
            "\n",
            "                          accuracy                           0.66      2273\n",
            "                         macro avg       0.41      0.36      0.36      2273\n",
            "                      weighted avg       0.63      0.66      0.63      2273\n",
            "\n"
          ]
        }
      ],
      "source": [
        "print(classification_report(y_test,test_pred_idf))"
      ]
    },
    {
      "attachments": {},
      "cell_type": "markdown",
      "metadata": {
        "id": "Cmh81sTHMXbE"
      },
      "source": [
        "## 6. Hacer una tabla de resumen de comparación de los modelos. Una con TF y otra con TF-iDF. La tabla debe contener en filas los métodos aplicados y en columnas las métricas así:\n",
        "\n",
        "accuracy_train | accuracy_test | precision_train | precisio_test| .... . Igual con recall y f1_test"
      ]
    },
    {
      "attachments": {},
      "cell_type": "markdown",
      "metadata": {
        "id": "JG36ggygUmGd"
      },
      "source": [
        "Elaboramos la tabla con la imformacion de los resultados para los datos de TF"
      ]
    },
    {
      "cell_type": "code",
      "execution_count": null,
      "metadata": {
        "colab": {
          "base_uri": "https://localhost:8080/",
          "height": 175
        },
        "id": "hvkgBz3hLfuC",
        "outputId": "b46c1851-3794-4425-a86f-f42d103d6569"
      },
      "outputs": [
        {
          "data": {
            "text/html": [
              "\n",
              "  <div id=\"df-6451bbd6-65ed-468d-b9b0-b78d398a1e1d\">\n",
              "    <div class=\"colab-df-container\">\n",
              "      <div>\n",
              "<style scoped>\n",
              "    .dataframe tbody tr th:only-of-type {\n",
              "        vertical-align: middle;\n",
              "    }\n",
              "\n",
              "    .dataframe tbody tr th {\n",
              "        vertical-align: top;\n",
              "    }\n",
              "\n",
              "    .dataframe thead th {\n",
              "        text-align: right;\n",
              "    }\n",
              "</style>\n",
              "<table border=\"1\" class=\"dataframe\">\n",
              "  <thead>\n",
              "    <tr style=\"text-align: right;\">\n",
              "      <th></th>\n",
              "      <th>accuracy_train</th>\n",
              "      <th>accuracy_test</th>\n",
              "      <th>precision_train</th>\n",
              "      <th>precision_test</th>\n",
              "      <th>recall_train</th>\n",
              "      <th>recall_test</th>\n",
              "      <th>f1_train</th>\n",
              "      <th>f1_test</th>\n",
              "    </tr>\n",
              "  </thead>\n",
              "  <tbody>\n",
              "    <tr>\n",
              "      <th>Naive Bayes Bernoulli</th>\n",
              "      <td>0.676052</td>\n",
              "      <td>0.610207</td>\n",
              "      <td>0.571113</td>\n",
              "      <td>0.367805</td>\n",
              "      <td>0.499023</td>\n",
              "      <td>0.391298</td>\n",
              "      <td>0.489703</td>\n",
              "      <td>0.3767</td>\n",
              "    </tr>\n",
              "    <tr>\n",
              "      <th>Naive Bayes Multinomial</th>\n",
              "      <td>0.677372</td>\n",
              "      <td>0.610647</td>\n",
              "      <td>0.557282</td>\n",
              "      <td>0.369294</td>\n",
              "      <td>0.522218</td>\n",
              "      <td>0.394897</td>\n",
              "      <td>0.514603</td>\n",
              "      <td>0.378584</td>\n",
              "    </tr>\n",
              "    <tr>\n",
              "      <th>Regresion Logistica</th>\n",
              "      <td>0.761402</td>\n",
              "      <td>0.646282</td>\n",
              "      <td>0.805285</td>\n",
              "      <td>0.469944</td>\n",
              "      <td>0.521198</td>\n",
              "      <td>0.373353</td>\n",
              "      <td>0.568687</td>\n",
              "      <td>0.382936</td>\n",
              "    </tr>\n",
              "    <tr>\n",
              "      <th>Ridge</th>\n",
              "      <td>0.746884</td>\n",
              "      <td>0.649362</td>\n",
              "      <td>0.819579</td>\n",
              "      <td>0.401845</td>\n",
              "      <td>0.453903</td>\n",
              "      <td>0.355903</td>\n",
              "      <td>0.488011</td>\n",
              "      <td>0.363353</td>\n",
              "    </tr>\n",
              "  </tbody>\n",
              "</table>\n",
              "</div>\n",
              "      <button class=\"colab-df-convert\" onclick=\"convertToInteractive('df-6451bbd6-65ed-468d-b9b0-b78d398a1e1d')\"\n",
              "              title=\"Convert this dataframe to an interactive table.\"\n",
              "              style=\"display:none;\">\n",
              "        \n",
              "  <svg xmlns=\"http://www.w3.org/2000/svg\" height=\"24px\"viewBox=\"0 0 24 24\"\n",
              "       width=\"24px\">\n",
              "    <path d=\"M0 0h24v24H0V0z\" fill=\"none\"/>\n",
              "    <path d=\"M18.56 5.44l.94 2.06.94-2.06 2.06-.94-2.06-.94-.94-2.06-.94 2.06-2.06.94zm-11 1L8.5 8.5l.94-2.06 2.06-.94-2.06-.94L8.5 2.5l-.94 2.06-2.06.94zm10 10l.94 2.06.94-2.06 2.06-.94-2.06-.94-.94-2.06-.94 2.06-2.06.94z\"/><path d=\"M17.41 7.96l-1.37-1.37c-.4-.4-.92-.59-1.43-.59-.52 0-1.04.2-1.43.59L10.3 9.45l-7.72 7.72c-.78.78-.78 2.05 0 2.83L4 21.41c.39.39.9.59 1.41.59.51 0 1.02-.2 1.41-.59l7.78-7.78 2.81-2.81c.8-.78.8-2.07 0-2.86zM5.41 20L4 18.59l7.72-7.72 1.47 1.35L5.41 20z\"/>\n",
              "  </svg>\n",
              "      </button>\n",
              "      \n",
              "  <style>\n",
              "    .colab-df-container {\n",
              "      display:flex;\n",
              "      flex-wrap:wrap;\n",
              "      gap: 12px;\n",
              "    }\n",
              "\n",
              "    .colab-df-convert {\n",
              "      background-color: #E8F0FE;\n",
              "      border: none;\n",
              "      border-radius: 50%;\n",
              "      cursor: pointer;\n",
              "      display: none;\n",
              "      fill: #1967D2;\n",
              "      height: 32px;\n",
              "      padding: 0 0 0 0;\n",
              "      width: 32px;\n",
              "    }\n",
              "\n",
              "    .colab-df-convert:hover {\n",
              "      background-color: #E2EBFA;\n",
              "      box-shadow: 0px 1px 2px rgba(60, 64, 67, 0.3), 0px 1px 3px 1px rgba(60, 64, 67, 0.15);\n",
              "      fill: #174EA6;\n",
              "    }\n",
              "\n",
              "    [theme=dark] .colab-df-convert {\n",
              "      background-color: #3B4455;\n",
              "      fill: #D2E3FC;\n",
              "    }\n",
              "\n",
              "    [theme=dark] .colab-df-convert:hover {\n",
              "      background-color: #434B5C;\n",
              "      box-shadow: 0px 1px 3px 1px rgba(0, 0, 0, 0.15);\n",
              "      filter: drop-shadow(0px 1px 2px rgba(0, 0, 0, 0.3));\n",
              "      fill: #FFFFFF;\n",
              "    }\n",
              "  </style>\n",
              "\n",
              "      <script>\n",
              "        const buttonEl =\n",
              "          document.querySelector('#df-6451bbd6-65ed-468d-b9b0-b78d398a1e1d button.colab-df-convert');\n",
              "        buttonEl.style.display =\n",
              "          google.colab.kernel.accessAllowed ? 'block' : 'none';\n",
              "\n",
              "        async function convertToInteractive(key) {\n",
              "          const element = document.querySelector('#df-6451bbd6-65ed-468d-b9b0-b78d398a1e1d');\n",
              "          const dataTable =\n",
              "            await google.colab.kernel.invokeFunction('convertToInteractive',\n",
              "                                                     [key], {});\n",
              "          if (!dataTable) return;\n",
              "\n",
              "          const docLinkHtml = 'Like what you see? Visit the ' +\n",
              "            '<a target=\"_blank\" href=https://colab.research.google.com/notebooks/data_table.ipynb>data table notebook</a>'\n",
              "            + ' to learn more about interactive tables.';\n",
              "          element.innerHTML = '';\n",
              "          dataTable['output_type'] = 'display_data';\n",
              "          await google.colab.output.renderOutput(dataTable, element);\n",
              "          const docLink = document.createElement('div');\n",
              "          docLink.innerHTML = docLinkHtml;\n",
              "          element.appendChild(docLink);\n",
              "        }\n",
              "      </script>\n",
              "    </div>\n",
              "  </div>\n",
              "  "
            ],
            "text/plain": [
              "                        accuracy_train accuracy_test  precision_train  \\\n",
              "Naive Bayes Bernoulli         0.676052      0.610207         0.571113   \n",
              "Naive Bayes Multinomial       0.677372      0.610647         0.557282   \n",
              "Regresion Logistica           0.761402      0.646282         0.805285   \n",
              "Ridge                         0.746884      0.649362         0.819579   \n",
              "\n",
              "                         precision_test recall_train recall_test  f1_train  \\\n",
              "Naive Bayes Bernoulli          0.367805     0.499023    0.391298  0.489703   \n",
              "Naive Bayes Multinomial        0.369294     0.522218    0.394897  0.514603   \n",
              "Regresion Logistica            0.469944     0.521198    0.373353  0.568687   \n",
              "Ridge                          0.401845     0.453903    0.355903  0.488011   \n",
              "\n",
              "                          f1_test  \n",
              "Naive Bayes Bernoulli      0.3767  \n",
              "Naive Bayes Multinomial  0.378584  \n",
              "Regresion Logistica      0.382936  \n",
              "Ridge                    0.363353  "
            ]
          },
          "execution_count": 61,
          "metadata": {},
          "output_type": "execute_result"
        }
      ],
      "source": [
        "columns=['accuracy_train','accuracy_test',' precision_train',' precision_test', 'recall_train','recall_test', 'f1_train','f1_test']\n",
        "index=['Naive Bayes Bernoulli','Naive Bayes Multinomial','Regresion Logistica', 'Ridge']\n",
        "TF_data_frame = pd.DataFrame( index=index,columns=columns)\n",
        "TF_data_frame.loc[\"Naive Bayes Bernoulli\"]=[BTF_ACC_TRAIN, BTF_ACC_TEST, BTF_PS_TRAIN, BTF_PS_TEST,BTF_RS_TRAIN, BTF_RS_TEST, BTF_F1_TRAIN, BTF_F1_TEST]\n",
        "TF_data_frame.loc[\"Naive Bayes Multinomial\"]=[NBMTF_ACC_TRAIN, NBMTF_ACC_TEST, NBMTF_PS_TRAIN, NBMTF_PS_TEST,NBMTF_RS_TRAIN, NBMTF_RS_TEST, NBMTF_F1_TRAIN, NBMTF_F1_TEST]\n",
        "TF_data_frame.loc[\"Regresion Logistica\"]=[LTF_ACC_TRAIN, LTF_ACC_TEST, LTF_PS_TRAIN, LTF_PS_TEST, LTF_RS_TRAIN, LTF_RS_TEST, LTF_F1_TRAIN, LTF_F1_TEST]\n",
        "TF_data_frame.loc[\"Ridge\"]=[RTF_ACC_TRAIN, RTF_ACC_TEST, RTF_PS_TRAIN, RTF_PS_TEST, RTF_RS_TRAIN, RTF_RS_TEST, RTF_F1_TRAIN, RTF_F1_TEST]\n",
        "\n",
        "TF_data_frame.head()\n"
      ]
    },
    {
      "attachments": {},
      "cell_type": "markdown",
      "metadata": {
        "id": "3-roQPZKYZyn"
      },
      "source": [
        "Elaboramos la tabla con la imformacion de los resultados para los datos de TF-iDF"
      ]
    },
    {
      "cell_type": "code",
      "execution_count": null,
      "metadata": {
        "colab": {
          "base_uri": "https://localhost:8080/",
          "height": 175
        },
        "id": "TyZuv0Z-S5uJ",
        "outputId": "bbaa21c8-a771-45c5-d243-307dcdf725a4"
      },
      "outputs": [
        {
          "data": {
            "text/html": [
              "\n",
              "  <div id=\"df-17887411-5eff-4623-9e87-b569b07c50e6\">\n",
              "    <div class=\"colab-df-container\">\n",
              "      <div>\n",
              "<style scoped>\n",
              "    .dataframe tbody tr th:only-of-type {\n",
              "        vertical-align: middle;\n",
              "    }\n",
              "\n",
              "    .dataframe tbody tr th {\n",
              "        vertical-align: top;\n",
              "    }\n",
              "\n",
              "    .dataframe thead th {\n",
              "        text-align: right;\n",
              "    }\n",
              "</style>\n",
              "<table border=\"1\" class=\"dataframe\">\n",
              "  <thead>\n",
              "    <tr style=\"text-align: right;\">\n",
              "      <th></th>\n",
              "      <th>accuracy_train</th>\n",
              "      <th>accuracy_test</th>\n",
              "      <th>precision_train</th>\n",
              "      <th>precision_test</th>\n",
              "      <th>recall_train</th>\n",
              "      <th>recall_test</th>\n",
              "      <th>f1_train</th>\n",
              "      <th>f1_test</th>\n",
              "    </tr>\n",
              "  </thead>\n",
              "  <tbody>\n",
              "    <tr>\n",
              "      <th>Naive Bayes Bernoulli</th>\n",
              "      <td>0.676052</td>\n",
              "      <td>0.610207</td>\n",
              "      <td>0.571113</td>\n",
              "      <td>0.367805</td>\n",
              "      <td>0.499023</td>\n",
              "      <td>0.391298</td>\n",
              "      <td>0.489703</td>\n",
              "      <td>0.3767</td>\n",
              "    </tr>\n",
              "    <tr>\n",
              "      <th>Naive Bayes Multinomial</th>\n",
              "      <td>0.696583</td>\n",
              "      <td>0.641883</td>\n",
              "      <td>0.553791</td>\n",
              "      <td>0.443034</td>\n",
              "      <td>0.352911</td>\n",
              "      <td>0.314129</td>\n",
              "      <td>0.358905</td>\n",
              "      <td>0.305133</td>\n",
              "    </tr>\n",
              "    <tr>\n",
              "      <th>Regresion Logistica</th>\n",
              "      <td>0.733245</td>\n",
              "      <td>0.655961</td>\n",
              "      <td>0.572149</td>\n",
              "      <td>0.399347</td>\n",
              "      <td>0.419194</td>\n",
              "      <td>0.347208</td>\n",
              "      <td>0.446647</td>\n",
              "      <td>0.350754</td>\n",
              "    </tr>\n",
              "    <tr>\n",
              "      <th>Ridge</th>\n",
              "      <td>0.743657</td>\n",
              "      <td>0.66256</td>\n",
              "      <td>0.570855</td>\n",
              "      <td>0.414915</td>\n",
              "      <td>0.436529</td>\n",
              "      <td>0.355596</td>\n",
              "      <td>0.465167</td>\n",
              "      <td>0.361202</td>\n",
              "    </tr>\n",
              "  </tbody>\n",
              "</table>\n",
              "</div>\n",
              "      <button class=\"colab-df-convert\" onclick=\"convertToInteractive('df-17887411-5eff-4623-9e87-b569b07c50e6')\"\n",
              "              title=\"Convert this dataframe to an interactive table.\"\n",
              "              style=\"display:none;\">\n",
              "        \n",
              "  <svg xmlns=\"http://www.w3.org/2000/svg\" height=\"24px\"viewBox=\"0 0 24 24\"\n",
              "       width=\"24px\">\n",
              "    <path d=\"M0 0h24v24H0V0z\" fill=\"none\"/>\n",
              "    <path d=\"M18.56 5.44l.94 2.06.94-2.06 2.06-.94-2.06-.94-.94-2.06-.94 2.06-2.06.94zm-11 1L8.5 8.5l.94-2.06 2.06-.94-2.06-.94L8.5 2.5l-.94 2.06-2.06.94zm10 10l.94 2.06.94-2.06 2.06-.94-2.06-.94-.94-2.06-.94 2.06-2.06.94z\"/><path d=\"M17.41 7.96l-1.37-1.37c-.4-.4-.92-.59-1.43-.59-.52 0-1.04.2-1.43.59L10.3 9.45l-7.72 7.72c-.78.78-.78 2.05 0 2.83L4 21.41c.39.39.9.59 1.41.59.51 0 1.02-.2 1.41-.59l7.78-7.78 2.81-2.81c.8-.78.8-2.07 0-2.86zM5.41 20L4 18.59l7.72-7.72 1.47 1.35L5.41 20z\"/>\n",
              "  </svg>\n",
              "      </button>\n",
              "      \n",
              "  <style>\n",
              "    .colab-df-container {\n",
              "      display:flex;\n",
              "      flex-wrap:wrap;\n",
              "      gap: 12px;\n",
              "    }\n",
              "\n",
              "    .colab-df-convert {\n",
              "      background-color: #E8F0FE;\n",
              "      border: none;\n",
              "      border-radius: 50%;\n",
              "      cursor: pointer;\n",
              "      display: none;\n",
              "      fill: #1967D2;\n",
              "      height: 32px;\n",
              "      padding: 0 0 0 0;\n",
              "      width: 32px;\n",
              "    }\n",
              "\n",
              "    .colab-df-convert:hover {\n",
              "      background-color: #E2EBFA;\n",
              "      box-shadow: 0px 1px 2px rgba(60, 64, 67, 0.3), 0px 1px 3px 1px rgba(60, 64, 67, 0.15);\n",
              "      fill: #174EA6;\n",
              "    }\n",
              "\n",
              "    [theme=dark] .colab-df-convert {\n",
              "      background-color: #3B4455;\n",
              "      fill: #D2E3FC;\n",
              "    }\n",
              "\n",
              "    [theme=dark] .colab-df-convert:hover {\n",
              "      background-color: #434B5C;\n",
              "      box-shadow: 0px 1px 3px 1px rgba(0, 0, 0, 0.15);\n",
              "      filter: drop-shadow(0px 1px 2px rgba(0, 0, 0, 0.3));\n",
              "      fill: #FFFFFF;\n",
              "    }\n",
              "  </style>\n",
              "\n",
              "      <script>\n",
              "        const buttonEl =\n",
              "          document.querySelector('#df-17887411-5eff-4623-9e87-b569b07c50e6 button.colab-df-convert');\n",
              "        buttonEl.style.display =\n",
              "          google.colab.kernel.accessAllowed ? 'block' : 'none';\n",
              "\n",
              "        async function convertToInteractive(key) {\n",
              "          const element = document.querySelector('#df-17887411-5eff-4623-9e87-b569b07c50e6');\n",
              "          const dataTable =\n",
              "            await google.colab.kernel.invokeFunction('convertToInteractive',\n",
              "                                                     [key], {});\n",
              "          if (!dataTable) return;\n",
              "\n",
              "          const docLinkHtml = 'Like what you see? Visit the ' +\n",
              "            '<a target=\"_blank\" href=https://colab.research.google.com/notebooks/data_table.ipynb>data table notebook</a>'\n",
              "            + ' to learn more about interactive tables.';\n",
              "          element.innerHTML = '';\n",
              "          dataTable['output_type'] = 'display_data';\n",
              "          await google.colab.output.renderOutput(dataTable, element);\n",
              "          const docLink = document.createElement('div');\n",
              "          docLink.innerHTML = docLinkHtml;\n",
              "          element.appendChild(docLink);\n",
              "        }\n",
              "      </script>\n",
              "    </div>\n",
              "  </div>\n",
              "  "
            ],
            "text/plain": [
              "                        accuracy_train accuracy_test  precision_train  \\\n",
              "Naive Bayes Bernoulli         0.676052      0.610207         0.571113   \n",
              "Naive Bayes Multinomial       0.696583      0.641883         0.553791   \n",
              "Regresion Logistica           0.733245      0.655961         0.572149   \n",
              "Ridge                         0.743657       0.66256         0.570855   \n",
              "\n",
              "                         precision_test recall_train recall_test  f1_train  \\\n",
              "Naive Bayes Bernoulli          0.367805     0.499023    0.391298  0.489703   \n",
              "Naive Bayes Multinomial        0.443034     0.352911    0.314129  0.358905   \n",
              "Regresion Logistica            0.399347     0.419194    0.347208  0.446647   \n",
              "Ridge                          0.414915     0.436529    0.355596  0.465167   \n",
              "\n",
              "                          f1_test  \n",
              "Naive Bayes Bernoulli      0.3767  \n",
              "Naive Bayes Multinomial  0.305133  \n",
              "Regresion Logistica      0.350754  \n",
              "Ridge                    0.361202  "
            ]
          },
          "execution_count": 62,
          "metadata": {},
          "output_type": "execute_result"
        }
      ],
      "source": [
        "# tabla TF-iDF \n",
        "TFI_data_frame = pd.DataFrame( index=index,columns=columns)\n",
        "TFI_data_frame.loc[\"Naive Bayes Bernoulli\"]=[BTFI_ACC_TRAIN, BTFI_ACC_TEST, BTFI_PS_TRAIN, BTFI_PS_TEST,BTFI_RS_TRAIN, BTFI_RS_TEST, BTFI_F1_TRAIN, BTFI_F1_TEST]\n",
        "TFI_data_frame.loc[\"Naive Bayes Multinomial\"]=[NBMTFI_ACC_TRAIN, NBMTFI_ACC_TEST, NBMTFI_PS_TRAIN, NBMTFI_PS_TEST,NBMTFI_RS_TRAIN, NBMTFI_RS_TEST, NBMTFI_F1_TRAIN, NBMTFI_F1_TEST]\n",
        "TFI_data_frame.loc[\"Regresion Logistica\"]=[LTFI_ACC_TRAIN, LTFI_ACC_TEST, LTFI_PS_TRAIN, LTFI_PS_TEST, LTFI_RS_TRAIN, LTFI_RS_TEST, LTFI_F1_TRAIN, LTFI_F1_TEST]\n",
        "TFI_data_frame.loc[\"Ridge\"]=[RTFI_ACC_TRAIN, RTFI_ACC_TEST, RTFI_PS_TRAIN, RTFI_PS_TEST, RTFI_RS_TRAIN, RTFI_RS_TEST, RTFI_F1_TRAIN, RTFI_F1_TEST]\n",
        "\n",
        "TFI_data_frame.head()"
      ]
    },
    {
      "attachments": {},
      "cell_type": "markdown",
      "metadata": {
        "id": "z3fOKpEgbCH7"
      },
      "source": [
        "# 7. Hacer gráficos de barras: uno por cada métrica, en filas los algoritmos aplicados y en la altura la comparación del valor en train y test."
      ]
    },
    {
      "cell_type": "code",
      "execution_count": null,
      "metadata": {
        "colab": {
          "base_uri": "https://localhost:8080/",
          "height": 1000
        },
        "id": "bKaxOtjnYdP7",
        "outputId": "3501016f-4d9e-4d72-a89b-f20f27e763a1"
      },
      "outputs": [
        {
          "data": {
            "image/png": "[encoded data removed]",
            "text/plain": [
              "<Figure size 1152x576 with 1 Axes>"
            ]
          },
          "metadata": {
            "needs_background": "light"
          },
          "output_type": "display_data"
        },
        {
          "data": {
            "image/png": "[encoded data removed]",
            "text/plain": [
              "<Figure size 1152x576 with 1 Axes>"
            ]
          },
          "metadata": {
            "needs_background": "light"
          },
          "output_type": "display_data"
        },
        {
          "data": {
            "image/png": "[encoded data removed]",
            "text/plain": [
              "<Figure size 1152x576 with 1 Axes>"
            ]
          },
          "metadata": {
            "needs_background": "light"
          },
          "output_type": "display_data"
        },
        {
          "data": {
            "image/png": "[encoded data removed]",
            "text/plain": [
              "<Figure size 1152x576 with 1 Axes>"
            ]
          },
          "metadata": {
            "needs_background": "light"
          },
          "output_type": "display_data"
        }
      ],
      "source": [
        "# Grafica para los TF\n",
        "n = len(TF_data_frame.index)\n",
        "x = np.arange(n)\n",
        "width = 0.25\n",
        "title = ['Accuracy TF','Presicion TF','Recall TF','F1 TF']\n",
        "for count in range(0,4):\n",
        "  plt.figure(figsize=(16,8))\n",
        "  plt.bar(x - width, TF_data_frame.iloc[:, 0+count]\t, width=width, label='Train')\n",
        "  plt.bar(x, TF_data_frame.iloc[:, 1+count], width=width, label='Test')\n",
        "  plt.xticks(x, TF_data_frame.index)\n",
        "  plt.legend(loc='best')\n",
        "  plt.title(str([title[count]]))\n",
        "  plt.ylim(0,1)\n",
        "  plt.show()"
      ]
    },
    {
      "cell_type": "code",
      "execution_count": null,
      "metadata": {
        "colab": {
          "base_uri": "https://localhost:8080/",
          "height": 1000
        },
        "id": "gtt5FHBjg0q0",
        "outputId": "b5223893-80e6-4419-bdbe-bec791e0cc87"
      },
      "outputs": [
        {
          "data": {
            "image/png": "[encoded data removed]",
            "text/plain": [
              "<Figure size 1152x576 with 1 Axes>"
            ]
          },
          "metadata": {
            "needs_background": "light"
          },
          "output_type": "display_data"
        },
        {
          "data": {
            "image/png": "[encoded data removed]",
            "text/plain": [
              "<Figure size 1152x576 with 1 Axes>"
            ]
          },
          "metadata": {
            "needs_background": "light"
          },
          "output_type": "display_data"
        },
        {
          "data": {
            "image/png": "[encoded data removed]",
            "text/plain": [
              "<Figure size 1152x576 with 1 Axes>"
            ]
          },
          "metadata": {
            "needs_background": "light"
          },
          "output_type": "display_data"
        },
        {
          "data": {
            "image/png": "[encoded data removed]",
            "text/plain": [
              "<Figure size 1152x576 with 1 Axes>"
            ]
          },
          "metadata": {
            "needs_background": "light"
          },
          "output_type": "display_data"
        }
      ],
      "source": [
        "# Grafica para los TF IDF\n",
        "n = len(TFI_data_frame.index)\n",
        "x = np.arange(n)\n",
        "width = 0.25\n",
        "title = ['Accuracy TF-iDF','Presicion TF-iDF','Recall TF-iDF','F1 TF-iDF']\n",
        "for count in range(0,4):\n",
        "  plt.figure(figsize=(16,8))\n",
        "  plt.bar(x - width, TFI_data_frame.iloc[:, 0+count]\t, width=width, label='Train')\n",
        "  plt.bar(x, TFI_data_frame.iloc[:, 1+count], width=width, label='Test')\n",
        "  plt.xticks(x, TFI_data_frame.index)\n",
        "  plt.legend(loc='best')\n",
        "  plt.title(str([title[count]]))\n",
        "  plt.ylim(0,1)\n",
        "  plt.show()"
      ]
    },
    {
      "attachments": {},
      "cell_type": "markdown",
      "metadata": {
        "id": "1FHETd1u5tT8"
      },
      "source": [
        "## Conclusiones"
      ]
    },
    {
      "attachments": {},
      "cell_type": "markdown",
      "metadata": {
        "id": "ff8ADs2KI9ds"
      },
      "source": [
        "*   En el presente informe se realizo el pre procesamiento de tweets con su respectiva limpieza y analisis de información, posteriormente se determino seleccionar las 1000 palabras mas repetidas y que estuviera en 3 documentos. Sobre esta información se realizan 4 metodos de clasificación con la finalidad de observar el comportamiento de la información y cual es el metodo que mejor la clasifica, los metodos utilizados fueron: Naive Bayes Bernoulli, Naive Bayes Multinomial, Regresión logistica y Clasficador de Ridge."
      ]
    },
    {
      "cell_type": "code",
      "execution_count": null,
      "metadata": {
        "colab": {
          "base_uri": "https://localhost:8080/",
          "height": 542
        },
        "id": "enm3BnWIBrRW",
        "outputId": "367040ad-6a95-4afa-9492-a543823527bd"
      },
      "outputs": [
        {
          "data": {
            "text/html": [
              "<html>\n",
              "<head><meta charset=\"utf-8\" /></head>\n",
              "<body>\n",
              "    <div>            <script src=\"https://cdnjs.cloudflare.com/ajax/libs/mathjax/2.7.5/MathJax.js?config=TeX-AMS-MML_SVG\"></script><script type=\"text/javascript\">if (window.MathJax) {MathJax.Hub.Config({SVG: {font: \"STIX-Web\"}});}</script>                <script type=\"text/javascript\">window.PlotlyConfig = {MathJaxConfig: 'local'};</script>\n",
              "        <script src=\"https://cdn.plot.ly/plotly-2.8.3.min.js\"></script>                <div id=\"b88832fe-cb4f-4634-a29a-b128b6323797\" class=\"plotly-graph-div\" style=\"height:525px; width:100%;\"></div>            <script type=\"text/javascript\">                                    window.PLOTLYENV=window.PLOTLYENV || {};                                    if (document.getElementById(\"b88832fe-cb4f-4634-a29a-b128b6323797\")) {                    Plotly.newPlot(                        \"b88832fe-cb4f-4634-a29a-b128b6323797\",                        [{\"alignmentgroup\":\"True\",\"bingroup\":\"x\",\"histfunc\":\"sum\",\"hovertemplate\":\"variable=accuracy_train<br>x=%{x}<br>sum of value=%{y}<extra></extra>\",\"legendgroup\":\"accuracy_train\",\"marker\":{\"color\":\"#636efa\",\"pattern\":{\"shape\":\"\"}},\"name\":\"accuracy_train\",\"offsetgroup\":\"accuracy_train\",\"orientation\":\"v\",\"showlegend\":true,\"x\":[\"Naive Bayes Bernoulli\",\"Naive Bayes Multinomial\",\"Regresion Logistica\",\"Ridge\"],\"xaxis\":\"x\",\"y\":[0.6760522070684851,0.6773720486874908,0.7614019650975217,0.7468837072884588],\"yaxis\":\"y\",\"type\":\"histogram\"},{\"alignmentgroup\":\"True\",\"bingroup\":\"x\",\"histfunc\":\"sum\",\"hovertemplate\":\"variable=accuracy_test<br>x=%{x}<br>sum of value=%{y}<extra></extra>\",\"legendgroup\":\"accuracy_test\",\"marker\":{\"color\":\"#EF553B\",\"pattern\":{\"shape\":\"\"}},\"name\":\"accuracy_test\",\"offsetgroup\":\"accuracy_test\",\"orientation\":\"v\",\"showlegend\":true,\"x\":[\"Naive Bayes Bernoulli\",\"Naive Bayes Multinomial\",\"Regresion Logistica\",\"Ridge\"],\"xaxis\":\"x\",\"y\":[0.6102067751869775,0.6106467223933129,0.6462824461064672,0.6493620765508139],\"yaxis\":\"y\",\"type\":\"histogram\"},{\"alignmentgroup\":\"True\",\"bingroup\":\"x\",\"histfunc\":\"sum\",\"hovertemplate\":\"variable= precision_train<br>x=%{x}<br>sum of value=%{y}<extra></extra>\",\"legendgroup\":\" precision_train\",\"marker\":{\"color\":\"#00cc96\",\"pattern\":{\"shape\":\"\"}},\"name\":\" precision_train\",\"offsetgroup\":\" precision_train\",\"orientation\":\"v\",\"showlegend\":true,\"x\":[\"Naive Bayes Bernoulli\",\"Naive Bayes Multinomial\",\"Regresion Logistica\",\"Ridge\"],\"xaxis\":\"x\",\"y\":[0.5711130616097693,0.5572815440693684,0.8052847699234591,0.8195792446377521],\"yaxis\":\"y\",\"type\":\"histogram\"},{\"alignmentgroup\":\"True\",\"bingroup\":\"x\",\"histfunc\":\"sum\",\"hovertemplate\":\"variable= precision_test<br>x=%{x}<br>sum of value=%{y}<extra></extra>\",\"legendgroup\":\" precision_test\",\"marker\":{\"color\":\"#ab63fa\",\"pattern\":{\"shape\":\"\"}},\"name\":\" precision_test\",\"offsetgroup\":\" precision_test\",\"orientation\":\"v\",\"showlegend\":true,\"x\":[\"Naive Bayes Bernoulli\",\"Naive Bayes Multinomial\",\"Regresion Logistica\",\"Ridge\"],\"xaxis\":\"x\",\"y\":[0.3678047588005215,0.36929374042688623,0.4699435983860019,0.4018451272501552],\"yaxis\":\"y\",\"type\":\"histogram\"},{\"alignmentgroup\":\"True\",\"bingroup\":\"x\",\"histfunc\":\"sum\",\"hovertemplate\":\"variable=recall_train<br>x=%{x}<br>sum of value=%{y}<extra></extra>\",\"legendgroup\":\"recall_train\",\"marker\":{\"color\":\"#FFA15A\",\"pattern\":{\"shape\":\"\"}},\"name\":\"recall_train\",\"offsetgroup\":\"recall_train\",\"orientation\":\"v\",\"showlegend\":true,\"x\":[\"Naive Bayes Bernoulli\",\"Naive Bayes Multinomial\",\"Regresion Logistica\",\"Ridge\"],\"xaxis\":\"x\",\"y\":[0.4990229869201187,0.5222179395253294,0.5211979089481755,0.4539031471806194],\"yaxis\":\"y\",\"type\":\"histogram\"},{\"alignmentgroup\":\"True\",\"bingroup\":\"x\",\"histfunc\":\"sum\",\"hovertemplate\":\"variable=recall_test<br>x=%{x}<br>sum of value=%{y}<extra></extra>\",\"legendgroup\":\"recall_test\",\"marker\":{\"color\":\"#19d3f3\",\"pattern\":{\"shape\":\"\"}},\"name\":\"recall_test\",\"offsetgroup\":\"recall_test\",\"orientation\":\"v\",\"showlegend\":true,\"x\":[\"Naive Bayes Bernoulli\",\"Naive Bayes Multinomial\",\"Regresion Logistica\",\"Ridge\"],\"xaxis\":\"x\",\"y\":[0.39129799827782097,0.39489676965268916,0.3733527265051031,0.35590341635401973],\"yaxis\":\"y\",\"type\":\"histogram\"},{\"alignmentgroup\":\"True\",\"bingroup\":\"x\",\"histfunc\":\"sum\",\"hovertemplate\":\"variable=f1_train<br>x=%{x}<br>sum of value=%{y}<extra></extra>\",\"legendgroup\":\"f1_train\",\"marker\":{\"color\":\"#FF6692\",\"pattern\":{\"shape\":\"\"}},\"name\":\"f1_train\",\"offsetgroup\":\"f1_train\",\"orientation\":\"v\",\"showlegend\":true,\"x\":[\"Naive Bayes Bernoulli\",\"Naive Bayes Multinomial\",\"Regresion Logistica\",\"Ridge\"],\"xaxis\":\"x\",\"y\":[0.4897028086225538,0.5146031564324146,0.568687160268506,0.48801121105933315],\"yaxis\":\"y\",\"type\":\"histogram\"},{\"alignmentgroup\":\"True\",\"bingroup\":\"x\",\"histfunc\":\"sum\",\"hovertemplate\":\"variable=f1_test<br>x=%{x}<br>sum of value=%{y}<extra></extra>\",\"legendgroup\":\"f1_test\",\"marker\":{\"color\":\"#B6E880\",\"pattern\":{\"shape\":\"\"}},\"name\":\"f1_test\",\"offsetgroup\":\"f1_test\",\"orientation\":\"v\",\"showlegend\":true,\"x\":[\"Naive Bayes Bernoulli\",\"Naive Bayes Multinomial\",\"Regresion Logistica\",\"Ridge\"],\"xaxis\":\"x\",\"y\":[0.3767004731244388,0.37858441641853224,0.3829359163884115,0.36335343256584307],\"yaxis\":\"y\",\"type\":\"histogram\"}],                        {\"template\":{\"data\":{\"bar\":[{\"error_x\":{\"color\":\"#2a3f5f\"},\"error_y\":{\"color\":\"#2a3f5f\"},\"marker\":{\"line\":{\"color\":\"#E5ECF6\",\"width\":0.5},\"pattern\":{\"fillmode\":\"overlay\",\"size\":10,\"solidity\":0.2}},\"type\":\"bar\"}],\"barpolar\":[{\"marker\":{\"line\":{\"color\":\"#E5ECF6\",\"width\":0.5},\"pattern\":{\"fillmode\":\"overlay\",\"size\":10,\"solidity\":0.2}},\"type\":\"barpolar\"}],\"carpet\":[{\"aaxis\":{\"endlinecolor\":\"#2a3f5f\",\"gridcolor\":\"white\",\"linecolor\":\"white\",\"minorgridcolor\":\"white\",\"startlinecolor\":\"#2a3f5f\"},\"baxis\":{\"endlinecolor\":\"#2a3f5f\",\"gridcolor\":\"white\",\"linecolor\":\"white\",\"minorgridcolor\":\"white\",\"startlinecolor\":\"#2a3f5f\"},\"type\":\"carpet\"}],\"choropleth\":[{\"colorbar\":{\"outlinewidth\":0,\"ticks\":\"\"},\"type\":\"choropleth\"}],\"contour\":[{\"colorbar\":{\"outlinewidth\":0,\"ticks\":\"\"},\"colorscale\":[[0.0,\"#0d0887\"],[0.1111111111111111,\"#46039f\"],[0.2222222222222222,\"#7201a8\"],[0.3333333333333333,\"#9c179e\"],[0.4444444444444444,\"#bd3786\"],[0.5555555555555556,\"#d8576b\"],[0.6666666666666666,\"#ed7953\"],[0.7777777777777778,\"#fb9f3a\"],[0.8888888888888888,\"#fdca26\"],[1.0,\"#f0f921\"]],\"type\":\"contour\"}],\"contourcarpet\":[{\"colorbar\":{\"outlinewidth\":0,\"ticks\":\"\"},\"type\":\"contourcarpet\"}],\"heatmap\":[{\"colorbar\":{\"outlinewidth\":0,\"ticks\":\"\"},\"colorscale\":[[0.0,\"#0d0887\"],[0.1111111111111111,\"#46039f\"],[0.2222222222222222,\"#7201a8\"],[0.3333333333333333,\"#9c179e\"],[0.4444444444444444,\"#bd3786\"],[0.5555555555555556,\"#d8576b\"],[0.6666666666666666,\"#ed7953\"],[0.7777777777777778,\"#fb9f3a\"],[0.8888888888888888,\"#fdca26\"],[1.0,\"#f0f921\"]],\"type\":\"heatmap\"}],\"heatmapgl\":[{\"colorbar\":{\"outlinewidth\":0,\"ticks\":\"\"},\"colorscale\":[[0.0,\"#0d0887\"],[0.1111111111111111,\"#46039f\"],[0.2222222222222222,\"#7201a8\"],[0.3333333333333333,\"#9c179e\"],[0.4444444444444444,\"#bd3786\"],[0.5555555555555556,\"#d8576b\"],[0.6666666666666666,\"#ed7953\"],[0.7777777777777778,\"#fb9f3a\"],[0.8888888888888888,\"#fdca26\"],[1.0,\"#f0f921\"]],\"type\":\"heatmapgl\"}],\"histogram\":[{\"marker\":{\"pattern\":{\"fillmode\":\"overlay\",\"size\":10,\"solidity\":0.2}},\"type\":\"histogram\"}],\"histogram2d\":[{\"colorbar\":{\"outlinewidth\":0,\"ticks\":\"\"},\"colorscale\":[[0.0,\"#0d0887\"],[0.1111111111111111,\"#46039f\"],[0.2222222222222222,\"#7201a8\"],[0.3333333333333333,\"#9c179e\"],[0.4444444444444444,\"#bd3786\"],[0.5555555555555556,\"#d8576b\"],[0.6666666666666666,\"#ed7953\"],[0.7777777777777778,\"#fb9f3a\"],[0.8888888888888888,\"#fdca26\"],[1.0,\"#f0f921\"]],\"type\":\"histogram2d\"}],\"histogram2dcontour\":[{\"colorbar\":{\"outlinewidth\":0,\"ticks\":\"\"},\"colorscale\":[[0.0,\"#0d0887\"],[0.1111111111111111,\"#46039f\"],[0.2222222222222222,\"#7201a8\"],[0.3333333333333333,\"#9c179e\"],[0.4444444444444444,\"#bd3786\"],[0.5555555555555556,\"#d8576b\"],[0.6666666666666666,\"#ed7953\"],[0.7777777777777778,\"#fb9f3a\"],[0.8888888888888888,\"#fdca26\"],[1.0,\"#f0f921\"]],\"type\":\"histogram2dcontour\"}],\"mesh3d\":[{\"colorbar\":{\"outlinewidth\":0,\"ticks\":\"\"},\"type\":\"mesh3d\"}],\"parcoords\":[{\"line\":{\"colorbar\":{\"outlinewidth\":0,\"ticks\":\"\"}},\"type\":\"parcoords\"}],\"pie\":[{\"automargin\":true,\"type\":\"pie\"}],\"scatter\":[{\"marker\":{\"colorbar\":{\"outlinewidth\":0,\"ticks\":\"\"}},\"type\":\"scatter\"}],\"scatter3d\":[{\"line\":{\"colorbar\":{\"outlinewidth\":0,\"ticks\":\"\"}},\"marker\":{\"colorbar\":{\"outlinewidth\":0,\"ticks\":\"\"}},\"type\":\"scatter3d\"}],\"scattercarpet\":[{\"marker\":{\"colorbar\":{\"outlinewidth\":0,\"ticks\":\"\"}},\"type\":\"scattercarpet\"}],\"scattergeo\":[{\"marker\":{\"colorbar\":{\"outlinewidth\":0,\"ticks\":\"\"}},\"type\":\"scattergeo\"}],\"scattergl\":[{\"marker\":{\"colorbar\":{\"outlinewidth\":0,\"ticks\":\"\"}},\"type\":\"scattergl\"}],\"scattermapbox\":[{\"marker\":{\"colorbar\":{\"outlinewidth\":0,\"ticks\":\"\"}},\"type\":\"scattermapbox\"}],\"scatterpolar\":[{\"marker\":{\"colorbar\":{\"outlinewidth\":0,\"ticks\":\"\"}},\"type\":\"scatterpolar\"}],\"scatterpolargl\":[{\"marker\":{\"colorbar\":{\"outlinewidth\":0,\"ticks\":\"\"}},\"type\":\"scatterpolargl\"}],\"scatterternary\":[{\"marker\":{\"colorbar\":{\"outlinewidth\":0,\"ticks\":\"\"}},\"type\":\"scatterternary\"}],\"surface\":[{\"colorbar\":{\"outlinewidth\":0,\"ticks\":\"\"},\"colorscale\":[[0.0,\"#0d0887\"],[0.1111111111111111,\"#46039f\"],[0.2222222222222222,\"#7201a8\"],[0.3333333333333333,\"#9c179e\"],[0.4444444444444444,\"#bd3786\"],[0.5555555555555556,\"#d8576b\"],[0.6666666666666666,\"#ed7953\"],[0.7777777777777778,\"#fb9f3a\"],[0.8888888888888888,\"#fdca26\"],[1.0,\"#f0f921\"]],\"type\":\"surface\"}],\"table\":[{\"cells\":{\"fill\":{\"color\":\"#EBF0F8\"},\"line\":{\"color\":\"white\"}},\"header\":{\"fill\":{\"color\":\"#C8D4E3\"},\"line\":{\"color\":\"white\"}},\"type\":\"table\"}]},\"layout\":{\"annotationdefaults\":{\"arrowcolor\":\"#2a3f5f\",\"arrowhead\":0,\"arrowwidth\":1},\"autotypenumbers\":\"strict\",\"coloraxis\":{\"colorbar\":{\"outlinewidth\":0,\"ticks\":\"\"}},\"colorscale\":{\"diverging\":[[0,\"#8e0152\"],[0.1,\"#c51b7d\"],[0.2,\"#de77ae\"],[0.3,\"#f1b6da\"],[0.4,\"#fde0ef\"],[0.5,\"#f7f7f7\"],[0.6,\"#e6f5d0\"],[0.7,\"#b8e186\"],[0.8,\"#7fbc41\"],[0.9,\"#4d9221\"],[1,\"#276419\"]],\"sequential\":[[0.0,\"#0d0887\"],[0.1111111111111111,\"#46039f\"],[0.2222222222222222,\"#7201a8\"],[0.3333333333333333,\"#9c179e\"],[0.4444444444444444,\"#bd3786\"],[0.5555555555555556,\"#d8576b\"],[0.6666666666666666,\"#ed7953\"],[0.7777777777777778,\"#fb9f3a\"],[0.8888888888888888,\"#fdca26\"],[1.0,\"#f0f921\"]],\"sequentialminus\":[[0.0,\"#0d0887\"],[0.1111111111111111,\"#46039f\"],[0.2222222222222222,\"#7201a8\"],[0.3333333333333333,\"#9c179e\"],[0.4444444444444444,\"#bd3786\"],[0.5555555555555556,\"#d8576b\"],[0.6666666666666666,\"#ed7953\"],[0.7777777777777778,\"#fb9f3a\"],[0.8888888888888888,\"#fdca26\"],[1.0,\"#f0f921\"]]},\"colorway\":[\"#636efa\",\"#EF553B\",\"#00cc96\",\"#ab63fa\",\"#FFA15A\",\"#19d3f3\",\"#FF6692\",\"#B6E880\",\"#FF97FF\",\"#FECB52\"],\"font\":{\"color\":\"#2a3f5f\"},\"geo\":{\"bgcolor\":\"white\",\"lakecolor\":\"white\",\"landcolor\":\"#E5ECF6\",\"showlakes\":true,\"showland\":true,\"subunitcolor\":\"white\"},\"hoverlabel\":{\"align\":\"left\"},\"hovermode\":\"closest\",\"mapbox\":{\"style\":\"light\"},\"paper_bgcolor\":\"white\",\"plot_bgcolor\":\"#E5ECF6\",\"polar\":{\"angularaxis\":{\"gridcolor\":\"white\",\"linecolor\":\"white\",\"ticks\":\"\"},\"bgcolor\":\"#E5ECF6\",\"radialaxis\":{\"gridcolor\":\"white\",\"linecolor\":\"white\",\"ticks\":\"\"}},\"scene\":{\"xaxis\":{\"backgroundcolor\":\"#E5ECF6\",\"gridcolor\":\"white\",\"gridwidth\":2,\"linecolor\":\"white\",\"showbackground\":true,\"ticks\":\"\",\"zerolinecolor\":\"white\"},\"yaxis\":{\"backgroundcolor\":\"#E5ECF6\",\"gridcolor\":\"white\",\"gridwidth\":2,\"linecolor\":\"white\",\"showbackground\":true,\"ticks\":\"\",\"zerolinecolor\":\"white\"},\"zaxis\":{\"backgroundcolor\":\"#E5ECF6\",\"gridcolor\":\"white\",\"gridwidth\":2,\"linecolor\":\"white\",\"showbackground\":true,\"ticks\":\"\",\"zerolinecolor\":\"white\"}},\"shapedefaults\":{\"line\":{\"color\":\"#2a3f5f\"}},\"ternary\":{\"aaxis\":{\"gridcolor\":\"white\",\"linecolor\":\"white\",\"ticks\":\"\"},\"baxis\":{\"gridcolor\":\"white\",\"linecolor\":\"white\",\"ticks\":\"\"},\"bgcolor\":\"#E5ECF6\",\"caxis\":{\"gridcolor\":\"white\",\"linecolor\":\"white\",\"ticks\":\"\"}},\"title\":{\"x\":0.05},\"xaxis\":{\"automargin\":true,\"gridcolor\":\"white\",\"linecolor\":\"white\",\"ticks\":\"\",\"title\":{\"standoff\":15},\"zerolinecolor\":\"white\",\"zerolinewidth\":2},\"yaxis\":{\"automargin\":true,\"gridcolor\":\"white\",\"linecolor\":\"white\",\"ticks\":\"\",\"title\":{\"standoff\":15},\"zerolinecolor\":\"white\",\"zerolinewidth\":2}}},\"xaxis\":{\"anchor\":\"y\",\"domain\":[0.0,1.0],\"title\":{\"text\":\"x\"}},\"yaxis\":{\"anchor\":\"x\",\"domain\":[0.0,1.0],\"title\":{\"text\":\"sum of value\"}},\"legend\":{\"title\":{\"text\":\"variable\"},\"tracegroupgap\":0},\"margin\":{\"t\":60},\"barmode\":\"group\"},                        {\"responsive\": true}                    ).then(function(){\n",
              "                            \n",
              "var gd = document.getElementById('b88832fe-cb4f-4634-a29a-b128b6323797');\n",
              "var x = new MutationObserver(function (mutations, observer) {{\n",
              "        var display = window.getComputedStyle(gd).display;\n",
              "        if (!display || display === 'none') {{\n",
              "            console.log([gd, 'removed!']);\n",
              "            Plotly.purge(gd);\n",
              "            observer.disconnect();\n",
              "        }}\n",
              "}});\n",
              "\n",
              "// Listen for the removal of the full notebook cells\n",
              "var notebookContainer = gd.closest('#notebook-container');\n",
              "if (notebookContainer) {{\n",
              "    x.observe(notebookContainer, {childList: true});\n",
              "}}\n",
              "\n",
              "// Listen for the clearing of the current output cell\n",
              "var outputEl = gd.closest('.output');\n",
              "if (outputEl) {{\n",
              "    x.observe(outputEl, {childList: true});\n",
              "}}\n",
              "\n",
              "                        })                };                            </script>        </div>\n",
              "</body>\n",
              "</html>"
            ]
          },
          "metadata": {},
          "output_type": "display_data"
        }
      ],
      "source": [
        "import plotly.express as px\n",
        "fig = px.histogram(TF_data_frame, x=['Naive Bayes Bernoulli','Naive Bayes Multinomial','Regresion Logistica', 'Ridge'], y=['accuracy_train','accuracy_test',' precision_train',' precision_test', 'recall_train','recall_test', 'f1_train','f1_test'], barmode='group')\n",
        "fig.show()\n"
      ]
    },
    {
      "attachments": {},
      "cell_type": "markdown",
      "metadata": {
        "id": "xQ9eOuT-52uE"
      },
      "source": [
        "\n",
        "\n",
        "\n",
        "\n",
        "*   La grafica anterior nos muestra toda la información junta de las tablas de TF, donde estan juntos los valores de train y test en ese orden y en orden de 'accuracy_train','accuracy_test',' precision_train',' precision_test', 'recall_train','recall_test', 'f1_train','f1_test' bajo los 4 metodos utilizados\n",
        "\n",
        "\n",
        "*   Para analizar la información  proporcionada en los metodos de clasificación nos centramos en los datos test, por esta razón el accuracy  el mejor es el clasificador de Ridge (0.649), en precision el mejor fue regresión logistica (0.469), recall  es Naive Bayes Multinomial(0.394), y f1 es Regresión logistica(0.382). Note que estos valores estan sujetos a cada ejecucion del codigo.\n",
        "\n"
      ]
    },
    {
      "cell_type": "code",
      "execution_count": null,
      "metadata": {
        "colab": {
          "base_uri": "https://localhost:8080/",
          "height": 542
        },
        "id": "29V9YZB2JBdD",
        "outputId": "0a07ce08-f8c5-4eb6-89a2-e8aa589d78fd"
      },
      "outputs": [
        {
          "data": {
            "text/html": [
              "<html>\n",
              "<head><meta charset=\"utf-8\" /></head>\n",
              "<body>\n",
              "    <div>            <script src=\"https://cdnjs.cloudflare.com/ajax/libs/mathjax/2.7.5/MathJax.js?config=TeX-AMS-MML_SVG\"></script><script type=\"text/javascript\">if (window.MathJax) {MathJax.Hub.Config({SVG: {font: \"STIX-Web\"}});}</script>                <script type=\"text/javascript\">window.PlotlyConfig = {MathJaxConfig: 'local'};</script>\n",
              "        <script src=\"https://cdn.plot.ly/plotly-2.8.3.min.js\"></script>                <div id=\"918e97bd-97fb-45ec-9d42-40288a9e199a\" class=\"plotly-graph-div\" style=\"height:525px; width:100%;\"></div>            <script type=\"text/javascript\">                                    window.PLOTLYENV=window.PLOTLYENV || {};                                    if (document.getElementById(\"918e97bd-97fb-45ec-9d42-40288a9e199a\")) {                    Plotly.newPlot(                        \"918e97bd-97fb-45ec-9d42-40288a9e199a\",                        [{\"alignmentgroup\":\"True\",\"bingroup\":\"x\",\"histfunc\":\"sum\",\"hovertemplate\":\"variable=accuracy_train<br>x=%{x}<br>sum of value=%{y}<extra></extra>\",\"legendgroup\":\"accuracy_train\",\"marker\":{\"color\":\"#636efa\",\"pattern\":{\"shape\":\"\"}},\"name\":\"accuracy_train\",\"offsetgroup\":\"accuracy_train\",\"orientation\":\"v\",\"showlegend\":true,\"x\":[\"Naive Bayes Bernoulli\",\"Naive Bayes Multinomial\",\"Regresion Logistica\",\"Ridge\"],\"xaxis\":\"x\",\"y\":[0.6760522070684851,0.696583076697463,0.7332453438920663,0.7436574277753336],\"yaxis\":\"y\",\"type\":\"histogram\"},{\"alignmentgroup\":\"True\",\"bingroup\":\"x\",\"histfunc\":\"sum\",\"hovertemplate\":\"variable=accuracy_test<br>x=%{x}<br>sum of value=%{y}<extra></extra>\",\"legendgroup\":\"accuracy_test\",\"marker\":{\"color\":\"#EF553B\",\"pattern\":{\"shape\":\"\"}},\"name\":\"accuracy_test\",\"offsetgroup\":\"accuracy_test\",\"orientation\":\"v\",\"showlegend\":true,\"x\":[\"Naive Bayes Bernoulli\",\"Naive Bayes Multinomial\",\"Regresion Logistica\",\"Ridge\"],\"xaxis\":\"x\",\"y\":[0.6102067751869775,0.6418829740431148,0.6559612846458425,0.6625604927408711],\"yaxis\":\"y\",\"type\":\"histogram\"},{\"alignmentgroup\":\"True\",\"bingroup\":\"x\",\"histfunc\":\"sum\",\"hovertemplate\":\"variable= precision_train<br>x=%{x}<br>sum of value=%{y}<extra></extra>\",\"legendgroup\":\" precision_train\",\"marker\":{\"color\":\"#00cc96\",\"pattern\":{\"shape\":\"\"}},\"name\":\" precision_train\",\"offsetgroup\":\" precision_train\",\"orientation\":\"v\",\"showlegend\":true,\"x\":[\"Naive Bayes Bernoulli\",\"Naive Bayes Multinomial\",\"Regresion Logistica\",\"Ridge\"],\"xaxis\":\"x\",\"y\":[0.5711130616097693,0.553791447630914,0.5721489131513297,0.5708546390015838],\"yaxis\":\"y\",\"type\":\"histogram\"},{\"alignmentgroup\":\"True\",\"bingroup\":\"x\",\"histfunc\":\"sum\",\"hovertemplate\":\"variable= precision_test<br>x=%{x}<br>sum of value=%{y}<extra></extra>\",\"legendgroup\":\" precision_test\",\"marker\":{\"color\":\"#ab63fa\",\"pattern\":{\"shape\":\"\"}},\"name\":\" precision_test\",\"offsetgroup\":\" precision_test\",\"orientation\":\"v\",\"showlegend\":true,\"x\":[\"Naive Bayes Bernoulli\",\"Naive Bayes Multinomial\",\"Regresion Logistica\",\"Ridge\"],\"xaxis\":\"x\",\"y\":[0.3678047588005215,0.44303427301438764,0.3993471386739048,0.4149152814861653],\"yaxis\":\"y\",\"type\":\"histogram\"},{\"alignmentgroup\":\"True\",\"bingroup\":\"x\",\"histfunc\":\"sum\",\"hovertemplate\":\"variable=recall_train<br>x=%{x}<br>sum of value=%{y}<extra></extra>\",\"legendgroup\":\"recall_train\",\"marker\":{\"color\":\"#FFA15A\",\"pattern\":{\"shape\":\"\"}},\"name\":\"recall_train\",\"offsetgroup\":\"recall_train\",\"orientation\":\"v\",\"showlegend\":true,\"x\":[\"Naive Bayes Bernoulli\",\"Naive Bayes Multinomial\",\"Regresion Logistica\",\"Ridge\"],\"xaxis\":\"x\",\"y\":[0.4990229869201187,0.3529105561649567,0.4191938500104906,0.4365286677086767],\"yaxis\":\"y\",\"type\":\"histogram\"},{\"alignmentgroup\":\"True\",\"bingroup\":\"x\",\"histfunc\":\"sum\",\"hovertemplate\":\"variable=recall_test<br>x=%{x}<br>sum of value=%{y}<extra></extra>\",\"legendgroup\":\"recall_test\",\"marker\":{\"color\":\"#19d3f3\",\"pattern\":{\"shape\":\"\"}},\"name\":\"recall_test\",\"offsetgroup\":\"recall_test\",\"orientation\":\"v\",\"showlegend\":true,\"x\":[\"Naive Bayes Bernoulli\",\"Naive Bayes Multinomial\",\"Regresion Logistica\",\"Ridge\"],\"xaxis\":\"x\",\"y\":[0.39129799827782097,0.3141287803269297,0.3472078736917072,0.355596388896885],\"yaxis\":\"y\",\"type\":\"histogram\"},{\"alignmentgroup\":\"True\",\"bingroup\":\"x\",\"histfunc\":\"sum\",\"hovertemplate\":\"variable=f1_train<br>x=%{x}<br>sum of value=%{y}<extra></extra>\",\"legendgroup\":\"f1_train\",\"marker\":{\"color\":\"#FF6692\",\"pattern\":{\"shape\":\"\"}},\"name\":\"f1_train\",\"offsetgroup\":\"f1_train\",\"orientation\":\"v\",\"showlegend\":true,\"x\":[\"Naive Bayes Bernoulli\",\"Naive Bayes Multinomial\",\"Regresion Logistica\",\"Ridge\"],\"xaxis\":\"x\",\"y\":[0.4897028086225538,0.3589048613698047,0.4466465892107335,0.465166773165419],\"yaxis\":\"y\",\"type\":\"histogram\"},{\"alignmentgroup\":\"True\",\"bingroup\":\"x\",\"histfunc\":\"sum\",\"hovertemplate\":\"variable=f1_test<br>x=%{x}<br>sum of value=%{y}<extra></extra>\",\"legendgroup\":\"f1_test\",\"marker\":{\"color\":\"#B6E880\",\"pattern\":{\"shape\":\"\"}},\"name\":\"f1_test\",\"offsetgroup\":\"f1_test\",\"orientation\":\"v\",\"showlegend\":true,\"x\":[\"Naive Bayes Bernoulli\",\"Naive Bayes Multinomial\",\"Regresion Logistica\",\"Ridge\"],\"xaxis\":\"x\",\"y\":[0.3767004731244388,0.305133101673724,0.35075388389760076,0.36120206573749913],\"yaxis\":\"y\",\"type\":\"histogram\"}],                        {\"template\":{\"data\":{\"bar\":[{\"error_x\":{\"color\":\"#2a3f5f\"},\"error_y\":{\"color\":\"#2a3f5f\"},\"marker\":{\"line\":{\"color\":\"#E5ECF6\",\"width\":0.5},\"pattern\":{\"fillmode\":\"overlay\",\"size\":10,\"solidity\":0.2}},\"type\":\"bar\"}],\"barpolar\":[{\"marker\":{\"line\":{\"color\":\"#E5ECF6\",\"width\":0.5},\"pattern\":{\"fillmode\":\"overlay\",\"size\":10,\"solidity\":0.2}},\"type\":\"barpolar\"}],\"carpet\":[{\"aaxis\":{\"endlinecolor\":\"#2a3f5f\",\"gridcolor\":\"white\",\"linecolor\":\"white\",\"minorgridcolor\":\"white\",\"startlinecolor\":\"#2a3f5f\"},\"baxis\":{\"endlinecolor\":\"#2a3f5f\",\"gridcolor\":\"white\",\"linecolor\":\"white\",\"minorgridcolor\":\"white\",\"startlinecolor\":\"#2a3f5f\"},\"type\":\"carpet\"}],\"choropleth\":[{\"colorbar\":{\"outlinewidth\":0,\"ticks\":\"\"},\"type\":\"choropleth\"}],\"contour\":[{\"colorbar\":{\"outlinewidth\":0,\"ticks\":\"\"},\"colorscale\":[[0.0,\"#0d0887\"],[0.1111111111111111,\"#46039f\"],[0.2222222222222222,\"#7201a8\"],[0.3333333333333333,\"#9c179e\"],[0.4444444444444444,\"#bd3786\"],[0.5555555555555556,\"#d8576b\"],[0.6666666666666666,\"#ed7953\"],[0.7777777777777778,\"#fb9f3a\"],[0.8888888888888888,\"#fdca26\"],[1.0,\"#f0f921\"]],\"type\":\"contour\"}],\"contourcarpet\":[{\"colorbar\":{\"outlinewidth\":0,\"ticks\":\"\"},\"type\":\"contourcarpet\"}],\"heatmap\":[{\"colorbar\":{\"outlinewidth\":0,\"ticks\":\"\"},\"colorscale\":[[0.0,\"#0d0887\"],[0.1111111111111111,\"#46039f\"],[0.2222222222222222,\"#7201a8\"],[0.3333333333333333,\"#9c179e\"],[0.4444444444444444,\"#bd3786\"],[0.5555555555555556,\"#d8576b\"],[0.6666666666666666,\"#ed7953\"],[0.7777777777777778,\"#fb9f3a\"],[0.8888888888888888,\"#fdca26\"],[1.0,\"#f0f921\"]],\"type\":\"heatmap\"}],\"heatmapgl\":[{\"colorbar\":{\"outlinewidth\":0,\"ticks\":\"\"},\"colorscale\":[[0.0,\"#0d0887\"],[0.1111111111111111,\"#46039f\"],[0.2222222222222222,\"#7201a8\"],[0.3333333333333333,\"#9c179e\"],[0.4444444444444444,\"#bd3786\"],[0.5555555555555556,\"#d8576b\"],[0.6666666666666666,\"#ed7953\"],[0.7777777777777778,\"#fb9f3a\"],[0.8888888888888888,\"#fdca26\"],[1.0,\"#f0f921\"]],\"type\":\"heatmapgl\"}],\"histogram\":[{\"marker\":{\"pattern\":{\"fillmode\":\"overlay\",\"size\":10,\"solidity\":0.2}},\"type\":\"histogram\"}],\"histogram2d\":[{\"colorbar\":{\"outlinewidth\":0,\"ticks\":\"\"},\"colorscale\":[[0.0,\"#0d0887\"],[0.1111111111111111,\"#46039f\"],[0.2222222222222222,\"#7201a8\"],[0.3333333333333333,\"#9c179e\"],[0.4444444444444444,\"#bd3786\"],[0.5555555555555556,\"#d8576b\"],[0.6666666666666666,\"#ed7953\"],[0.7777777777777778,\"#fb9f3a\"],[0.8888888888888888,\"#fdca26\"],[1.0,\"#f0f921\"]],\"type\":\"histogram2d\"}],\"histogram2dcontour\":[{\"colorbar\":{\"outlinewidth\":0,\"ticks\":\"\"},\"colorscale\":[[0.0,\"#0d0887\"],[0.1111111111111111,\"#46039f\"],[0.2222222222222222,\"#7201a8\"],[0.3333333333333333,\"#9c179e\"],[0.4444444444444444,\"#bd3786\"],[0.5555555555555556,\"#d8576b\"],[0.6666666666666666,\"#ed7953\"],[0.7777777777777778,\"#fb9f3a\"],[0.8888888888888888,\"#fdca26\"],[1.0,\"#f0f921\"]],\"type\":\"histogram2dcontour\"}],\"mesh3d\":[{\"colorbar\":{\"outlinewidth\":0,\"ticks\":\"\"},\"type\":\"mesh3d\"}],\"parcoords\":[{\"line\":{\"colorbar\":{\"outlinewidth\":0,\"ticks\":\"\"}},\"type\":\"parcoords\"}],\"pie\":[{\"automargin\":true,\"type\":\"pie\"}],\"scatter\":[{\"marker\":{\"colorbar\":{\"outlinewidth\":0,\"ticks\":\"\"}},\"type\":\"scatter\"}],\"scatter3d\":[{\"line\":{\"colorbar\":{\"outlinewidth\":0,\"ticks\":\"\"}},\"marker\":{\"colorbar\":{\"outlinewidth\":0,\"ticks\":\"\"}},\"type\":\"scatter3d\"}],\"scattercarpet\":[{\"marker\":{\"colorbar\":{\"outlinewidth\":0,\"ticks\":\"\"}},\"type\":\"scattercarpet\"}],\"scattergeo\":[{\"marker\":{\"colorbar\":{\"outlinewidth\":0,\"ticks\":\"\"}},\"type\":\"scattergeo\"}],\"scattergl\":[{\"marker\":{\"colorbar\":{\"outlinewidth\":0,\"ticks\":\"\"}},\"type\":\"scattergl\"}],\"scattermapbox\":[{\"marker\":{\"colorbar\":{\"outlinewidth\":0,\"ticks\":\"\"}},\"type\":\"scattermapbox\"}],\"scatterpolar\":[{\"marker\":{\"colorbar\":{\"outlinewidth\":0,\"ticks\":\"\"}},\"type\":\"scatterpolar\"}],\"scatterpolargl\":[{\"marker\":{\"colorbar\":{\"outlinewidth\":0,\"ticks\":\"\"}},\"type\":\"scatterpolargl\"}],\"scatterternary\":[{\"marker\":{\"colorbar\":{\"outlinewidth\":0,\"ticks\":\"\"}},\"type\":\"scatterternary\"}],\"surface\":[{\"colorbar\":{\"outlinewidth\":0,\"ticks\":\"\"},\"colorscale\":[[0.0,\"#0d0887\"],[0.1111111111111111,\"#46039f\"],[0.2222222222222222,\"#7201a8\"],[0.3333333333333333,\"#9c179e\"],[0.4444444444444444,\"#bd3786\"],[0.5555555555555556,\"#d8576b\"],[0.6666666666666666,\"#ed7953\"],[0.7777777777777778,\"#fb9f3a\"],[0.8888888888888888,\"#fdca26\"],[1.0,\"#f0f921\"]],\"type\":\"surface\"}],\"table\":[{\"cells\":{\"fill\":{\"color\":\"#EBF0F8\"},\"line\":{\"color\":\"white\"}},\"header\":{\"fill\":{\"color\":\"#C8D4E3\"},\"line\":{\"color\":\"white\"}},\"type\":\"table\"}]},\"layout\":{\"annotationdefaults\":{\"arrowcolor\":\"#2a3f5f\",\"arrowhead\":0,\"arrowwidth\":1},\"autotypenumbers\":\"strict\",\"coloraxis\":{\"colorbar\":{\"outlinewidth\":0,\"ticks\":\"\"}},\"colorscale\":{\"diverging\":[[0,\"#8e0152\"],[0.1,\"#c51b7d\"],[0.2,\"#de77ae\"],[0.3,\"#f1b6da\"],[0.4,\"#fde0ef\"],[0.5,\"#f7f7f7\"],[0.6,\"#e6f5d0\"],[0.7,\"#b8e186\"],[0.8,\"#7fbc41\"],[0.9,\"#4d9221\"],[1,\"#276419\"]],\"sequential\":[[0.0,\"#0d0887\"],[0.1111111111111111,\"#46039f\"],[0.2222222222222222,\"#7201a8\"],[0.3333333333333333,\"#9c179e\"],[0.4444444444444444,\"#bd3786\"],[0.5555555555555556,\"#d8576b\"],[0.6666666666666666,\"#ed7953\"],[0.7777777777777778,\"#fb9f3a\"],[0.8888888888888888,\"#fdca26\"],[1.0,\"#f0f921\"]],\"sequentialminus\":[[0.0,\"#0d0887\"],[0.1111111111111111,\"#46039f\"],[0.2222222222222222,\"#7201a8\"],[0.3333333333333333,\"#9c179e\"],[0.4444444444444444,\"#bd3786\"],[0.5555555555555556,\"#d8576b\"],[0.6666666666666666,\"#ed7953\"],[0.7777777777777778,\"#fb9f3a\"],[0.8888888888888888,\"#fdca26\"],[1.0,\"#f0f921\"]]},\"colorway\":[\"#636efa\",\"#EF553B\",\"#00cc96\",\"#ab63fa\",\"#FFA15A\",\"#19d3f3\",\"#FF6692\",\"#B6E880\",\"#FF97FF\",\"#FECB52\"],\"font\":{\"color\":\"#2a3f5f\"},\"geo\":{\"bgcolor\":\"white\",\"lakecolor\":\"white\",\"landcolor\":\"#E5ECF6\",\"showlakes\":true,\"showland\":true,\"subunitcolor\":\"white\"},\"hoverlabel\":{\"align\":\"left\"},\"hovermode\":\"closest\",\"mapbox\":{\"style\":\"light\"},\"paper_bgcolor\":\"white\",\"plot_bgcolor\":\"#E5ECF6\",\"polar\":{\"angularaxis\":{\"gridcolor\":\"white\",\"linecolor\":\"white\",\"ticks\":\"\"},\"bgcolor\":\"#E5ECF6\",\"radialaxis\":{\"gridcolor\":\"white\",\"linecolor\":\"white\",\"ticks\":\"\"}},\"scene\":{\"xaxis\":{\"backgroundcolor\":\"#E5ECF6\",\"gridcolor\":\"white\",\"gridwidth\":2,\"linecolor\":\"white\",\"showbackground\":true,\"ticks\":\"\",\"zerolinecolor\":\"white\"},\"yaxis\":{\"backgroundcolor\":\"#E5ECF6\",\"gridcolor\":\"white\",\"gridwidth\":2,\"linecolor\":\"white\",\"showbackground\":true,\"ticks\":\"\",\"zerolinecolor\":\"white\"},\"zaxis\":{\"backgroundcolor\":\"#E5ECF6\",\"gridcolor\":\"white\",\"gridwidth\":2,\"linecolor\":\"white\",\"showbackground\":true,\"ticks\":\"\",\"zerolinecolor\":\"white\"}},\"shapedefaults\":{\"line\":{\"color\":\"#2a3f5f\"}},\"ternary\":{\"aaxis\":{\"gridcolor\":\"white\",\"linecolor\":\"white\",\"ticks\":\"\"},\"baxis\":{\"gridcolor\":\"white\",\"linecolor\":\"white\",\"ticks\":\"\"},\"bgcolor\":\"#E5ECF6\",\"caxis\":{\"gridcolor\":\"white\",\"linecolor\":\"white\",\"ticks\":\"\"}},\"title\":{\"x\":0.05},\"xaxis\":{\"automargin\":true,\"gridcolor\":\"white\",\"linecolor\":\"white\",\"ticks\":\"\",\"title\":{\"standoff\":15},\"zerolinecolor\":\"white\",\"zerolinewidth\":2},\"yaxis\":{\"automargin\":true,\"gridcolor\":\"white\",\"linecolor\":\"white\",\"ticks\":\"\",\"title\":{\"standoff\":15},\"zerolinecolor\":\"white\",\"zerolinewidth\":2}}},\"xaxis\":{\"anchor\":\"y\",\"domain\":[0.0,1.0],\"title\":{\"text\":\"x\"}},\"yaxis\":{\"anchor\":\"x\",\"domain\":[0.0,1.0],\"title\":{\"text\":\"sum of value\"}},\"legend\":{\"title\":{\"text\":\"variable\"},\"tracegroupgap\":0},\"margin\":{\"t\":60},\"barmode\":\"group\"},                        {\"responsive\": true}                    ).then(function(){\n",
              "                            \n",
              "var gd = document.getElementById('918e97bd-97fb-45ec-9d42-40288a9e199a');\n",
              "var x = new MutationObserver(function (mutations, observer) {{\n",
              "        var display = window.getComputedStyle(gd).display;\n",
              "        if (!display || display === 'none') {{\n",
              "            console.log([gd, 'removed!']);\n",
              "            Plotly.purge(gd);\n",
              "            observer.disconnect();\n",
              "        }}\n",
              "}});\n",
              "\n",
              "// Listen for the removal of the full notebook cells\n",
              "var notebookContainer = gd.closest('#notebook-container');\n",
              "if (notebookContainer) {{\n",
              "    x.observe(notebookContainer, {childList: true});\n",
              "}}\n",
              "\n",
              "// Listen for the clearing of the current output cell\n",
              "var outputEl = gd.closest('.output');\n",
              "if (outputEl) {{\n",
              "    x.observe(outputEl, {childList: true});\n",
              "}}\n",
              "\n",
              "                        })                };                            </script>        </div>\n",
              "</body>\n",
              "</html>"
            ]
          },
          "metadata": {},
          "output_type": "display_data"
        }
      ],
      "source": [
        "fig2 = px.histogram(TFI_data_frame, x=['Naive Bayes Bernoulli','Naive Bayes Multinomial','Regresion Logistica', 'Ridge'], y=['accuracy_train','accuracy_test',' precision_train',' precision_test', 'recall_train','recall_test', 'f1_train','f1_test'], barmode='group')\n",
        "fig2.show()"
      ]
    },
    {
      "attachments": {},
      "cell_type": "markdown",
      "metadata": {
        "id": "tebDhZZSJhoN"
      },
      "source": [
        "\n",
        "  \n",
        "*   La grafica anterior nos muestra toda la información junta de las tablas de TF-IDF, donde estan juntos los valores de train y test en ese orden y en orden de 'accuracy_train','accuracy_test',' precision_train',' precision_test', 'recall_train','recall_test', 'f1_train','f1_test' bajo los 4 metodos utilizados\n",
        "\n",
        "\n",
        "*   Para analizar la información  proporcionada en los metodos de clasificación nos centramos en los datos test, por esta razón en el accuracy el mayor porcentaje es del clasificador de Ridge (0.662), en precision Naives Bayes Multinomial(0.443), recall el Naive Bayes Bernoulli (0.391) y f1 Naive Bayes Bernoulli(0.376), por lo tanto, el mejor clasificador para los datos TF-IDF estan en el clasficador Naive Bayes Bernoulli.\n",
        "\n",
        "* Los modelos de Bernoulli, Multinomial y Ridge son los que mejor manejan la clase de TF pues tienen una Precisión y un Recal nivelados mientras que la Regresion Logistica tiene mas dificutados haciendo la clasificacion para este conjunto de datos.\n",
        "\n",
        "* Note que el modelo Bernoulli es el que mejor maneja la clase de TF-iDF pues es el que tiene mejor Precision y mejor Recall. Por otro lado el Mutinomial no detecta la clase muy bien, pero cuando lo hace es altamente confiable pues tiene una alta Precision pero un bajo Recall para las TF-iDF.\n",
        "\n",
        "* Note que Bernoulli entre todos los modelos para TF-iDF fue el que peor Accuracy tuvo sobre sus datos de entrenamiento, pero a su vez fue el que mejor Recall tuvo sobre los datos de entrenamiento, esto quiere decir que fue el que mejor ajusto sus pesos durante la etapa de entrenamiento, ya que, una vez se le pasaron nuevamente los datos de entrenamiento, hizo una buena clasificación.\n",
        "\n",
        "*  En general se debe tener en cuenta que el modelo se evalúa con los datos de prueba, es por eso que se hace la segmentación en datos de entrenamiento y datos de prueba, dicho esto, el modelo que mejor desempeño tuvo fue el de Ridge, el caso que más llama la atención es en el modelo de Naive Bayes Bernoulli porque tiene el Accuracy más bajo de todos los modelos con los datos de entrenamiento, esto se puede dar ya que las separación entre los datos no es tan obvia, por lo que al momento de hacer la clasificación puede \"perderse\" más fácil el algoritmo, como solucion a esto en el caso cuantitativo se podría hacer una transformación de los datos, como por ejemplo aplicar una rotación en el plano cartesiano que maximice la variabilidad de los datos. En este caso, en el caso cualitativo, se podría buscar una forma de cuantificar los datos y aplicar dicha rotación en el plano. También esta la transformación logarítmica, es útil cuando los datos tienen una distribución asimétrica positiva (es decir, una cola hacia la derecha) y la varianza aumenta con el nivel de la variable. Al aplicar la transformación logarítmica a los datos, se reduce la magnitud de los valores extremos y se hace que la distribución sea más simétrica. Esto a menudo resulta en una mayor varianza, ya que los valores extremos pueden estar limitando la varianza de los datos originales, nuevamente, luego de cuantificar los datos.\n",
        "\n",
        "* De forma general se puede decir que los modelos de clasificación empleados no son los mejores para nuestro conjunto de datos, pues se esperaría que por lo menos una vez se le vuelva a pasar los datos de entrenamiento tuviera una precisión por arriba de 0.9, pero ninguno llega a estos números. Para mejorar los resultados se podría hacer una mejor segmentación de los datos y aumentar el tamaño de la muestra de los datos de entrenamiento.\n",
        "\n",
        "\n",
        "\n",
        "\n",
        "\n"
      ]
    },
    {
      "cell_type": "code",
      "execution_count": null,
      "metadata": {
        "id": "nGMTgKnrb9PQ"
      },
      "outputs": [],
      "source": []
    }
  ],
  "metadata": {
    "colab": {
      "provenance": []
    },
    "kernelspec": {
      "display_name": "Python 3",
      "language": "python",
      "name": "python3"
    },
    "language_info": {
      "codemirror_mode": {
        "name": "ipython",
        "version": 3
      },
      "file_extension": ".py",
      "mimetype": "text/x-python",
      "name": "python",
      "nbconvert_exporter": "python",
      "pygments_lexer": "ipython3",
      "version": "3.7.4"
    }
  },
  "nbformat": 4,
  "nbformat_minor": 0
}
